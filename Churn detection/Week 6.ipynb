{
 "cells": [
  {
   "cell_type": "markdown",
   "metadata": {},
   "source": [
    "### Построение экономической модели"
   ]
  },
  {
   "cell_type": "markdown",
   "metadata": {},
   "source": [
    "Определим следующие параметры:\n",
    "- <i>income_user</i> - сумма, которую приносит в среднем клиент за 1 месяц\n",
    "- <i>expense_user</i> - сумма, которую в среднем будем вкладывать в удержание пользователя\n",
    "- <i>prob_user</i> - вероятность, с которой пользователь примет наше предложение\n",
    "- <i>fraction_users</i> - доля пользователей (топ), которые будут участвовать в нашей кампании (и для которых предсказан отток)"
   ]
  },
  {
   "cell_type": "markdown",
   "metadata": {},
   "source": [
    "<i>1\\. Введите еще несколько параметров и на их основе постройте простую экономическую модель: формулу по которой в зависимости от значения исходных параметров вы сможете рассчитать экономический эффект от проведения кампании (= сколько денег вы получили (или наоборот потеряли) от проведения кампании по удержанию) с использование вашей модели.</i>"
   ]
  },
  {
   "cell_type": "markdown",
   "metadata": {},
   "source": [
    "##### Составим формулу для расчета экономического эффекта"
   ]
  },
  {
   "cell_type": "markdown",
   "metadata": {},
   "source": [
    "Возьмем для начального приближения нашей формулы предсказания, которая выдает наша модель для ушедших клиентов из обучающей выборки. Для этого возьмем предсказанные вероятности для этих пользователей и отсортируем по убыванию. Эти вероятности - вероятность (\"по мнению\" модели), что пользователь является уходящим. Помимо этого, помним, что вероятность того, что мнение модели верно можно оценить с помощью precision (для нашей модели = 0.6).  "
   ]
  },
  {
   "cell_type": "code",
   "execution_count": 1,
   "metadata": {
    "collapsed": false
   },
   "outputs": [
    {
     "name": "stdout",
     "output_type": "stream",
     "text": [
      "(2976L, 1L)\n",
      "[[ 0.98564577]\n",
      " [ 0.97623282]\n",
      " [ 0.95221959]\n",
      " [ 0.94390447]\n",
      " [ 0.9148099 ]\n",
      " [ 0.91295297]\n",
      " [ 0.90486545]\n",
      " [ 0.88972997]\n",
      " [ 0.8838761 ]\n",
      " [ 0.88028456]]\n"
     ]
    }
   ],
   "source": [
    "import pandas as pd\n",
    "churn_probs = pd.read_csv('churn_probs.txt', header=None).values\n",
    "print churn_probs.shape\n",
    "print churn_probs[:10]"
   ]
  },
  {
   "cell_type": "markdown",
   "metadata": {},
   "source": [
    "Введем также дополнительные параметры:\n",
    "- <i>n_users</i> - общее количество пользователей, для которых предсказан отток\n",
    "- <i>n_months</i> - среднее количество месяцев, которое клиент останется лояльным, если удержание сработает"
   ]
  },
  {
   "cell_type": "markdown",
   "metadata": {},
   "source": [
    "Определим начальные значения:"
   ]
  },
  {
   "cell_type": "code",
   "execution_count": 2,
   "metadata": {
    "collapsed": true
   },
   "outputs": [],
   "source": [
    "income_user = 300\n",
    "expense_user = 500\n",
    "prob_user = 0.6\n",
    "n_users = 2976\n",
    "n_months = 6\n",
    "precision = 0.6"
   ]
  },
  {
   "cell_type": "markdown",
   "metadata": {},
   "source": [
    "#### Формула"
   ]
  },
  {
   "cell_type": "markdown",
   "metadata": {},
   "source": [
    "В расчете на 1 клиента, для которого мы применяем удержание:\n",
    "- мы в любом случае теряем сумму в размере expense_user\n",
    "- мы получаем прибыль только при выполнении 3-х условий:<br>\n",
    "    1\\. Модель считает, что клиент является уходящим (поэтому мы собственно и применяем удержание).<br>\n",
    "    2\\. Модель не ошиблась, он действительно уходящий (иначе никакой прибыли нет, он бы и так остался)<br>\n",
    "    3\\. Удержание сработало на данного клиента"
   ]
  },
  {
   "cell_type": "code",
   "execution_count": 3,
   "metadata": {
    "collapsed": false
   },
   "outputs": [
    {
     "name": "stdout",
     "output_type": "stream",
     "text": [
      "Экономический эффект при удержании топ-1% клиентов: 2054.88\n"
     ]
    }
   ],
   "source": [
    "from math import *\n",
    "import numpy as np\n",
    "def effect(fraction_users):\n",
    "    n = int(round(fraction_users*n_users))\n",
    "    return round(np.sum(-expense_user + churn_probs[:n]*precision*prob_user*income_user*n_months), 2)\n",
    "print \"Экономический эффект при удержании топ-1% клиентов: {}\".format(effect(0.01))"
   ]
  },
  {
   "cell_type": "markdown",
   "metadata": {
    "collapsed": true
   },
   "source": [
    "<i>2\\. Исходя из введенных параметров проанализируйте, какой топ пользователей, склонных к оттоку согласно модели, оптимально выбрать для проведения кампании по удержанию для таким образом, чтобы экономический эффект был наибольшим?</i>"
   ]
  },
  {
   "cell_type": "code",
   "execution_count": 4,
   "metadata": {
    "collapsed": false
   },
   "outputs": [
    {
     "data": {
      "text/plain": [
       "<matplotlib.text.Text at 0xa1d7eb8>"
      ]
     },
     "execution_count": 4,
     "metadata": {},
     "output_type": "execute_result"
    },
    {
     "data": {
      "image/png": "[encoded data removed]",
      "text/plain": [
       "<matplotlib.figure.Figure at 0x95c9668>"
      ]
     },
     "metadata": {},
     "output_type": "display_data"
    }
   ],
   "source": [
    "#построим график для разных значений доли пользователей, к которым применяется удержание, и достигаемого экономического эффекта\n",
    "#дополнительно отфильтруем только прибыльную зону\n",
    "import matplotlib.pyplot as plt\n",
    "%matplotlib inline\n",
    "fractions = np.arange(0.01, 1, 0.01)\n",
    "effects = np.array(map(effect, fractions))\n",
    "fractions = fractions[effects>0]\n",
    "effects = effects[effects>0]\n",
    "plt.plot(fractions, effects)\n",
    "plt.xlabel('top-fraction')\n",
    "plt.ylabel('economical effect')"
   ]
  },
  {
   "cell_type": "code",
   "execution_count": 5,
   "metadata": {
    "collapsed": false
   },
   "outputs": [
    {
     "data": {
      "text/plain": [
       "array([ 2054.88,  2522.39,  1876.14,   489.81])"
      ]
     },
     "execution_count": 5,
     "metadata": {},
     "output_type": "execute_result"
    }
   ],
   "source": [
    "effects"
   ]
  },
  {
   "cell_type": "markdown",
   "metadata": {},
   "source": [
    "По графику видно, что выборе топ-2% пользователей для удержания достигается наибольший экономический эффект"
   ]
  },
  {
   "cell_type": "markdown",
   "metadata": {},
   "source": [
    "<i>3. Попробуйте усложнить экономическую модель. Добавьте еще несколько параметров и поиграйте с ними (например, измените стоимость удержания и вероятность, с которой пользователь принимает предложение), проанализируйте как меняется оптимальный размер топа?</i>"
   ]
  },
  {
   "cell_type": "code",
   "execution_count": 55,
   "metadata": {
    "collapsed": false,
    "scrolled": false
   },
   "outputs": [
    {
     "data": {
      "text/plain": [
       "[(100, 26522.39),\n",
       " (150, 23522.39),\n",
       " (200, 20522.39),\n",
       " (250, 17522.39),\n",
       " (300, 14522.39),\n",
       " (350, 11522.39),\n",
       " (400, 8522.39),\n",
       " (450, 5522.39),\n",
       " (500, 2522.39),\n",
       " (550, -477.61),\n",
       " (600, -3477.61),\n",
       " (650, -6477.61),\n",
       " (700, -9477.61),\n",
       " (750, -12477.61),\n",
       " (800, -15477.61),\n",
       " (850, -18477.61),\n",
       " (900, -21477.61),\n",
       " (950, -24477.61)]"
      ]
     },
     "execution_count": 55,
     "metadata": {},
     "output_type": "execute_result"
    },
    {
     "data": {
      "image/png": "[encoded data removed]",
      "text/plain": [
       "<matplotlib.figure.Figure at 0xbd818d0>"
      ]
     },
     "metadata": {},
     "output_type": "display_data"
    }
   ],
   "source": [
    "#попробуем поварьировать стоимость удержания при прочих параметрах неизменных\n",
    "expenses = np.arange(100, 1000, 50)\n",
    "effects = []\n",
    "plt.figure(figsize=(15,5))\n",
    "for expense in expenses:\n",
    "    expense_user = expense\n",
    "    effects.append(effect(0.02))\n",
    "plt.plot(expenses, effects)\n",
    "zip(expenses, effects)"
   ]
  },
  {
   "cell_type": "markdown",
   "metadata": {},
   "source": [
    "Получается при затратах на удержание, превышающих 500, экономический эффект становится отрицательным, размер топа нужно уменьшать. Посмотрим, например, какой топ выбирать при расходах равных 600."
   ]
  },
  {
   "cell_type": "code",
   "execution_count": 65,
   "metadata": {
    "collapsed": false
   },
   "outputs": [
    {
     "data": {
      "text/plain": [
       "[88.34, 84.38, 20.03, -82.79, -197.33]"
      ]
     },
     "execution_count": 65,
     "metadata": {},
     "output_type": "execute_result"
    }
   ],
   "source": [
    "expense_user = 600\n",
    "probs = np.arange(0.001, 0.1, 0.001)\n",
    "map(effect, probs)[:5]"
   ]
  },
  {
   "cell_type": "markdown",
   "metadata": {},
   "source": [
    "Таким образом, при расходах 600 мы уже должны выбирать топ размером не более 0.3%."
   ]
  },
  {
   "cell_type": "code",
   "execution_count": 77,
   "metadata": {
    "collapsed": true
   },
   "outputs": [],
   "source": [
    "expense_user = 500"
   ]
  },
  {
   "cell_type": "code",
   "execution_count": 58,
   "metadata": {
    "collapsed": false
   },
   "outputs": [
    {
     "data": {
      "text/plain": [
       "[(0.10000000000000001, -24579.6),\n",
       " (0.20000000000000001, -19159.2),\n",
       " (0.30000000000000004, -13738.8),\n",
       " (0.40000000000000002, -8318.4),\n",
       " (0.5, -2898.01),\n",
       " (0.59999999999999998, 2522.39),\n",
       " (0.70000000000000007, 7942.79),\n",
       " (0.80000000000000004, 13363.19),\n",
       " (0.90000000000000002, 18783.59)]"
      ]
     },
     "execution_count": 58,
     "metadata": {},
     "output_type": "execute_result"
    },
    {
     "data": {
      "image/png": "[encoded data removed]",
      "text/plain": [
       "<matplotlib.figure.Figure at 0xc2684e0>"
      ]
     },
     "metadata": {},
     "output_type": "display_data"
    }
   ],
   "source": [
    "#попробуем поварьировать вероятность, с которой пользователь принимает предложение\n",
    "probs = np.arange(0.1, 1, 0.1)\n",
    "effects = []\n",
    "plt.figure(figsize=(15,5))\n",
    "for prob in probs:\n",
    "    prob_user = prob\n",
    "    effects.append(effect(0.02))\n",
    "plt.plot(probs, effects)\n",
    "zip(probs, effects)"
   ]
  },
  {
   "cell_type": "markdown",
   "metadata": {},
   "source": [
    "Получается, что если вероятность удержания будет меньше 60%, экономический эффект становится отрицательным. Посмотрим на оптимальный размер топа пи вероятности, равной 59%."
   ]
  },
  {
   "cell_type": "code",
   "execution_count": 71,
   "metadata": {
    "collapsed": false
   },
   "outputs": [
    {
     "data": {
      "text/plain": [
       "[56.86, 22.97, -70.31, -201.41, -344.04]"
      ]
     },
     "execution_count": 71,
     "metadata": {},
     "output_type": "execute_result"
    }
   ],
   "source": [
    "prob_user = 0.59\n",
    "probs = np.arange(0.001, 0.1, 0.001)\n",
    "map(effect, probs)[:5]"
   ]
  },
  {
   "cell_type": "markdown",
   "metadata": {},
   "source": [
    "Таким образом, даже маленькое уменьшение вероятности удержания очень сильно меняет размер оптимального топа: при 59% - всего 0.2%."
   ]
  },
  {
   "cell_type": "code",
   "execution_count": 78,
   "metadata": {
    "collapsed": true
   },
   "outputs": [],
   "source": [
    "prob_user = 0.6"
   ]
  },
  {
   "cell_type": "markdown",
   "metadata": {},
   "source": [
    "<i>4\\. Всегда ли применение модели экономически оправданно? Приведите пример набора значений параметров, при которых применение модели перестает быть оправданным.</i>"
   ]
  },
  {
   "cell_type": "markdown",
   "metadata": {},
   "source": [
    "Как уже было показано выше, при увеличении доли клиентов для удержания больше 4% или увеличении расходов на удержание больше 500 при том же размере топа, или уменьшении вероятности удержания меньше 60% при том же размере топа применение модели становится неоправданным."
   ]
  },
  {
   "cell_type": "markdown",
   "metadata": {},
   "source": [
    "<i>5\\. Оцените изменение экономического эффекта от проведения кампании по удержанию при увеличении качества модели на 1%? На 3%? При ответе на вопрос укажите, по какой метрике вы оцениваете качество.</i>"
   ]
  },
  {
   "cell_type": "markdown",
   "metadata": {},
   "source": [
    "Посмотрим как измениться экономический эффект при увеличении precision на 1% и на 3%."
   ]
  },
  {
   "cell_type": "code",
   "execution_count": 84,
   "metadata": {
    "collapsed": false
   },
   "outputs": [
    {
     "name": "stdout",
     "output_type": "stream",
     "text": [
      "[2522.39, 3064.43, 4148.51]\n",
      "0.214891432332\n",
      "0.644674296996\n"
     ]
    }
   ],
   "source": [
    "precisions = [0.6, 0.61, 0.63]\n",
    "effects = []\n",
    "for prec in precisions:\n",
    "    precision = prec\n",
    "    effects.append(effect(0.02))\n",
    "print effects\n",
    "print (effects[1]-effects[0])/float(effects[0])\n",
    "print (effects[2]-effects[0])/float(effects[0])"
   ]
  },
  {
   "cell_type": "markdown",
   "metadata": {},
   "source": [
    "Вывод: при увеличении на 1% экономический эффект увеличивается на 21%, при увеличении на 3% - на 64%."
   ]
  },
  {
   "cell_type": "markdown",
   "metadata": {},
   "source": [
    "<i>6\\. Как вы думаете, является ли экономически оправданным вложение средств в улучшение качества модели? На сколько нужно улучшить модель, чтобы это качественно сказалось на экономическом эффекте от удержания?</i>"
   ]
  },
  {
   "cell_type": "markdown",
   "metadata": {},
   "source": [
    "Поскольку экономический эффект увеличивается на 21% при увеличении качества на 1%, вложение средств даже в такое малое увеличение качества является экономически оправданным."
   ]
  }
 ],
 "metadata": {
  "anaconda-cloud": {},
  "kernelspec": {
   "display_name": "Python [default]",
   "language": "python",
   "name": "python2"
  },
  "language_info": {
   "codemirror_mode": {
    "name": "ipython",
    "version": 2
   },
   "file_extension": ".py",
   "mimetype": "text/x-python",
   "name": "python",
   "nbconvert_exporter": "python",
   "pygments_lexer": "ipython2",
   "version": "2.7.12"
  }
 },
 "nbformat": 4,
 "nbformat_minor": 1
}
