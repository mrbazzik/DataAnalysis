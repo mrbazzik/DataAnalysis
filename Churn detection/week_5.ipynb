{
 "cells": [
  {
   "cell_type": "markdown",
   "metadata": {},
   "source": [
    "# Peer-graded Assignment: Эксперименты с моделью\n",
    "\n",
    "На прошлой неделе вы поучаствовали в соревновании на kaggle и, наверняка, большинство успешно справилось с прохождением baseline, а значит пора двигаться дальше - заняться оптимизацией модели, провести серию экспериментов и построить сильное финальное решения.\n",
    "\n",
    "В этом задании вам нужно провести ряд эскпериментов, оценить качество полученных в процессе экспериментирования моделей и выбрать лучшее решение. "
   ]
  },
  {
   "cell_type": "markdown",
   "metadata": {},
   "source": [
    "Задание будет оцениваться на основании загруженного jupyther notebook и развернутых ответов на поставленные вопросы."
   ]
  },
  {
   "cell_type": "markdown",
   "metadata": {},
   "source": [
    "## Инструкции"
   ]
  },
  {
   "cell_type": "markdown",
   "metadata": {},
   "source": [
    "1\\. Начнем с простого. Давайте оценим как много объектов действительно нужно для построения качественной модели. Для обучения доступна достаточно большая выборка и может так оказаться, что начиная с некоторого момента рост размера обучающей выборки перестает влиять на качество модели. Постройте кривые обучения, обучая модель на выборках разного размера начиная с небольшого количество объектов в обучающей выборке и постепенно наращивая её размер с некоторым шагом. Обратите внимание на `sklearn.model_selection.learning_curve`"
   ]
  },
  {
   "cell_type": "code",
   "execution_count": 1,
   "metadata": {
    "collapsed": true
   },
   "outputs": [],
   "source": [
    "#загрузка данных\n",
    "import pandas as pd\n",
    "data_source = pd.read_csv('../Data/orange_small_churn_data.txt')\n",
    "labels = pd.read_csv('../Data/orange_small_churn_labels.txt', header=None)\n",
    "data_source['label'] = labels"
   ]
  },
  {
   "cell_type": "code",
   "execution_count": 2,
   "metadata": {
    "collapsed": false
   },
   "outputs": [],
   "source": [
    "# произведем преобразование и фильтрацию признаков (на основе прошлых недель)\n",
    "\n",
    "from sklearn.preprocessing import StandardScaler, LabelEncoder\n",
    "import numpy as np\n",
    "\n",
    "def preprocess(data_train, filling_method, cat_method='dummy'):\n",
    "    data = data_train.copy()\n",
    "    #Отбросим признаки, у которых больше половины значений незаполнены\n",
    "    bad_features = data.columns[data.isnull().mean(axis=0)>0.5]\n",
    "    data = data.drop(bad_features, axis=1)\n",
    "    \n",
    "    #Рассмотрим отдельно вещественные и категориальные признаки\n",
    "    all_real_features = [\"Var\"+str(i) for i in xrange(1, 191)]\n",
    "    real_features = data.columns[data.columns.isin(all_real_features)]\n",
    "    cat_features = data.columns[~data.columns.isin(all_real_features+['label'])]\n",
    "    \n",
    "    #В вещественных признаках заменим пропуски на средние значения признаков и произведем стандартизацию признаков\n",
    "    filling_values = filling_method(data[real_features], axis=0)\n",
    "    data[real_features] = data[real_features].fillna(filling_values)\n",
    "    sc = StandardScaler()\n",
    "    data[real_features] = sc.fit_transform(data[real_features])\n",
    "    \n",
    "    #В категориальных признаках отбросим те из них, которые имеют слишком много категорий\n",
    "    num_cat = np.array([np.unique(data[feat]).shape[0] for feat in cat_features])\n",
    "    bad_cat_features = cat_features[num_cat>100]\n",
    "    data = data.drop(bad_cat_features, axis=1)\n",
    "    cat_features = cat_features[~cat_features.isin(bad_cat_features)]\n",
    "    \n",
    "    #В категориальных признаках произведем dummy кодирование, при этом пропуск будем расценивать как еще одну категорию\n",
    "    if cat_method == 'dummy':\n",
    "        data = pd.get_dummies(data, dummy_na=True, columns = cat_features, drop_first=True)\n",
    "    elif cat_method == 'le':\n",
    "        le = LabelEncoder()\n",
    "        for feat in cat_features:\n",
    "            data[feat] = le.fit_transform(data[feat])\n",
    "    \n",
    "    #добавим еще тройку категориальных признаков, которые (как мы ранее выяснили) имеют высокую корреляция с целевым признаком. Но применим к ним LabelEncoder, поскольку они имеют слишком много категорий\n",
    "    corr_cat_features = ['Var199', 'Var216', 'Var192']\n",
    "    le = LabelEncoder()\n",
    "    for feat in corr_cat_features:\n",
    "        data_train[feat] = data_train[feat].fillna('NaN')\n",
    "        data[feat] = le.fit_transform(data_train[feat])\n",
    "    \n",
    "    return data\n",
    "\n",
    "data = preprocess(data_source, pd.DataFrame.mean)"
   ]
  },
  {
   "cell_type": "code",
   "execution_count": 3,
   "metadata": {
    "collapsed": false
   },
   "outputs": [
    {
     "data": {
      "text/plain": [
       "(40000, 388)"
      ]
     },
     "execution_count": 3,
     "metadata": {},
     "output_type": "execute_result"
    }
   ],
   "source": [
    "X = data.drop('label', axis = 1)\n",
    "y = data.label\n",
    "X.shape"
   ]
  },
  {
   "cell_type": "code",
   "execution_count": 4,
   "metadata": {
    "collapsed": false
   },
   "outputs": [
    {
     "name": "stderr",
     "output_type": "stream",
     "text": [
      "C:\\Program Files\\Anaconda2\\lib\\site-packages\\sklearn\\cross_validation.py:41: DeprecationWarning: This module was deprecated in version 0.18 in favor of the model_selection module into which all the refactored classes and functions are moved. Also note that the interface of the new CV iterators are different from that of this module. This module will be removed in 0.20.\n",
      "  \"This module will be removed in 0.20.\", DeprecationWarning)\n"
     ]
    },
    {
     "name": "stdout",
     "output_type": "stream",
     "text": [
      "PR AUC for logistic regression: 0.125507083078\n"
     ]
    }
   ],
   "source": [
    "#построим кривую обучения\n",
    "from sklearn.model_selection import learning_curve\n",
    "\n",
    "train_sizes = np.arange(0.05, 1.05, 0.05)\n",
    "\n",
    "#в качестве классификатора возьмем LogisticRegression\n",
    "from sklearn.metrics import average_precision_score, make_scorer\n",
    "from sklearn.linear_model import LogisticRegression\n",
    "from sklearn.cross_validation import cross_val_score, StratifiedKFold\n",
    "\n",
    "lr = LogisticRegression()\n",
    "scorer = make_scorer(average_precision_score, needs_threshold=True)\n",
    "\n",
    "#сначала оценим качество модели на всей выборке\n",
    "scores = cross_val_score(lr, X, y, scoring=scorer, cv=StratifiedKFold(y, n_folds=5))\n",
    "print \"PR AUC for logistic regression: {}\".format(np.mean(scores))\n",
    "\n",
    "#построим кривую обучения\n",
    "t_scores = learning_curve(lr, X, y, train_sizes=train_sizes, scoring=scorer, cv=StratifiedKFold(y, n_folds=5))"
   ]
  },
  {
   "cell_type": "code",
   "execution_count": 5,
   "metadata": {
    "collapsed": false
   },
   "outputs": [
    {
     "data": {
      "text/plain": [
       "[<matplotlib.lines.Line2D at 0xbc79048>]"
      ]
     },
     "execution_count": 5,
     "metadata": {},
     "output_type": "execute_result"
    },
    {
     "data": {
      "image/png": "[encoded data removed]",
      "text/plain": [
       "<matplotlib.figure.Figure at 0xcedf588>"
      ]
     },
     "metadata": {},
     "output_type": "display_data"
    }
   ],
   "source": [
    "import matplotlib.pyplot as plt\n",
    "%matplotlib inline\n",
    "\n",
    "plt.figure(figsize=(12,8))\n",
    "plt.plot(t_scores[0], t_scores[1].mean(axis=1))\n",
    "plt.plot(t_scores[0], t_scores[2].mean(axis=1))"
   ]
  },
  {
   "cell_type": "markdown",
   "metadata": {},
   "source": [
    "Вывод: по данным кривым нельзя с уверенностью сказать, что можно обучаться по меньшему размеру выборки. Кривые до конца продолжают сближение, а значит будем использовать для обучения всю выборку."
   ]
  },
  {
   "cell_type": "markdown",
   "metadata": {},
   "source": [
    "2\\. Часто несбалансированные по классам выборки приводят к различным проблемам при обучении моделей. Давайте попробуем по-разному обработать выборку, поиграть с распределением объектов по классам и сделать выводы о том, как соотношение классов влияет на качество модели."
   ]
  },
  {
   "cell_type": "markdown",
   "metadata": {},
   "source": [
    "2.1\\. Задайте веса объектам так, чтобы соотношение классов с учетом весов объектов изменилось. Попробуйте не менее трёх различных вариантов весов. Меняются ли результаты классификации? Как это сказывается на качестве модели? Какой вариант выглядит наиболее оптимальным с точки зрения качества?"
   ]
  },
  {
   "cell_type": "code",
   "execution_count": 6,
   "metadata": {
    "collapsed": false
   },
   "outputs": [
    {
     "data": {
      "text/plain": [
       "-1    37024\n",
       " 1     2976\n",
       "Name: label, dtype: int64"
      ]
     },
     "execution_count": 6,
     "metadata": {},
     "output_type": "execute_result"
    }
   ],
   "source": [
    "counts = y.value_counts()\n",
    "counts"
   ]
  },
  {
   "cell_type": "code",
   "execution_count": 7,
   "metadata": {
    "collapsed": false
   },
   "outputs": [
    {
     "name": "stdout",
     "output_type": "stream",
     "text": [
      "PR AUC for logistic regression with weights #1: 0.12594177546\n",
      "PR AUC for logistic regression with weights #2: 0.126862605297\n",
      "PR AUC for logistic regression with weights #3: 0.12593761923\n"
     ]
    }
   ],
   "source": [
    "# 1 вариант. Добавим увеличивающие веса только для объектов класса 1\n",
    "sample_weights1 = np.ones(data.shape[0])\n",
    "sample_weights1[data.label==1] = float(counts[-1])/counts[1]\n",
    "scores = cross_val_score(lr, X, y, scoring=scorer, cv=StratifiedKFold(y, n_folds=5), fit_params={'sample_weight': sample_weights1})\n",
    "print \"PR AUC for logistic regression with weights #1: {}\".format(np.mean(scores))\n",
    "\n",
    "# 2 вариант. Добавим уменьшающие веса только для объектов класса -1\n",
    "sample_weights2 = np.ones(data.shape[0])\n",
    "sample_weights2[data.label==-1] = float(counts[1])/counts[-1]\n",
    "scores = cross_val_score(lr, X, y, scoring=scorer, cv=StratifiedKFold(y, n_folds=5), fit_params={'sample_weight': sample_weights2})\n",
    "print \"PR AUC for logistic regression with weights #2: {}\".format(np.mean(scores))\n",
    "\n",
    "# 3 вариант. Добавим веса для объектов обоих классов обратно пропрционально их долям в выборке\n",
    "sample_weights3 = np.ones(data.shape[0])\n",
    "sample_weights3[data.label==-1] = 1./np.mean(y==-1)\n",
    "sample_weights3[data.label==1] = 1./np.mean(y==1)\n",
    "scores = cross_val_score(lr, X, y, scoring=scorer, cv=StratifiedKFold(y, n_folds=5), fit_params={'sample_weight': sample_weights3})\n",
    "print \"PR AUC for logistic regression with weights #3: {}\".format(np.mean(scores))"
   ]
  },
  {
   "cell_type": "markdown",
   "metadata": {},
   "source": [
    "В результате применения весов качество чуть-чуть подросло, 2 вариант выглядит наиболее оптимальным."
   ]
  },
  {
   "cell_type": "markdown",
   "metadata": {},
   "source": [
    "2.2\\. Примените к выборке технологию undersampling: для этого нужно убрать из обучения некоторое количество объектов большего класса таким образом, чтобы соотношение классов изменилось. Попробуйте не менее трёх различных вариантов undersampling (варианты могут отличаться как по количество отфильтрованных объектов, так и по принципу выборка объектов для отсеивания из выборки). Меняются ли результаты классификации? Как это сказывается на качестве модели? Какой вариант выглядит наиболее оптимальным с точки зрения качества?"
   ]
  },
  {
   "cell_type": "code",
   "execution_count": 9,
   "metadata": {
    "collapsed": false
   },
   "outputs": [
    {
     "name": "stdout",
     "output_type": "stream",
     "text": [
      "PR AUC for logistic regression with random under-sampling: 0.304379469718\n",
      "PR AUC for logistic regression with under-sampling with nearest neighbours: 0.375370447283\n",
      "PR AUC for logistic regression with tomek links under-sampling: 0.0683086522489\n"
     ]
    }
   ],
   "source": [
    "#Попробуем удалить объекты большего класса так, чтобы доля меньшего класса стала хотя бы 20%\n",
    "from imblearn.under_sampling import RandomUnderSampler, NearMiss, TomekLinks\n",
    "\n",
    "#1 вариант. Удаляем случайным образом\n",
    "rs = RandomUnderSampler(random_state=42, ratio={-1: counts[1]*4, 1: counts[1]})\n",
    "X_rs, y_rs = rs.fit_sample(X, y)\n",
    "scores = cross_val_score(lr, X_rs, y_rs, scoring=scorer, cv=StratifiedKFold(y_rs, n_folds=5))\n",
    "print \"PR AUC for logistic regression with random under-sampling: {}\".format(np.mean(scores))\n",
    "\n",
    "#2 вариант. Удаляем те объекты, которые не согласуются со своими соседями\n",
    "nm = NearMiss(ratio={-1: counts[1]*4, 1: counts[1]})\n",
    "X_nm, y_nm = nm.fit_sample(X, y)\n",
    "scores = cross_val_score(lr, X_nm, y_nm, scoring=scorer, cv=StratifiedKFold(y_nm, n_folds=5))\n",
    "print \"PR AUC for logistic regression with under-sampling with nearest neighbours: {}\".format(np.mean(scores))\n",
    "\n",
    "#3 вариант. Используем метод TomekLinks. При этом методе удаляются те объекты большего класса, для которых ближашим по расстоянию является объект другого класса\n",
    "tl = TomekLinks(random_state=42, ratio={-1: counts[1]*4, 1: counts[1]})\n",
    "X_tl, y_tl = tl.fit_sample(X, y)\n",
    "scores = cross_val_score(lr, X_tl, y_tl, scoring=scorer, cv=StratifiedKFold(y_tl, n_folds=5))\n",
    "print \"PR AUC for logistic regression with tomek links under-sampling: {}\".format(np.mean(scores))"
   ]
  },
  {
   "cell_type": "markdown",
   "metadata": {},
   "source": [
    "Вывод: метод NearMiss выглядит наиболее оптимальным с точки зрения качества"
   ]
  },
  {
   "cell_type": "markdown",
   "metadata": {},
   "source": [
    "3\\. Теперь перейдем к работе с признаками. Ранее вы реализовали несколько стратегий для обработки пропущенных значений. Сравните эти стратегии между собой с помощью оценки качества моделей кросс-валидации, построенных на датасетах с использованием различных стратегий. Как обработка пропущенных значений сказывается на качестве модели? Какой вариант выглядит наиболее оптимальным с точки зрения качества?"
   ]
  },
  {
   "cell_type": "code",
   "execution_count": 10,
   "metadata": {
    "collapsed": false
   },
   "outputs": [
    {
     "name": "stdout",
     "output_type": "stream",
     "text": [
      "PR AUC for logistic regression with medians: 0.125231604934\n",
      "PR AUC for logistic regression with modes: 0.125606156456\n"
     ]
    }
   ],
   "source": [
    "# Ранее мы заполняли пропущенные значения средним, теперь попробуем заполнять медианой и модой, сравним качество с полученным ранее\n",
    "data_med = preprocess(data_source, pd.DataFrame.median)\n",
    "X_med = data_med.drop('label', axis = 1)\n",
    "y_med = data_med.label\n",
    "scores = cross_val_score(lr, X_med, y_med, scoring=scorer, cv=StratifiedKFold(y_med, n_folds=5))\n",
    "print \"PR AUC for logistic regression with medians: {}\".format(np.mean(scores))\n",
    "\n",
    "data_mod = preprocess(data_source, lambda data, axis: pd.DataFrame.mode(data, axis=axis, numeric_only=True).iloc[0])\n",
    "X_mod = data_mod.drop('label', axis = 1)\n",
    "y_mod = data_mod.label\n",
    "scores = cross_val_score(lr, X_mod, y_mod, scoring=scorer, cv=StratifiedKFold(y_mod, n_folds=5))\n",
    "print \"PR AUC for logistic regression with modes: {}\".format(np.mean(scores))"
   ]
  },
  {
   "cell_type": "markdown",
   "metadata": {},
   "source": [
    "Вывод: качество примерно одинаковое, может использовать вариант с заполнением модой."
   ]
  },
  {
   "cell_type": "markdown",
   "metadata": {},
   "source": [
    "4\\. Также вы уже реализовали несколько стратегий для обработки категориальных признаков. Сравните эти стратегии между собой с помощью оценки качества моделей по кросс-валидации, построенных на датасетах с использованием различных стратегий. Как обработка категориальных признаков сказывается на качестве модели? Какой вариант выглядит наиболее оптимальным с точки зрения качества?"
   ]
  },
  {
   "cell_type": "code",
   "execution_count": 11,
   "metadata": {
    "collapsed": false
   },
   "outputs": [
    {
     "name": "stdout",
     "output_type": "stream",
     "text": [
      "PR AUC for logistic regression with label encoder for all categorical data: 0.115350800314\n"
     ]
    }
   ],
   "source": [
    "#Ранее мы обрабатывали большинство категориальных признаков (кроме имеющих большое количество категорий) с помощью dummy кодирования.\n",
    "#Теперь попробуем вместо этого применить к ним LabelEncoder.\n",
    "data_le = preprocess(data_source, lambda data, axis: pd.DataFrame.mode(data, axis=axis, numeric_only=True).iloc[0], cat_method='le')\n",
    "X_le = data_le.drop('label', axis = 1)\n",
    "y_le = data_le.label\n",
    "scores = cross_val_score(lr, X_le, y_le, scoring=scorer, cv=StratifiedKFold(y_le, n_folds=5))\n",
    "print \"PR AUC for logistic regression with label encoder for all categorical data: {}\".format(np.mean(scores))"
   ]
  },
  {
   "cell_type": "markdown",
   "metadata": {},
   "source": [
    "Вывод: этот метод дает хуже результат, поэтому по-прежнему будем использовать Dummy-кодирование."
   ]
  },
  {
   "cell_type": "markdown",
   "metadata": {},
   "source": [
    "5\\. Все ли признаки оказались полезными для построения моделей? Проведите процедуру отбора признаков, попробуйте разные варианты отбора (обратите внимание на модуль `sklearn.feature_selection`). Например, можно выбрасывать случайные признаки или строить отбор на основе l1-регуляризации - отфильтровать из обучения признаки, которые получат нулевой вес при построении регрессии с l1-регуляризацией (`sklearn.linear_model.Lasso`). И всегда можно придумать что-то своё=) Попробуйте как минимум 2 различные стратегии, сравните результаты. Помог ли отбор признаков улучшить качество модели? Поясните свой ответ."
   ]
  },
  {
   "cell_type": "code",
   "execution_count": 13,
   "metadata": {
    "collapsed": false
   },
   "outputs": [
    {
     "name": "stdout",
     "output_type": "stream",
     "text": [
      "(40000L, 34L)\n",
      "PR AUC for logistic regression with feature selection with l1-regularization: 0.12625092982\n",
      "(40000L, 54L)\n",
      "PR AUC for logistic regression with feature selection by feature importances: 0.122562053906\n"
     ]
    }
   ],
   "source": [
    "from sklearn.feature_selection import SelectFromModel\n",
    "from sklearn.svm import LinearSVC\n",
    "from sklearn.ensemble import ExtraTreesClassifier\n",
    "\n",
    "#отберем признаки с помощью l1-регуляризация, в качестве модели для отбора возьмем LinearSVC\n",
    "lsvc = LinearSVC(C=0.01, penalty=\"l1\", dual=False).fit(X, y)\n",
    "model = SelectFromModel(lsvc, prefit=True)\n",
    "X_l1 = model.transform(X)\n",
    "print X_l1.shape\n",
    "scores = cross_val_score(lr, X_l1, y, scoring=scorer, cv=StratifiedKFold(y, n_folds=5))\n",
    "print \"PR AUC for logistic regression with feature selection with l1-regularization: {}\".format(np.mean(scores))\n",
    "\n",
    "#отберем признаки с помощью расчета важности признаков, в качестве модели для отбора возьмем ExtraTreesClassifier \n",
    "clf = ExtraTreesClassifier()\n",
    "clf = clf.fit(X, y)\n",
    "model = SelectFromModel(clf, prefit=True)\n",
    "X_fi = model.transform(X)\n",
    "print X_fi.shape               \n",
    "scores = cross_val_score(lr, X_fi, y, scoring=scorer, cv=StratifiedKFold(y, n_folds=5))\n",
    "print \"PR AUC for logistic regression with feature selection by feature importances: {}\".format(np.mean(scores))"
   ]
  },
  {
   "cell_type": "markdown",
   "metadata": {},
   "source": [
    "Вывод: предварительный отбор признаков с помощью модели с l1-регуляризацией дает чуть более высокое качество"
   ]
  },
  {
   "cell_type": "markdown",
   "metadata": {},
   "source": [
    "6\\. Подберите оптимальные параметры модели. Обратите внимание, что в зависимости от того, как вы обработали исходные данные, сделали ли балансировку классов, сколько объектов оставили в обучающей выборке и др. оптимальные значения параметров могут меняться. Возьмите наилучшее из ваших решений на текущий момент и проведите процедуру подбора параметров модели (обратите внимание на `sklearn.model_selection.GridSearchCV`) Как подбор параметров повлиял на качество модели?"
   ]
  },
  {
   "cell_type": "code",
   "execution_count": 17,
   "metadata": {
    "collapsed": false
   },
   "outputs": [
    {
     "data": {
      "text/plain": [
       "GridSearchCV(cv=sklearn.cross_validation.StratifiedKFold(labels=[-1 -1 ...,  1  1], n_folds=5, shuffle=False, random_state=None),\n",
       "       error_score='raise',\n",
       "       estimator=LogisticRegression(C=1.0, class_weight=None, dual=False, fit_intercept=True,\n",
       "          intercept_scaling=1, max_iter=100, multi_class='ovr', n_jobs=1,\n",
       "          penalty='l2', random_state=None, solver='liblinear', tol=0.0001,\n",
       "          verbose=0, warm_start=False),\n",
       "       fit_params=None, iid=True, n_jobs=1,\n",
       "       param_grid={'penalty': ['l1', 'l2'], 'C': [0.1, 0.2, 0.5, 0.7, 1, 5]},\n",
       "       pre_dispatch='2*n_jobs', refit=True, return_train_score=True,\n",
       "       scoring=make_scorer(average_precision_score, needs_threshold=True),\n",
       "       verbose=0)"
      ]
     },
     "execution_count": 17,
     "metadata": {},
     "output_type": "execute_result"
    }
   ],
   "source": [
    "#возьмем заполнение пропусков модой, сделаем undersampling методом NearMiss, l1-регуляризация будет одним из значений подбираемого параметра\n",
    "from sklearn.model_selection import GridSearchCV\n",
    "params = {'penalty': ['l1', 'l2'], 'C': [0.1, 0.2, 0.5, 0.7, 1, 5]}\n",
    "nm = NearMiss(ratio={-1: counts[1]*4, 1: counts[1]})\n",
    "X_mod_nm, y_mod_nm = nm.fit_sample(X_mod, y_mod)\n",
    "gs = GridSearchCV(lr, params, scoring=scorer, cv=StratifiedKFold(y_mod_nm, n_folds=5))\n",
    "gs.fit(X_mod_nm, y_mod_nm)"
   ]
  },
  {
   "cell_type": "code",
   "execution_count": 18,
   "metadata": {
    "collapsed": false
   },
   "outputs": [
    {
     "data": {
      "text/plain": [
       "{'C': 0.5, 'penalty': 'l1'}"
      ]
     },
     "execution_count": 18,
     "metadata": {},
     "output_type": "execute_result"
    }
   ],
   "source": [
    "gs.best_params_"
   ]
  },
  {
   "cell_type": "code",
   "execution_count": 19,
   "metadata": {
    "collapsed": false
   },
   "outputs": [
    {
     "data": {
      "text/plain": [
       "0.39162904009964022"
      ]
     },
     "execution_count": 19,
     "metadata": {},
     "output_type": "execute_result"
    }
   ],
   "source": [
    "gs.best_score_"
   ]
  },
  {
   "cell_type": "markdown",
   "metadata": {},
   "source": [
    "Вывод: подбор параметров значительно улучшил качество модели"
   ]
  },
  {
   "cell_type": "markdown",
   "metadata": {},
   "source": [
    "7\\. Предложите методику оценки того, какие признаки внесли наибольший вклад в модель (например, это могут быть веса в случае регрессии, а также большое количество моделей реализуют метод `feature_importances_` - оценка важности признаков). На основе предложенной методики проанализируйте, какие признаки внесли больший вклад в модель, а какие меньший?"
   ]
  },
  {
   "cell_type": "code",
   "execution_count": 42,
   "metadata": {
    "collapsed": false
   },
   "outputs": [
    {
     "name": "stdout",
     "output_type": "stream",
     "text": [
      "Most important features:\n",
      "\n",
      "Var210_g5HH: 1.95021395213\n",
      "Var212_h0lfDKh52u4GP: 1.47352739199\n",
      "Var226_me1d: -1.26707048007\n",
      "Var212_PWD40mS: 1.22019580528\n",
      "Var212_Ie_5MZs: 0.932134347336\n",
      "Var221_JIiEFBU: -0.903148858056\n",
      "Var212_UbxQ8lZ: 0.889713491492\n",
      "Var204_4nnx: -0.883243775022\n",
      "Var212_4ylQpLr46xum2hHQ: -0.812099706081\n",
      "Var204_Ew1Q: -0.738771740188\n",
      "\n",
      "Least important features:\n",
      "\n",
      "Var163: 0.00449690133746\n",
      "Var204_YePk: -0.00338446326824\n",
      "Var204_7WNq: 0.00298641753184\n",
      "Var57: -0.00281709537558\n",
      "Var204_FbIm: 0.00278961485215\n",
      "Var109: -0.00231954295506\n",
      "Var216: -0.00113882234845\n",
      "Var192: 0.00059953779604\n",
      "Var228_F2FyR07IdsN7I: 0.000104100658836\n",
      "Var199: 5.12064384241e-06\n"
     ]
    }
   ],
   "source": [
    "#поскольку мы используем LogisticRegression, в качестве оценки вклада признаков будем использовать коэффициенты перед признаками\n",
    "coefs = gs.best_estimator_.coef_[0][gs.best_estimator_.coef_[0]!=0]\n",
    "cols = data_mod.drop('label', axis=1).columns[gs.best_estimator_.coef_[0]!=0]\n",
    "coefs = sorted(zip(coefs, cols), key = lambda x: abs(x[0]), reverse=True)\n",
    "\n",
    "#выведем 10 признаков, которые вносят наибольший вклад\n",
    "print \"Most important features:\\n\"\n",
    "for el in coefs[:10]:\n",
    "    print \"{}: {}\".format(el[1], el[0])\n",
    "\n",
    "#выведем 10 признаков, которые вносят наименьший вклад (помимо отобранных)\n",
    "print \"\\nLeast important features:\\n\"\n",
    "for el in coefs[-10:]:\n",
    "    print \"{}: {}\".format(el[1], el[0])"
   ]
  },
  {
   "cell_type": "markdown",
   "metadata": {},
   "source": [
    "8\\. Напоследок давайте посмотрим на объекты. На каких объектах достигается наибольшая ошибка классификации? Есть ли межу этими объектами что-то общее? Видны ли какие-либо закономерности? Предположите, почему наибольшая ошибка достигается именно на этих объектах. В данном случае \"наибольшую\" ошибку можно понимать как отнесение объекта с чужому классу с большой долей уверенности (с высокой вероятностью)."
   ]
  },
  {
   "cell_type": "code",
   "execution_count": 95,
   "metadata": {
    "collapsed": false
   },
   "outputs": [
    {
     "name": "stdout",
     "output_type": "stream",
     "text": [
      "(1047, array([ 0.99692044,  0.00307956]), 1)\n",
      "(1452, array([ 0.98962472,  0.01037528]), 1)\n",
      "(2307, array([ 0.97756466,  0.02243534]), 1)\n",
      "(2871, array([ 0.96623536,  0.03376464]), 1)\n",
      "(1312, array([ 0.9625393,  0.0374607]), 1)\n",
      "(1289, array([ 0.95613277,  0.04386723]), 1)\n",
      "(2240, array([ 0.95383413,  0.04616587]), 1)\n",
      "(1647, array([ 0.95322703,  0.04677297]), 1)\n",
      "(1217, array([ 0.95289823,  0.04710177]), 1)\n",
      "(912, array([ 0.95150307,  0.04849693]), 1)\n"
     ]
    }
   ],
   "source": [
    "y_pred_proba = gs.best_estimator_.predict_proba(X_mod_nm)\n",
    "cond = np.logical_and(y_pred_proba[:, 1]>=0.5,  y_mod_nm!=1) | np.logical_and(y_pred_proba[:, 1]<0.5, y_mod_nm!=-1)\n",
    "error_objects = X_mod_nm[cond,:]\n",
    "probs = y_pred_proba[cond,:]\n",
    "errors = sorted(zip(np.arange(error_objects.shape[0]), probs, y_mod_nm[cond]), key=lambda x: max(x[1]), reverse=True)\n",
    "\n",
    "#посмотрим на 10 объектов с наибольшей ошибкой\n",
    "print '\\n'.join(map(str,errors[:10]))"
   ]
  },
  {
   "cell_type": "code",
   "execution_count": 84,
   "metadata": {
    "collapsed": true
   },
   "outputs": [],
   "source": [
    "#посмотрим на объекты с ошибкой с помощью визуализации методом T-SNE\n",
    "from sklearn.manifold import TSNE\n",
    "X_tsne = TSNE(n_components=2).fit_transform(X_mod_nm)"
   ]
  },
  {
   "cell_type": "code",
   "execution_count": 88,
   "metadata": {
    "collapsed": false
   },
   "outputs": [
    {
     "data": {
      "text/plain": [
       "(14880L, 2L)"
      ]
     },
     "execution_count": 88,
     "metadata": {},
     "output_type": "execute_result"
    }
   ],
   "source": [
    "X_tsne.shape"
   ]
  },
  {
   "cell_type": "code",
   "execution_count": 90,
   "metadata": {
    "collapsed": true
   },
   "outputs": [],
   "source": [
    "error_objects_tsne = TSNE(n_components=2).fit_transform(error_objects)"
   ]
  },
  {
   "cell_type": "code",
   "execution_count": 94,
   "metadata": {
    "collapsed": false
   },
   "outputs": [
    {
     "data": {
      "text/plain": [
       "<matplotlib.collections.PathCollection at 0xbef46a0>"
      ]
     },
     "execution_count": 94,
     "metadata": {},
     "output_type": "execute_result"
    },
    {
     "data": {
      "image/png": "[encoded data removed]",
      "text/plain": [
       "<matplotlib.figure.Figure at 0x395bb080>"
      ]
     },
     "metadata": {},
     "output_type": "display_data"
    }
   ],
   "source": [
    "#выведем синим цветом все исходные объекты, красным - те, на которых происходит ошибка классификации\n",
    "import matplotlib.pyplot as plt\n",
    "%matplotlib inline\n",
    "plt.scatter(X_tsne[:,0], X_tsne[:,1], c='blue')\n",
    "plt.scatter(error_objects_tsne[:,0], error_objects_tsne[:,1], c='red')"
   ]
  },
  {
   "cell_type": "markdown",
   "metadata": {},
   "source": [
    "Видно, что ошибочные объекты не распределены по всему признаковому пространству, а образуют неесколько ограниченных регионов."
   ]
  },
  {
   "cell_type": "markdown",
   "metadata": {},
   "source": [
    "9\\. По итогам проведенных экспериментов постройте финальную решение - модель с наилучшим качеством. Укажите, какие преобразования данных, параметры и пр. вы выбрали для построения финальной модели."
   ]
  },
  {
   "cell_type": "markdown",
   "metadata": {
    "collapsed": true
   },
   "source": [
    "Фактически эта модель уже построена: gs.best_estimator_ содержит модель с выбранными параметрами, обученную по всей выборке.\n",
    "Финальная модель имеет следующие свойства и преобразования:\n",
    "1. Отброшены признаки, у которых не заполнено более 50% значений.\n",
    "2. Для вещественных признаков для заполнения используется мода.\n",
    "3. Для категориальных незаполненные значения интерпретируются как еще одна категория.\n",
    "4. Категориальные признаки преобразуются dummy-кодированием. Имеющие высокую корреляцию, но много категорий - с помощью LabelEncoder.\n",
    "5. Используется undersampling методом NearMiss.\n",
    "6. Используется отбор признаков с помощью l1-регуляризации.\n",
    "7. Используется модель логистической регрессии с C=0.5.\n",
    "8. Для оценки качества используем PR AUC, оценка производит по кросс-валидации с помощью StratifiedKFold на 5 фолдов."
   ]
  },
  {
   "cell_type": "markdown",
   "metadata": {},
   "source": [
    "10\\. Подумайте, можно ли еще улучшить модель? Что для этого можно сделать? "
   ]
  },
  {
   "cell_type": "markdown",
   "metadata": {
    "collapsed": true
   },
   "source": [
    "Можно попробовать вместо LogisticRegression модели из других семейств, например GradienBoodtinClassifier или RandomForestClassifier"
   ]
  }
 ],
 "metadata": {
  "anaconda-cloud": {},
  "kernelspec": {
   "display_name": "Python [default]",
   "language": "python",
   "name": "python2"
  },
  "language_info": {
   "codemirror_mode": {
    "name": "ipython",
    "version": 2
   },
   "file_extension": ".py",
   "mimetype": "text/x-python",
   "name": "python",
   "nbconvert_exporter": "python",
   "pygments_lexer": "ipython2",
   "version": "2.7.12"
  }
 },
 "nbformat": 4,
 "nbformat_minor": 1
}
