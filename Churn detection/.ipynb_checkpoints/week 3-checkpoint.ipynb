{
 "cells": [
  {
   "cell_type": "markdown",
   "metadata": {},
   "source": [
    "### 1. Загрузка данных"
   ]
  },
  {
   "cell_type": "code",
   "execution_count": 10,
   "metadata": {
    "collapsed": true
   },
   "outputs": [],
   "source": [
    "import pandas as pd\n",
    "data = pd.read_csv('../Data/orange_small_churn_data.txt')\n",
    "labels = pd.read_csv('../Data/orange_small_churn_labels.txt', header=None)\n",
    "data['label'] = labels"
   ]
  },
  {
   "cell_type": "code",
   "execution_count": 11,
   "metadata": {
    "collapsed": true
   },
   "outputs": [],
   "source": [
    "from sklearn.cross_validation import train_test_split\n",
    "data_train, data_test = train_test_split(data, test_size=0.25, random_state=42, stratify = data.label)"
   ]
  },
  {
   "cell_type": "markdown",
   "metadata": {},
   "source": [
    "### 2. Работа с незаполненными значениями"
   ]
  },
  {
   "cell_type": "markdown",
   "metadata": {},
   "source": [
    "Отбросим признаки, у которых больше половины значений незаполнены - их полезность сомнительна"
   ]
  },
  {
   "cell_type": "code",
   "execution_count": 12,
   "metadata": {
    "collapsed": false
   },
   "outputs": [
    {
     "name": "stdout",
     "output_type": "stream",
     "text": [
      "(30000, 70)\n"
     ]
    }
   ],
   "source": [
    "bad_features = data_train.columns[data_train.isnull().mean(axis=0)>0.5]\n",
    "data_train = data_train.drop(bad_features, axis=1)\n",
    "print data_train.shape"
   ]
  },
  {
   "cell_type": "markdown",
   "metadata": {},
   "source": [
    "Рассмотрим отдельно вещественные и категориальные признаки"
   ]
  },
  {
   "cell_type": "code",
   "execution_count": 13,
   "metadata": {
    "collapsed": false
   },
   "outputs": [],
   "source": [
    "all_real_features = [\"Var\"+str(i) for i in xrange(1, 191)]\n",
    "real_features = data_train.columns[data_train.columns.isin(all_real_features)]\n",
    "cat_features = data_train.columns[~data_train.columns.isin(all_real_features+['label'])]"
   ]
  },
  {
   "cell_type": "markdown",
   "metadata": {},
   "source": [
    "В вещественных признаках заменим пропуски на средние значения признаков и произведем стандартизацию признаков"
   ]
  },
  {
   "cell_type": "code",
   "execution_count": 14,
   "metadata": {
    "collapsed": false
   },
   "outputs": [],
   "source": [
    "from sklearn.preprocessing import StandardScaler\n",
    "means = data_train[real_features].mean(axis=0, skipna=True)\n",
    "data_train[real_features] = data_train[real_features].fillna(means)\n",
    "sc = StandardScaler()\n",
    "data_train[real_features] = sc.fit_transform(data_train[real_features])"
   ]
  },
  {
   "cell_type": "markdown",
   "metadata": {},
   "source": [
    "В категориальных признаках отбросим те из них, которые имеют слишком много категорий. В качестве порога выбрано 100, при этом получается приемлемое количество признаков. Иначе сильно вероятно переобучение, учитывая размер выборки в 30000."
   ]
  },
  {
   "cell_type": "code",
   "execution_count": 15,
   "metadata": {
    "collapsed": false
   },
   "outputs": [],
   "source": [
    "import numpy as np\n",
    "num_cat = np.array([np.unique(data[feat]).shape[0] for feat in cat_features])\n",
    "bad_cat_features = cat_features[num_cat>100]\n",
    "data_train = data_train.drop(bad_cat_features, axis=1)\n",
    "cat_features = cat_features[~cat_features.isin(bad_cat_features)]"
   ]
  },
  {
   "cell_type": "markdown",
   "metadata": {},
   "source": [
    "В категориальных признаках произведем dummy кодирование, при этом пропуск будем расценивать как еще одну категорию"
   ]
  },
  {
   "cell_type": "code",
   "execution_count": 16,
   "metadata": {
    "collapsed": false
   },
   "outputs": [
    {
     "name": "stdout",
     "output_type": "stream",
     "text": [
      "(30000, 437)\n"
     ]
    }
   ],
   "source": [
    "data_train = pd.get_dummies(data_train, dummy_na=True, columns = cat_features, drop_first=True)\n",
    "print data_train.shape"
   ]
  },
  {
   "cell_type": "markdown",
   "metadata": {},
   "source": [
    "### 3. Обучение моделей и анализ результатов"
   ]
  },
  {
   "cell_type": "code",
   "execution_count": 17,
   "metadata": {
    "collapsed": true
   },
   "outputs": [],
   "source": [
    "from sklearn.linear_model import LogisticRegression\n",
    "from sklearn.ensemble import RandomForestClassifier, GradientBoostingClassifier\n",
    "from sklearn.cross_validation import cross_val_score, StratifiedKFold"
   ]
  },
  {
   "cell_type": "markdown",
   "metadata": {},
   "source": [
    "Оценим значение метрики PR AUC для трех моделей по кросс-валидации с 5 фолдами со стратификацией. PR AUC в sklearn называется average_precision_score."
   ]
  },
  {
   "cell_type": "code",
   "execution_count": 18,
   "metadata": {
    "collapsed": false
   },
   "outputs": [],
   "source": [
    "from sklearn.metrics import average_precision_score, make_scorer\n",
    "scorer = make_scorer(average_precision_score, needs_threshold=True)\n",
    "\n",
    "models = [LogisticRegression(), RandomForestClassifier(), GradientBoostingClassifier()]\n",
    "X = data_train.drop('label', axis=1)\n",
    "#X = data_train[real_features]\n",
    "y = data_train.label\n",
    "scores = []\n",
    "for model in models:\n",
    "    score = cross_val_score(model, X, y, scoring=scorer, cv=StratifiedKFold(y, n_folds=5))\n",
    "    scores.append(score)"
   ]
  },
  {
   "cell_type": "code",
   "execution_count": 20,
   "metadata": {
    "collapsed": false
   },
   "outputs": [
    {
     "name": "stdout",
     "output_type": "stream",
     "text": [
      "Scores \n",
      " Logistic regression: 0.155974041171 \n",
      " Random forest: 0.114345996619 \n",
      " Gradient boosting classifier: 0.197626608424\n"
     ]
    }
   ],
   "source": [
    "print \"Scores \\n Logistic regression: {} \\n Random forest: {} \\n Gradient boosting classifier: {}\".format(*np.array(scores).mean(axis=1))\n",
    "#np.array(scores).mean(axis=1)"
   ]
  },
  {
   "cell_type": "markdown",
   "metadata": {},
   "source": [
    "Качество получилось низкое. Попробуем разобраться с помощью вспомогательной метрики. Возьмем метрику ROC AUC и сравним ее значение с PR AUC для лучшей модели."
   ]
  },
  {
   "cell_type": "code",
   "execution_count": 21,
   "metadata": {
    "collapsed": false
   },
   "outputs": [
    {
     "name": "stdout",
     "output_type": "stream",
     "text": [
      "PR AUC: 0.31\n",
      "ROC AUC: 0.79\n"
     ]
    }
   ],
   "source": [
    "from sklearn.metrics import roc_auc_score, precision_recall_curve, roc_curve\n",
    "gb = GradientBoostingClassifier()\n",
    "gb.fit(X, y)\n",
    "pr_auc = average_precision_score(y, gb.predict_proba(X)[:, 1])\n",
    "roc_auc = roc_auc_score(y, gb.predict_proba(X)[:, 1])\n",
    "print \"PR AUC: {:.2f}\".format(pr_auc)\n",
    "print \"ROC AUC: {:.2f}\".format(roc_auc)"
   ]
  },
  {
   "cell_type": "markdown",
   "metadata": {},
   "source": [
    "Разница существенная, посмотрим на сами кривые."
   ]
  },
  {
   "cell_type": "code",
   "execution_count": 22,
   "metadata": {
    "collapsed": false
   },
   "outputs": [
    {
     "data": {
      "text/plain": [
       "<matplotlib.text.Text at 0x23f58f28>"
      ]
     },
     "execution_count": 22,
     "metadata": {},
     "output_type": "execute_result"
    },
    {
     "data": {
      "image/png": "[encoded data removed]",
      "text/plain": [
       "<matplotlib.figure.Figure at 0xdc8bc50>"
      ]
     },
     "metadata": {},
     "output_type": "display_data"
    }
   ],
   "source": [
    "import matplotlib.pyplot as plt\n",
    "%matplotlib inline\n",
    "\n",
    "fig, axes = plt.subplots(1, 2, figsize=(15, 5))\n",
    "prs, rcs, ths = precision_recall_curve(y, gb.predict_proba(X)[:, 1])\n",
    "axes[0].step(rcs, prs)\n",
    "axes[0].set_xlabel('Recall')\n",
    "axes[0].set_ylabel('Precision')\n",
    "axes[0].set_title('PR AUC: {}'.format(pr_auc))\n",
    "\n",
    "fprs, tprs, thrs = roc_curve(y, gb.predict_proba(X)[:, 1])\n",
    "axes[1].step(fprs, tprs)\n",
    "axes[1].set_xlabel('FPR')\n",
    "axes[1].set_ylabel('TPR')\n",
    "axes[1].set_title('ROC AUC: {}'.format(roc_auc))"
   ]
  },
  {
   "cell_type": "markdown",
   "metadata": {},
   "source": [
    "ROC AUC сильно зависит от сбалансированности классов. С ростом TPR (он же Recall) растет число ошибок FP, но из-за того, что TN очень велико (FPR = FP/(FP+TN)), FPR растет медленно. Поэтому в данном случае ROC AUC приукрашивает ситуацию, PR AUC кажется более реалистичной метрикой."
   ]
  },
  {
   "cell_type": "markdown",
   "metadata": {},
   "source": [
    "Вывод: простые baseline методы показали в данном случае достаточно низкое качество."
   ]
  }
 ],
 "metadata": {
  "anaconda-cloud": {},
  "kernelspec": {
   "display_name": "Python [default]",
   "language": "python",
   "name": "python2"
  },
  "language_info": {
   "codemirror_mode": {
    "name": "ipython",
    "version": 2
   },
   "file_extension": ".py",
   "mimetype": "text/x-python",
   "name": "python",
   "nbconvert_exporter": "python",
   "pygments_lexer": "ipython2",
   "version": "2.7.12"
  }
 },
 "nbformat": 4,
 "nbformat_minor": 1
}
