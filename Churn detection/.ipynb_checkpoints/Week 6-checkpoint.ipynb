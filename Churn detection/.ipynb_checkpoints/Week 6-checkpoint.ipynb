{
 "cells": [
  {
   "cell_type": "markdown",
   "metadata": {},
   "source": [
    "### 1. Определение экономической модели"
   ]
  },
  {
   "cell_type": "markdown",
   "metadata": {},
   "source": [
    "Определим следующие параметры:\n",
    "- <i>income_user</i> - сумма, которую приносит в среднем клиент за 1 меясц\n",
    "- <i>expense_user</i> - сумма, которую в среднем будем вкладывать в удержание пользователя\n",
    "- <i>prob_user</i> - вероятность, с которой пользователь примет наше предложение\n",
    "- <i>proportion_users</i> - доля пользователей (топ), которые будут участвовать в нашей кампании (и для которых предсказан отток)"
   ]
  },
  {
   "cell_type": "markdown",
   "metadata": {},
   "source": [
    "##### Составим формулу для расчета экономического эффекта"
   ]
  },
  {
   "cell_type": "markdown",
   "metadata": {},
   "source": [
    "Введем дополнительные параметры:\n",
    "- <i>n_users</i> - общее количество пользователей, для которых предсказан отток\n",
    "- <i>n_months</i> - среднее количество месяцев, которое клиент останется лояльным, если удержание сработает"
   ]
  },
  {
   "cell_type": "markdown",
   "metadata": {},
   "source": [
    "Определим начальные значения:"
   ]
  },
  {
   "cell_type": "code",
   "execution_count": 36,
   "metadata": {
    "collapsed": true
   },
   "outputs": [],
   "source": [
    "income_user = 300\n",
    "expense_user = 500\n",
    "prob_user = 0.5\n",
    "proportion_users = 0.1\n",
    "n_users = 3000\n",
    "n_months = 6"
   ]
  },
  {
   "cell_type": "markdown",
   "metadata": {},
   "source": [
    "Формула:"
   ]
  },
  {
   "cell_type": "markdown",
   "metadata": {},
   "source": [
    "Precision нашей модели (вероятность того, что пользователь, которого мы собираемся удерживать по предсказанию модели, действительно собрался уйти) равна 0.6. Это означает, что в случае, если мы определили правильно, наша выручка/потери будет равна матожиданию результата нашей попытки удержания. В случае, если мы не угадали, мы просто теряем деньги на удержание, поскольку клиент не собирался уходить."
   ]
  },
  {
   "cell_type": "code",
   "execution_count": 37,
   "metadata": {
    "collapsed": true
   },
   "outputs": [],
   "source": [
    "precision = 0.6"
   ]
  },
  {
   "cell_type": "code",
   "execution_count": 38,
   "metadata": {
    "collapsed": false
   },
   "outputs": [
    {
     "name": "stdout",
     "output_type": "stream",
     "text": [
      "Экономический эффект: 12000.0\n"
     ]
    }
   ],
   "source": [
    "from math import *\n",
    "def effect():\n",
    "    return (-expense_user + precision*prob_user*income_user*n_months)*round(proportion_users*n_users)\n",
    "print \"Экономический эффект: {}\".format(effect())"
   ]
  },
  {
   "cell_type": "code",
   "execution_count": 39,
   "metadata": {
    "collapsed": false
   },
   "outputs": [
    {
     "name": "stdout",
     "output_type": "stream",
     "text": [
      "108000.0\n"
     ]
    }
   ],
   "source": [
    "proportion_users = 0.9\n",
    "print effect()"
   ]
  },
  {
   "cell_type": "code",
   "execution_count": null,
   "metadata": {
    "collapsed": true
   },
   "outputs": [],
   "source": []
  },
  {
   "cell_type": "code",
   "execution_count": null,
   "metadata": {
    "collapsed": true
   },
   "outputs": [],
   "source": []
  }
 ],
 "metadata": {
  "anaconda-cloud": {},
  "kernelspec": {
   "display_name": "Python [default]",
   "language": "python",
   "name": "python2"
  },
  "language_info": {
   "codemirror_mode": {
    "name": "ipython",
    "version": 2
   },
   "file_extension": ".py",
   "mimetype": "text/x-python",
   "name": "python",
   "nbconvert_exporter": "python",
   "pygments_lexer": "ipython2",
   "version": "2.7.12"
  }
 },
 "nbformat": 4,
 "nbformat_minor": 1
}
