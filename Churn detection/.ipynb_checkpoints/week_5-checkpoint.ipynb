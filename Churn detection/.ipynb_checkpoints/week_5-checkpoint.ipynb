{
 "cells": [
  {
   "cell_type": "markdown",
   "metadata": {},
   "source": [
    "# Peer-graded Assignment: Эксперименты с моделью\n",
    "\n",
    "На прошлой неделе вы поучаствовали в соревновании на kaggle и, наверняка, большинство успешно справилось с прохождением baseline, а значит пора двигаться дальше - заняться оптимизацией модели, провести серию экспериментов и построить сильное финальное решения.\n",
    "\n",
    "В этом задании вам нужно провести ряд эскпериментов, оценить качество полученных в процессе экспериментирования моделей и выбрать лучшее решение. "
   ]
  },
  {
   "cell_type": "markdown",
   "metadata": {},
   "source": [
    "Задание будет оцениваться на основании загруженного jupyther notebook и развернутых ответов на поставленные вопросы."
   ]
  },
  {
   "cell_type": "markdown",
   "metadata": {},
   "source": [
    "## Инструкции"
   ]
  },
  {
   "cell_type": "markdown",
   "metadata": {},
   "source": [
    "1\\. Начнем с простого. Давайте оценим как много объектов действительно нужно для построения качественной модели. Для обучения доступна достаточно большая выборка и может так оказаться, что начиная с некоторого момента рост размера обучающей выборки перестает влиять на качество модели. Постройте кривые обучения, обучая модель на выборках разного размера начиная с небольшого количество объектов в обучающей выборке и постепенно наращивая её размер с некоторым шагом. Обратите внимание на `sklearn.model_selection.learning_curve`"
   ]
  },
  {
   "cell_type": "code",
   "execution_count": 1,
   "metadata": {
    "collapsed": true
   },
   "outputs": [],
   "source": [
    "#загрузка данных\n",
    "import pandas as pd\n",
    "data = pd.read_csv('../Data/orange_small_churn_data.txt')\n",
    "labels = pd.read_csv('../Data/orange_small_churn_labels.txt', header=None)\n",
    "data['label'] = labels"
   ]
  },
  {
   "cell_type": "code",
<<<<<<< HEAD
   "execution_count": 4,
=======
   "execution_count": 2,
>>>>>>> 7e0127a971728d12b358c173eea526f2468484e9
   "metadata": {
    "collapsed": false
   },
   "outputs": [],
   "source": [
    "# произведем преобразование и фильтрацию признаков (на основе прошлых недель)\n",
    "\n",
    "from sklearn.preprocessing import StandardScaler, LabelEncoder\n",
    "import numpy as np\n",
    "\n",
    "def preprocess(data_train, filling_method):\n",
    "    data = data_train.copy()\n",
    "    #Отбросим признаки, у которых больше половины значений незаполнены\n",
    "    bad_features = data.columns[data.isnull().mean(axis=0)>0.5]\n",
    "    data = data.drop(bad_features, axis=1)\n",
    "    \n",
    "    #Рассмотрим отдельно вещественные и категориальные признаки\n",
    "    all_real_features = [\"Var\"+str(i) for i in xrange(1, 191)]\n",
    "    real_features = data.columns[data.columns.isin(all_real_features)]\n",
    "    cat_features = data.columns[~data.columns.isin(all_real_features+['label'])]\n",
    "    \n",
    "    #В вещественных признаках заменим пропуски на средние значения признаков и произведем стандартизацию признаков\n",
    "    filling_values = filling_method(data[real_features], axis=0)\n",
    "    data[real_features] = data[real_features].fillna(filling_values)\n",
    "    sc = StandardScaler()\n",
    "    data[real_features] = sc.fit_transform(data[real_features])\n",
    "    \n",
    "    #В категориальных признаках отбросим те из них, которые имеют слишком много категорий\n",
    "    #num_cat = np.array([np.unique(data[feat]).shape[0] for feat in cat_features])\n",
    "    #bad_cat_features = cat_features[num_cat>100]\n",
    "    #data = data.drop(bad_cat_features, axis=1)\n",
    "    #cat_features = cat_features[~cat_features.isin(bad_cat_features)]\n",
    "    \n",
    "    #В категориальных признаках произведем dummy кодирование, при этом пропуск будем расценивать как еще одну категорию\n",
    "    #data = pd.get_dummies(data, dummy_na=True, columns = cat_features, drop_first=True)\n",
    "    \n",
    "    #В категориальных признаках, которые имеют наибольшую корреляцию (по прошлым неделям), произведем label-кодировоание\n",
    "    le = LabelEncoder()\n",
    "    corr_cat_features = ['Var199', 'Var216', 'Var192']\n",
    "    data = data.drop(cat_features[~cat_features.isin(corr_cat_features)], axis=1)\n",
    "    for cf in corr_cat_features:\n",
    "        data[cf] = data[cf].fillna('Nan')\n",
    "        data[cf] = le.fit_transform(data[cf])\n",
    "    \n",
    "    #добавим еще тройку категориальных признаков, которые (как мы ранее выяснили) имеют высокую корреляция с целевым признаком. Но применим к ним LabelEncoder, поскольку они имеют слишком много категорий\n",
    "    corr_cat_features = ['Var199', 'Var216', 'Var192']\n",
    "    le = LabelEncoder()\n",
    "    for feat in corr_cat_features:\n",
    "        data_train[feat] = data_train[feat].fillna('NaN')\n",
    "        data[feat] = le.fit_transform(data_train[feat])\n",
    "    \n",
    "    return data\n",
    "\n",
    "data = preprocess(data, np.mean)"
   ]
  },
  {
   "cell_type": "code",
<<<<<<< HEAD
   "execution_count": 5,
=======
   "execution_count": 3,
>>>>>>> 7e0127a971728d12b358c173eea526f2468484e9
   "metadata": {
    "collapsed": false
   },
   "outputs": [
    {
     "data": {
      "text/plain": [
<<<<<<< HEAD
       "(40000, 388)"
      ]
     },
     "execution_count": 5,
=======
       "(40000, 44)"
      ]
     },
     "execution_count": 3,
>>>>>>> 7e0127a971728d12b358c173eea526f2468484e9
     "metadata": {},
     "output_type": "execute_result"
    }
   ],
   "source": [
    "X = data.drop('label', axis = 1)\n",
    "y = data.label\n",
    "X.shape"
   ]
  },
  {
   "cell_type": "code",
<<<<<<< HEAD
   "execution_count": 6,
=======
   "execution_count": 4,
>>>>>>> 7e0127a971728d12b358c173eea526f2468484e9
   "metadata": {
    "collapsed": false
   },
   "outputs": [
    {
     "name": "stderr",
     "output_type": "stream",
     "text": [
      "C:\\Program Files\\Anaconda2\\lib\\site-packages\\sklearn\\cross_validation.py:41: DeprecationWarning: This module was deprecated in version 0.18 in favor of the model_selection module into which all the refactored classes and functions are moved. Also note that the interface of the new CV iterators are different from that of this module. This module will be removed in 0.20.\n",
      "  \"This module will be removed in 0.20.\", DeprecationWarning)\n"
     ]
    },
    {
     "name": "stdout",
     "output_type": "stream",
     "text": [
<<<<<<< HEAD
      "ROC AUC for logistic regression: 0.124362470464\n"
=======
      "ROC AUC for logistic regression: 0.629307198015\n"
>>>>>>> 7e0127a971728d12b358c173eea526f2468484e9
     ]
    }
   ],
   "source": [
    "#построим кривую обучения\n",
    "from sklearn.model_selection import learning_curve\n",
    "\n",
    "train_sizes = np.arange(0.05, 1.05, 0.05)\n",
    "\n",
    "#в качестве классификатора возьмем LogisticRegression\n",
    "from sklearn.metrics import average_precision_score, make_scorer\n",
    "from sklearn.linear_model import LogisticRegression\n",
    "from sklearn.cross_validation import cross_val_score, StratifiedKFold\n",
    "\n",
    "lr = LogisticRegression()\n",
    "scorer = make_scorer(average_precision_score, needs_threshold=True)\n",
    "\n",
    "#сначала оценим качество модели на всей выборке\n",
    "scores = cross_val_score(lr, X, y, scoring=scorer, cv=StratifiedKFold(y, n_folds=5))\n",
    "print \"ROC AUC for logistic regression: {}\".format(np.mean(scores))\n",
    "\n",
    "#построим кривую обучения\n",
    "t_scores = learning_curve(lr, X, y, train_sizes=train_sizes, scoring=scorer, cv=StratifiedKFold(y, n_folds=5))"
   ]
  },
  {
   "cell_type": "code",
<<<<<<< HEAD
   "execution_count": 7,
=======
   "execution_count": 5,
>>>>>>> 7e0127a971728d12b358c173eea526f2468484e9
   "metadata": {
    "collapsed": false
   },
   "outputs": [
    {
     "data": {
      "text/plain": [
<<<<<<< HEAD
       "[<matplotlib.lines.Line2D at 0xea58668>]"
      ]
     },
     "execution_count": 7,
=======
       "[<matplotlib.lines.Line2D at 0xd0ff240>]"
      ]
     },
     "execution_count": 5,
>>>>>>> 7e0127a971728d12b358c173eea526f2468484e9
     "metadata": {},
     "output_type": "execute_result"
    },
    {
     "data": {
<<<<<<< HEAD
      "image/png": "iVBORw0KGgoAAAANSUhEUgAAAswAAAHVCAYAAADl4K3UAAAABHNCSVQICAgIfAhkiAAAAAlwSFlz\nAAALEgAACxIB0t1+/AAAIABJREFUeJzs3Xl4XFed5//PqSqV9r202LK1WfKWeEsUr3IWh4QkHUjC\nmkCAAE2ggQZmoH/0Mr/unqene7p76JmhAzTQARJomkAAQ1hCAlkt20ksx3EWr7It2Zat3da+VdWZ\nP25Ziy3LsizpVknv1/PUc+veurf0LcWxP/rq3HOMtVYAAAAAxuZxuwAAAAAgmhGYAQAAgHEQmAEA\nAIBxEJgBAACAcRCYAQAAgHEQmAEAAIBxEJgBAACAcRCYAQAAgHEQmAEAAIBx+NwuYCyBQMAWFxe7\nXQYAAABmsd27d7dYa3MudV5UBubi4mJVV1e7XQYAAABmMWNM3UTOY0gGAAAAMA4CMwAAADAOAjMA\nAAAwDgIzAAAAMA4CMwAAADAOAjMAAAAwDgIzAAAAMA4CMwAAADAOAjMAAAAwDgIzAAAAMA4CMwAA\nADAOAjMAAAAwDgIzAAAAMA4CMwAAADAOAjMAAAAwDgIzAAAAMA4Cc0QwFFZTZ5/bZQAAACDKEJgj\n3v/tl/SFx15zuwwAAABEGQJzxJqFGaquPaPegZDbpQAAACCKEJgjKssDGgiFtau2ze1SAAAAEEUI\nzBFrS7Lk93pUVdPidikAAACIIgTmiCS/T9cUZajqMIEZAAAAwwjMI2wuz9G+0x1q6ep3uxQAAABE\nCQLzCJvKApKkHUdaXa4EAAAA0YLAPMKKgnSlJfhUdbjZ7VIAAAAQJQjMI3g9RhsXBVR1uEXWWrfL\nAQAAQBQgMJ+nsjygU+19OtbS7XYpAAAAiAIE5vNsLnfGMTO9HAAAACQC8wUKs5K0IDOR6eUAAAAg\nicB8AWOMNpcHtPNIq4KhsNvlAAAAwGUE5jFsKguosz+ovSfb3S4FAAAALiMwj2HTooCMkbYzjhkA\nAGDOIzCPITPZr6vnpzOOGQAAAATmi9lUFtCrx8+ouz/odikAAABwEYH5IjaXBxQMW718jGWyAQAA\n5jIC80VcW5SpeJ9H2xiWAQAAMKcRmC8iIc6rtSVZ3PgHAAAwx00oMBtjbjPGHDTG1Bhj/nyM1+8y\nxrxujHnNGFNtjKmc6LXRrLIsoEONXWrs6HO7FAAAALjkkoHZGOOV9HVJt0taLuk+Y8zy8057RtIq\na+1qSR+T9PBlXBu1NpU5y2TTZQYAAJi7JtJhXiupxlp71Fo7IOkxSXeNPMFa22WttZHdZEl2otdG\ns+Xz0pSV7Gd6OQAAgDlsIoG5QNKJEfsnI8dGMcbcY4w5IOk3crrME742Wnk8RhsXZauqpkXDPw8A\nAABgLpmym/6stVuttUsl3S3p7y73emPMg5Hxz9XNzc1TVdYV21weUFNnvw43dbldCgAAAFwwkcBc\nL2nhiP0FkWNjsta+KKnUGBO4nGuttd+21lZYaytycnImUNbMODeOmenlAAAA5qaJBOZdksqNMSXG\nGL+keyU9MfIEY0yZMcZEnl8jKV5S60SujXYLMpNUEkjmxj8AAIA5ynepE6y1QWPMZyU9Jckr6bvW\n2reMMZ+KvP5NSe+W9GFjzKCkXknvj9wEOOa10/RZpk1lWUA/e/WkBoJh+X1MXQ0AADCXXDIwS5K1\n9reSfnvesW+OeP5Pkv5potfGmk1lAf3gpTrtOX5G60qz3S4HAAAAM4h26QRsWJQtj2E+ZgAAgLmI\nwDwB6YlxWrkgQ9sIzAAAAHMOgXmCNpcHtPfEWXX0DbpdCgAAAGYQgXmCKssCCltp55FWt0sBAADA\nDCIwT9Cawkwl+b0skw0AADDHEJgnyO/zaF1JFjf+AQAAzDEE5suwqSygoy3dqj/b63YpAAAAmCEE\n5suwudxZsns7wzIAAADmDALzZVicl6Kc1HimlwMAAJhDCMyXwRijyrKAtte0KBy2bpcDAACAGUBg\nvkyVZQG1dQ9of0OH26UAAABgBhCYL9OmsoAkMb0cAADAHEFgvkz56Qkqz01RFeOYAQAA5gQC8yRU\nlgf0yrE29Q2G3C4FAAAA04zAPAmVZQH1B8N6te6M26UAAABgmhGYJ2FdabZ8HsP0cgAAAHMAgXkS\nUuJ9WlOYwY1/AAAAcwCBeZIqy3L05ql2nekecLsUAAAATCMC8yRVlmfLWmnHkVa3SwEAAMA0IjBP\n0qoFGUqN9zG9HAAAwCxHYJ4kn9ej9YuyVVXT7HYpAAAAmEYE5itQWRbQibZe1bV2u10KAAAApgmB\n+QpUlkeWyWZYBgAAwKxFYL4CpYFkzUtPYHo5AACAWYzAfAWMMaosC2jHkVaFwtbtcgAAADANCMxX\nqLI8oPbeQb1Z3+52KQAAAJgGBOYrtKmMccwAAACzGYH5CgVS4rVsXhrjmAEAAGYpAvMUqCzL1u66\nM+odCLldCgAAAKYYgXkKVJbnaCAU1iu1bW6XAgAAgClGYJ4Ca4uz5Pd6VHWYVf8AAABmGwLzFEj0\ne3VtUaa2MY4ZAABg1iEwT5HK8oAONHSqubPf7VIAAAAwhQjMU6QyMr3cjiN0mQEAAGYTAvMUubog\nXemJcUwvBwAAMMsQmKeI12O0cVG2qmpaZC3LZAMAAMwWBOYpVFke0On2Ph1p7na7FAAAAEwRAvMU\n2lyWI0nazjLZAAAAswaBeQoVZidpYVYi08sBAADMIgTmKVZZlqOXjrYqGAq7XQoAAACmAIF5ilWW\nBdTVH9Tek2fdLgUAAABTgMA8xTYuypYxYlgGAADALEFgnmKZyX6tKEjnxj8AAIBZgsA8DTaVBbTn\n+Fl19QfdLgUAAABXiMA8DTaXBRQMW718tNXtUgAAAHCFCMzT4JqiTMX7PIxjBgAAmAUIzNMgIc6r\ntSVZqmIcMwAAQMwjME+TzeUB1TR1qaG9z+1SAAAAcAUIzNNkU1lAkugyAwAAxDgC8zRZlp+m7GQ/\n08sBAADEOALzNPF4jDaWBVRV0yJrrdvlAAAAYJIIzNNoc1lAzZ39OtTY5XYpAAAAmCQC8zTaVO6M\nY952uNnlSgAAADBZBOZpVJCRqNJAMjf+AQAAxDAC8zSrLA/o5aNtGgiG3S4FAAAAk0BgnmabygLq\nHQzp1eNn3C4FAAAAk0BgnmYbFmXLY8T0cgAAADGKwDzN0hLitGphhrYdJjADAADEIgLzDNhcFtDr\nJ8+qvWfQ7VIAAABwmQjMM6CyPEdhK+082up2KQAAALhMBOYZsHphhpL8XlXVMB8zAABArCEwzwC/\nz6P1pdnaXkOHGQAAINYQmGfIprKAjrV06+SZHrdLAQAAwGUgMM+QzZFlsquYLQMAACCmEJhnSHlu\ninJT41kmGwAAIMYQmGeIMUaVZQHtONKqcNi6XQ4AAAAmiMA8gyrLA2rrHtC+0x1ulwIAAIAJIjDP\noE1lkXHMDMsAAACIGQTmGZSXlqDFeSnc+AcAABBDCMwzbFNZQK/UtqlvMOR2KQAAAJgAAvMM21we\n0EAwrOraM26XAgAAgAkgMM+wdSXZ8nkM45gBAABiBIF5hiXH+3RNYaaqaprdLgUAAAATQGB2QWV5\nQG+d6lBb94DbpQAAAOASCMwu2FQWkLXSjiMMywAAAIh2BGYXrFqQrtQEH9PLAQAAxAACswt8Xo82\nlGZr2+EWWcsy2QAAANGMwOySyvKA6s/2qq61x+1SAAAAMA4Cs0sqI8tkb2N6OQAAgKhGYHZJSSBZ\n89MTtJ1xzAAAAFGNwOwSY4wqywPacaRFoTDjmAEAAKIVgdlFleU56ugL6o36drdLAQAAwEUQmF20\ncVG2JKnqMKv+AQAARCsCs4sCKfFaPi9N2xjHDAAAELUmFJiNMbcZYw4aY2qMMX8+xusfNMa8box5\nwxizwxizasRrtZHjrxljqqey+NmgsjygV4+fUc9A0O1SAAAAMIZLBmZjjFfS1yXdLmm5pPuMMcvP\nO+2YpBustSsk/Z2kb5/3+k3W2tXW2oopqHlWqSwLaDBk9fKxNrdLAQAAwBgm0mFeK6nGWnvUWjsg\n6TFJd408wVq7w1p7JrL7kqQFU1vm7HVdcZb8Xg/TywEAAESpiQTmAkknRuyfjBy7mI9LenLEvpX0\nB2PMbmPMg5df4uyW6PeqojhTVSxgAgAAEJWm9KY/Y8xNcgLzl0ccrrTWrpYzpOMzxpjrL3Ltg8aY\namNMdXPz3Jo1orI8oAMNnWrq7HO7FAAAAJxnIoG5XtLCEfsLIsdGMcaslPSwpLusta3njltr6yPb\nJklb5QzxuIC19tvW2gprbUVOTs7EP8EscG6Z7B01rZc4EwAAADNtIoF5l6RyY0yJMcYv6V5JT4w8\nwRhTKOnnkj5krT004niyMSb13HNJt0p6c6qKny2ump+ujKQ4ppcDAACIQr5LnWCtDRpjPivpKUle\nSd+11r5ljPlU5PVvSvprSdmSvmGMkaRgZEaMPElbI8d8kv7TWvu7afkkMczrMbq+PEe/39egnoGr\nlOS/5H8WAAAAzBBjrXW7hgtUVFTY6uq5NWXzK8fa9L5v7dQ/3LNCH1hX6HY5AAAAs54xZvdEpj1m\npb8ocV1xppbPS9MjO44pGn+IAQAAmKsIzFHCGKMHNhXrUGOXdh7h5j8AAIBoQWCOIu9cNV9ZyX59\nb0et26UAAAAggsAcRRLivLpv7UL9YX+jTrT1uF0OAAAARGCOOvevL5LHGH1/Z63bpQAAAEAE5qgz\nLz1Rt12dr8d2nVB3f9DtcgAAAOY8AnMU+ujGYnX2BbV1zwULKgIAAGCGEZij0LVFmbq6IE2P7Khl\nijkAAACXEZijkDFGD2wsUU1Tl7bXMMUcAACAmwjMUerOlfOUnezXIzuOuV0KAADAnEZgjlIJcV59\nYF2hnjnQpLrWbrfLAQAAmLMIzFHsg+uK5DVG399Z53YpAAAAcxaBOYrlpyfo9hXz9BOmmAMAAHAN\ngTnKPbCxWJ39Qf381ZNulwIAADAnEZij3DWFGVq5IJ0p5gAAAFxCYI5yzhRzxTrS3K2qmha3ywEA\nAJhzCMwx4I9WzlMgxa9Htte6XQoAAMCcQ2COAfE+rz6wrkjPHmxSbQtTzAEAAMwkAnOMuH9dIVPM\nAQAAuIDAHCNy0xL0Ryvn6fHqE+piijkAAIAZQ2COIUwxBwAAMPMIzDFkTWGmVi3M0CM7ahUOM8Uc\nAADATCAwx5iPbizW0eZubWOKOQAAgBlBYI4xd6yYp5zUeD2y/ZjbpQAAAMwJBOYY4/d59MF1hXru\nYLOOMcUcAADAtCMwx6APrCtUnNfo0R21bpcCAAAw6xGYY1BuaoLuXDlfP919Up19g26XAwAAMKsR\nmGPUAxuL1dUf1M92M8UcAADAdCIwx6hVCzO0pjBDj+6sY4o5AACAaURgjmEPbCzWsZZuvXC42e1S\nAAAAZi0Ccwy7/ep5yk2N1yPba90uBQAAYNYiMMcwv8+j+9cX6YVDzTrS3OV2OQAAALMSgTnG3be2\nUH6vR99nijkAAIBpQWCOcTmp8bpz5Tz9dPdJdTDFHAAAwJQjMM8CH9lYrO6BkH5azRRzAAAAU43A\nPAusWpihawoz9OjOWqaYAwAAmGIE5lnigU0lqmvt0fOHmtwuBQAAYFYhMM8St1+dr7y0eH2PKeYA\nAACmFIF5lojzenT/uiJtO9yimiammAMAAJgqBOZZ5L51kSnmdta6XQoAAMCsQWCeRQIp8XrHqvlM\nMQcAADCFCMyzzAMbi9UzENLjTDEHAAAwJQjMs8yKBemqKMrUoztqFWKKOQAAgCtGYJ6FHthUrONt\nPXr+IFPMAQAAXCkC8yz09qvylZ+WoEd21LpdCgAAQMwjMM9CcV6PPrTBmWLucGOn2+UAAADENALz\nLHXvdQvl93n06M5at0sBAACIaQTmWSo7JV53rZqvn+2uV3svU8wBAABMFoF5FvvIxmL1Dob0ePUJ\nt0sBAACIWQTmWezqgnStLc7SozuZYg4AAGCyCMyz3AObinWirVfPHmCKOQAAgMkgMM9yty7P07z0\nBD2y45jbpQAAAMQkAvMs54tMMbe9plWHmGIOAADgshGY54B7rytUvM/DQiYAAACTQGCeA7KS/bp7\ndYF+/upJtfcwxRwAAMDlIDDPER/ZWKy+wbB+XH3c7VIAAABiCoF5jlg+P03rSrL06I46ppgDAAC4\nDATmOeSjm4pVf7ZXf9jf6HYpAAAAMYPAPIe8bVmeCjIS9cj2WrdLAQAAiBkE5jnk3BRzO4+26kBD\nh9vlAAAAxAQC8xxz73ULlRDn0aNMMQcAADAhBOY5JiPJr3vWFGjrnnqd6R5wuxwAAICoR2Ceg4an\nmDvhdikAAABRj8A8By3NT9OG0mz9YGedgqGw2+UAAABENQLzHPXA0BRzTW6XAgAAENUIzHPU0BRz\nO465XQoAAEBUIzDPUV6P0Yc3FOmlo23af5op5gAAAC6GwDyHvZ8p5gAAAC6JwDyHOVPMLWCKOQAA\ngHEQmOe4BzYWqz8Y1mO7mGIOAABgLATmOW5Jfqo2LsrWD3bWMsUcAADAGAjM0AMbi3WqvU+/39fo\ndikAAABRh8AM3bwsTwsyE/Xd7UwxBwAAcD4CM+T1GH28skS7as/o5aOtbpcDAAAQVQjMkCTdt7ZQ\ngZR4PfRsjdulAAAARBUCMyRJCXFePXh9iapqWvTq8TNulwMAABA1CMwY8sF1RcpMitPX6DIDAAAM\nITBjSHK8Tx+vLNGzB5r0Zn272+UAAABEBQIzRvnwxmKlJfj00LOH3S4FAAAgKhCYMUpaQpwe2FSi\np95q1IGGDrfLAQAAcB2BGRf42KZiJfu9jGUGAAAQgRljyEjy60MbivWbN07rSHOX2+UAAAC4isCM\nMf3x5hLF+zz6+nN0mQEAwNxGYMaYAinx+uC6Iv3ytVM63trjdjkAAACuITDjoj55fam8HqNvPE+X\nGQAAzF0TCszGmNuMMQeNMTXGmD8f4/UPGmNeN8a8YYzZYYxZNdFrEb1y0xJ073UL9bNXT6r+bK/b\n5QAAALjikoHZGOOV9HVJt0taLuk+Y8zy8047JukGa+0KSX8n6duXcS2i2CdvWCRJ+tYLR1yuBAAA\nwB0T6TCvlVRjrT1qrR2Q9Jiku0aeYK3dYa09E9l9SdKCiV6L6FaQkah3X7NAj+06oaaOPrfLAQAA\nmHETCcwFkk6M2D8ZOXYxH5f05OVea4x50BhTbYypbm5unkBZmCmfvrFMobDVt1486nYpAAAAM25K\nb/ozxtwkJzB/+XKvtdZ+21pbYa2tyMnJmcqycIUKs5N01+r5+uHLdWrp6ne7HAAAgBk1kcBcL2nh\niP0FkWOjGGNWSnpY0l3W2tbLuRbR7zM3lak/GNbD2465XQoAAMCMmkhg3iWp3BhTYozxS7pX0hMj\nTzDGFEr6uaQPWWsPXc61iA2LclJ058r5+sHOWp3tGXC7HAAAgBlzycBsrQ1K+qykpyTtl/QTa+1b\nxphPGWM+FTntryVlS/qGMeY1Y0z1eNdOw+fADPjMTYvUPRDSd7fXul0KAADAjDHWWrdruEBFRYWt\nrq52uwyM4ZM/qNaOI63a/udblJYQ53Y5AAAAk2aM2W2trbjUeaz0h8vyp1vK1dkX1Pd31LpdCgAA\nwIwgMOOyXF2Qri1Lc/WdqmPq7g+6XQ4AAMC0IzDjsv3pljKd6RnUf7xU53YpAAAA047AjMu2pjBT\nm8sD+vdtR9U3GHK7HAAAgGlFYMakfPamMrV0DehHrxx3uxQAAIBpRWDGpKwrzdbakix964Wj6g/S\nZQYAALMXgRmT9rkt5Wro6NPj1SfdLgUAAGDaEJgxaZvKsrWmMEP/9vwRDYbCbpcDAAAwLQjMmDRj\njD63pVz1Z3u1dU+92+UAAABMCwIzrsiNS3J0dUGavvFcjYJ0mQEAwCxEYMYVMcboszeVq7a1R79+\n/bTb5QAAAEw5AjOu2K3L87QkL1Vfe65G4bB1uxwAAIApRWDGFfN4jD67pUw1TV168s0Gt8sBAACY\nUgRmTIk7VsxTaU6yHnr2sKylywwAAGYPAjOmhNdj9Jkby3SgoVN/2N/kdjkAAABThsCMKXPX6vkq\nzEqiywwAAGYVAjOmjM/r0advXKTXT7brhUPNbpcDAAAwJQjMmFLvumaBCjIS9dCzNXSZAQDArEBg\nxpTy+zz61A2l2l13RjuPtLpdDgAAwBUjMGPKvbdioXJT4/XQszVulwIAAHDFCMyYcglxXj14fal2\nHm1VdW2b2+UAAABcEQIzpsUH1xUpO9mvf6XLDAAAYhyBGdMi0e/VH28u1YuHmvXaibNulwMAADBp\nBGZMmw9tKFJGUpy+9uxht0sBAACYNAIzpk1KvE8f21SiP+xv0lun2t0uBwAAYFIIzJhWH9lYrNR4\nn77+HGOZAQBAbCIwY1qlJ8bpIxuL9eSbDTrc2Ol2OQAAAJeNwIxp97HKEiXGefU1uswAACAGEZgx\n7bKS/frQ+iL9au8pHWvpdrscAACAy0Jgxoz4482livN69A26zAAAIMYQmDEjclLjdd/aQm3dU68T\nbT1ulwMAADBhBGbMmE/dsEgeY/RvLxxxuxQAAIAJIzBjxuSnJ+i9FQv00+qTOt3e63Y5AAAAE0Jg\nxoz6kxsXKWytvvXCUbdLiQpNHX364ct1+sh3X9H7v7VT+051uF0SAAA4j8/tAjC3LMhM0ruuKdCP\nXjmuT9+0SLmpCW6XNOOONnfpqbca9fS+Bu05flaSVJSdpO7+kO76epW+eOsSfWJzqbwe43KlAABA\nIjDDBZ++sUw/3X1SD287pr+8Y5nb5Uy7cNjq9fp2Pf1Wg57e16iapi5J0oqCdH3xlsW69ap8Lc5L\n0ZmeQf3lz9/QPz55QM/ub9K/vG+VFmYluVw9AAAw1lq3a7hARUWFra6udrsMTKMvPLZHT+9rVNWX\ntygr2e92OVNuIBjWS0db9fS+Bv1+X6MaO/rl9RitL83Srcvz9bbleSrISLzgOmutfvZqvf72ibck\nSX/7zqv07msKZAzdZgAAppoxZre1tuJS59Fhhis+u6VMv9x7St+pOqo/e/tSt8uZEl39Qb1wsFlP\n72vQswea1NkXVGKcVzcsztGtV+Vpy9JcZSSN/8OBMUbvuXaB1pVk6Ys/2asvPb5Xz+xv1N/fs2JW\n/mABAEAsIDDDFWW5qbrj6nl6dEedHty8SOlJcW6XNCnNnf36w/5GPf1Wg7bXtGogFFZWsl+3X52v\nW5fnq7I8oIQ472W/78KsJP3owfX6921H9S9PH1R13Rn983tW6qYludPwKQAAwHgYkgHX7D/dodu/\nuk1feFu5vvC2xW6XM2G1Ld16el+Dnn6rUbuPn5G10oLMRL39qnzdujxPFcVZU3rD3r5THfrCj/fo\nUGOXPrS+SH95xzIl+i8/hAMAgNEmOiSDwAxXfeL71XrlWJuqvnyTUhOis8tsrdUb9e16OjKzxaFG\n56a9q+an6dbl+br1qjwtzU+d1nHGfYMhfeWpg3q46phKA8n63+9frdULM6bt6wEAMBcQmBETXj95\nVu/82nb9f7ct0advLHO7nCGDobBeOdY2NLPF6fY+eYy0tsS5ae+W5XmuzGCxo6ZFX3x8r5o6+/W5\nLeX6zE2L5PMynToAAJNBYEbM+Mh3X9Eb9e2q+vJNSvK7N6y+Z+DcTXuNemZ/ozr6gkqI8+j68hzd\nelW+tizNjYob79p7B/U3v3xTv3jtlFYvzND/ef9qlQSS3S4LAICYQ2BGzNhd16Z3/9tOffrGRbp5\nWa4GQ1bBkNVgKBx5WAXDznYwFFYwNOJ52GogGFYwHFYwZDUQcrbBcFgDwXPXRd7jvOsGQ6Pf83R7\nn/qDYWUkxenmpXm69ao8XV+eE7XjhX+195T+ausbGgxZ/bc7l+kDawuZfg4AgMtAYEZM+eDDL2l7\nTeukr/d6jHweozivR3FeI5/XoziPUZzPM+K4Rz7viHM8nqHncV6PclLj9bZlebquODNmhjmcbu/V\nnz3+uqpqWrRlaa7+8d0r5uTqiQAATAaBGTGltatfe46flc9r5Pd6nMAbCbJDIdczOvAOvebxyDOH\nl5EOh60e3Vmrf3zygJLjffqf71qht1+V73ZZAABEPQIzMMccbuzUF378mt461aH3VSzQX7/jKqXE\nM9U6AAAXM9HAHBu/dwZwSeV5qdr66U36zE2L9NPdJ3X7V19UdW2b22UBABDzCMzALOL3efRnb1+q\nn3xygyTpfd/aqX/+3QENBMMuVwYAQOwiMAOzUEVxlp78/PV6z7UL9I3nj+ieb2zX4cZOt8sCACAm\nEZiBWSol3qd/fs8qfetD1+p0e5/ufKhK39t+TOFw9N23AABANCMwA7Pc26/K11NfuF6bygL677/a\npw9/9xWdbu91uywAAGIGgRmYA3JS4/Wdj1ToH+5Zod11Z/T2//OifrX3lNtlAQAQEwjMwBxhjNEH\n1hXqt5/frNKcFP3pj/bo84/tUXvPoNulAQAQ1QjMwBxTEkjWTz+1Qf/1lsX69eunddtXX9SOmha3\nywIAIGoRmIE5yOf16HM3l+vnf7JRiXFefeDhl/V3v96n/mDI7dIAAIg6BGZgDlu1MEO/+dxmfWh9\nkb5TdUzv+sYOHW3ucrssAACiCoEZmOMS/V793d1X698/XKH6s72686Eq/XT3SVnL9HMAAEgEZgAR\ntyzP05Of36wVBen60uN79V9+/Jo6+7ghEAAAAjOAIfPSE/Wfn1iv/3rLYj2x95TufKhKe0+cdbss\nAABcRWAGMIrXY/S5m8v1409u0GAwrHf/2w59+8UjrBAIAJizCMwAxnRdcZZ++/nNunlZrv7htwf0\nwCO71NzZ73ZZAADMOAIzgIvKSPLrm/dfq/9x99V6+Wirbv/qNr14qNntsgAAmFEEZgDjMsbo/vVF\neuKzlcpMitOHv/uK/ueT+zUYCrtdGgAAM4LADGBCluSn6onPVuoD6wr1rReO6j3f3KnjrT1ulwUA\nwLQjMAOYsES/V/9wzwp944PX6Ghzl/7oX7fpib2n3C4LAIBpRWAGcNnuWDFPT35+sxbnp+pzP9qj\nP3t8r3ppbP66AAAgAElEQVQGgm6XBQDAtCAwA5iUBZlJ+vGD6/XZm8r001dP6s6HqvTWqXa3ywIA\nYMoRmAFMms/r0ZfevkQ//Pg6dfUFdc/Xd+h724+xrDYAYFYhMAO4YhvLAvrdF67X5vKA/vuv9ukT\n369WW/eA22UBADAlCMwApkRWsl8Pf6RCf33ncr14qEW3f/VF7TzS6nZZAABcMQIzgCljjNHHKkv0\n809vVLLfpw88/JL+5emDCjJnMwAghhGYAUy5qwvS9as/rdS7r1mgh56t0b3ffkknzzBnMwAgNhGY\nAUyL5HifvvLeVfrqvat1oKFTd3x1m3735mm3ywIA4LIRmAFMq7tWF+g3n6tUSSBZn/qPV/VXW99Q\n32DI7bIAAJgwAjOAaVeUnazHP7VRn7y+VD98+bje+bUqHWrsdLssAAAmhMAMYEb4fR79xR3L9P2P\nrVVb94De8VCVfvhyHXM2AwCiHoEZwIy6fnGOnvz89VpbkqW/2vqmPv3DV9XeM+h2WQAAXBSBGcCM\ny0mN16MfXau/uH2pfr+vUXf86zZV17a5XRYAAGMiMANwhcdj9MkbFumnf7JRXo/Re7+1U1/8yV6d\nbu91uzQAAEYhMANw1eqFGfrN5yr14PWl+tXeU7rpK8/rK08dVFd/0O3SAACQRGAGEAVSE+L0F7cv\n0zNfvEG3Ls/X156r0Y3/6zn98OU6VgkEALiOwAwgaizMStK/3rdGv/jMJpUEkvVXW9/U7V/dpucO\nNDGbBgDANQRmAFFn9cIM/eSTG/TN+6/VYCisjz6yS/d/52W9dard7dIAAHPQhAKzMeY2Y8xBY0yN\nMebPx3h9qTFmpzGm3xjzpfNeqzXGvGGMec0YUz1VhQOY3Ywxuu3qfD39X27Q37xjud461aE7H6rS\nlx7nxkAAwMwyl/o1pzHGK+mQpFsknZS0S9J91tp9I87JlVQk6W5JZ6y1XxnxWq2kCmtty0SLqqio\nsNXVZGsAw9p7B/WN52r0ve218nikT2wu1SdvWKSUeJ/bpQEAYpQxZre1tuJS502kw7xWUo219qi1\ndkDSY5LuGnmCtbbJWrtLEqsPAJgW6Ylx+os7nBsDb1mer4eerdGN/+t5/efLx7kxEAAwrSYSmAsk\nnRixfzJybKKspD8YY3YbYx682EnGmAeNMdXGmOrm5ubLeHsAc8nCrCQ9dN8abf30RhVnJ+kvt77B\njYEAgGk1Ezf9VVprV0u6XdJnjDHXj3WStfbb1toKa21FTk7ODJQFIJatKczU45/aoG/ef83QjYEf\n+s4r3BgIAJhyEwnM9ZIWjthfEDk2Idba+si2SdJWOUM8AOCKOTcGzhu6MfDNU+1DNwY2tPe5XR4A\nYJaYSGDeJancGFNijPFLulfSExN5c2NMsjEm9dxzSbdKenOyxQLAWPw+jz66qUQvfOkmfWJzqZ54\n7ZRu/Mpz+t9Ps2IgAODKXXKWDEkyxtwh6f9K8kr6rrX2740xn5Ika+03jTH5kqolpUkKS+qStFxS\nQE5XWZJ8kv7TWvv3l/p6zJIB4Eocb+3RPz91QL9+/bQCKfH64q2L9d5rF8jnZep5AMCwic6SMaHA\nPNMIzACmwqvHz+jvf7Nfu+vOaHFeiv7ijmW6cXGOjDFulwYAiAIEZgCQZK3V795s0D/+7oDqWntU\nWRbQX96xTMvnp7laU1d/UM2d/Wru7FdTZ7+6+4Oan5GoouwkFWQk0g0HgBlAYAaAEQaCYf3gpTr9\n6zOH1dE3qPdcs0BfvHWJ8tMTpvRrtHb3jwrCzSMfXf1q6uxTc2e/+gYvPne012NUEAnPhVlJQ9vC\nrGQVZScpmcVaAGBKEJgBYAztPYP62nOH9eiOOnk9Rp+4vlSfvL70oiHUWqv23sFRoXesMNzU2acz\nPWOv3ZSRFKfc1HjlpMYrJyWyTY1XbmrC0PPEOK/qz/bqeGuP6tq6Vdfao+NtPapr7VF77+j3DaT4\nI0E6WQuzklR0LlRnJyknJZ4hJwAwQQRmABjH8dYe/dNTB/Sb108rJzVeH9lQpMGQHQ7CXf1qiTwf\nGGMlQb/PMyoE56bFKyclYUQYdrbZKX7F+7xXVGt7z6ATns8F6UioPtHWq1PtvRr513iS3xvpRo/o\nTmcnqygrSQWZiYqb5qEeg6GwuvuD6uwLqnsgqK6+oLr6ncfQ8f6QuvoHI8dD6uobVMhK1xRmaHN5\nQCsXZEx7nQAgEZgBYEJ2153RP/zWuTHQGCk72a/AiC7wqE5w5HhuWrxS431R0cntD4Z08kykM93a\nrbq2Hp2IdKaPt/WoPzgc9r0eo/kZCaOGdxRlOZ3p/LQE9QXDFwTcrr6gOs89P/foi4TfEcfPheGR\nX288iXFepST4lBLvPIJhqwMNHbJWSon3aX1ptirLslVZnqNFOclR8b2easFQWAcaOrWrtk01TV3a\nsChbb1uWp4S4K/sBC8DEEZgBYIKstWrrHlBaYtys6myGw07H/PwgXdfWo+Ot3RcdQnIxCXEepcTH\nKSXeCbvJfp9SE3xKjh8Ovinxkf2E0fupCcPPk/3eMW9qPNM9oJ1HW1VV06Kqwy063tYjSZqXnqBN\nZQFVlgW0sSxbualTN+58JnX3B7Xn+Fntqm3T7roz2nP8jLoHQpKc723fYFip8T7dviJfd68p0PqS\nbHk8s+8HBSCaEJgBAOPq6BvU8UgnuqmjT0n+kWHXq5T4OCXHe5Ua2c70zB3HW3tUVdOi7TUt2n6k\nRWcjAX9pfqoToMsDWleSpSR/dN4E2djRp121baquPaPqujbtP92pUNjKGGlpfpquK87UtUWZqijO\nUn5agl462qqte+r15Bun1T0Q0rz0BL1z9Xzds6ZAS/Pdm9VlOnX2DWrb4RbtrjujawozdfOyXDrs\nmFEEZgDArBEKW+071aFtNc3aXtOiXbVnNBAMK85rdE1hpiojAXpFQborU/KFw1aHm7pUXTcckE+0\n9UpyusdrFmaqotgJx2sKM5SWEHfR9+odCOkP+xv1iz31euFQs4Jhq6X5qbpnTYHeuXq+5qUnztTH\nmha1Ld165kCTnj3QqFeOtWkwZOX1GIXCVqnxPt2xYp7uXlOgdSVZdNgx7QjMAIBZq3cgpOq6NlUd\nblFVTYveOtUhSUpN8GnjomxVlgW0qSygksD0jH/uGwzp9ZPtQ8Mrqmvb1NHnLMMeSIkf6h5fV5yl\n5fPTJj3Up7WrX79547S27qnXnuNnZYy0oTRbd68p0O1X5yt1nOAdLQZDYe2qbdNzB5r0zIEmHW3u\nliSV56Zoy7Jc3bw0T6sWpqu69swFHfa7VhfonjUFWpKf6vKnwGxFYAYAzBmtXf3acaRV22tatO1w\ni+rPOt3dgoxEbYrcPLhpUbayU+In9f5t3QOqjoTjXbVteqO+XYMh59/PstwUVUSGVlQUZaooO2la\nQvqxlm79Yk+9fvFavepaexTv8+iW5Xm6Z02Brl+cE1Xj79u6B/T8QScgv3ioWZ19Qfm9Hq1flK0t\nS3K0ZWmeCrOTxrx2rA77snlpumfNfL1zVcGUzp0OEJgBAHOStVZ1rT3aVtOi7YdbtONIy1D3d/m8\nNFWWOzcQXlecpUT/heNlrbWqbe1xuse1Z7Srrm2oK+r3erRiQboqijN1XVGWri3KVGayf8Y/354T\nZ/WLPfX61d5TOtMzqKxkv+5c6QxlWLMwY8ZnFbHW6mBjp57Z36RnDzTp1eNnZK2UkxqvLUtytWVZ\nrirLApe96E5rV79+/brTYX/thNNh37goW3evLtBtMdJhR3QjMAMAIGf88xv17ao63KyqGucGs8GQ\nld/rUUVxpjaVOWOfDzV2Dg2xaOkakCSlJ8YNd4+LM7WiID2qbkobDIX14qFmbd1Tr9/va1R/MKyi\n7CTdvbpAd68pUEkgedq+dt9gSDuPtOqZA4167kDzUFd/RUG6tizN1c3LcnX1/PQpG4d8foc9Ic6j\nW5bn654187W5PLo67IgdBGYAAMbQMxDUK8eGxz8faOgceq0wK8m5Oa8oS9cVZ2pRTkrM3HjW2Teo\n373ZoF+8Vq8dR1plrbR6YYbuWVOgO1fOm/RwlJEa2vv0bOSGvaqaFvUNhpXk96qyLKCbl+XqpiW5\nyk2b3iETF+uwvyPSYV/tQof9cllr1djRr4ONnTrY0KFjLd0qCSRrQ2lAy+enyRsjf+ZmAwIzAAAT\n0NzZrwMNHVqSlzrtYW+mNLT36Ym99dq655T2n+6Qz2N0/eIc3bOmQG9bljfmUJSxhMNWr9e369n9\njXrmQNPQzZULMhN189JcbVmWp3UlWa513cfqsBdnJ+nuNQW6e3WBiqexwz5R7T2DQ8H4YGOnDjV0\n6WBj56gl79MT44b20xJ8WlearQ2l2dqwKFtL8lJj5oe2WERgBgAAOtDQoV/sOaVfvlav0+19Son3\n6bar83XPmgKtL82+oJvZ2TeoqsMteuZAk54/2KSWrgF5jFRRlKUty3K1ZWmuynNToq6Le67DvnVP\nvXYedTrsawrPddjnK2uax5r3DoRU09Q1Ihx36VBDpxo6+obOSU3waWl+qhbnpWpJfqqW5DnPM5P9\nauzo00tHW7XzSKt2Hm1VXauzcE9Wsl/rSrK0cZEToBflRN/3PpYRmAEAwJBw2OrlY23auueknnyj\nQZ39QeWlxeuu1QXasjRX+0516NkDTXr5WKsGQ1ZpCT7duMQZi3x9ec6M39x4JU639+qJ105p6556\nHWjolM9jdOOSHN0d6bBfSUc8GAqrtrVbBxuGw/Ghxi7VtnbrXKTy+zwqz00ZDsX5qVqan6r8tIQJ\nh936s71OeD7Sqp1HWnSq3QneOanxWl+a7QTo0uxpm5VlriAwAwCAMfUNhvTM/iZt3VOv5w82KRge\nniLv5qVOF/naokxXFoGZavtPd+gXr9Xrl3tOqaHD6bDfHumwrxujw36OtVan2vucbnFD11DX+EhT\nlwZCYUmSx0jFgWQtGdkxzk9VcXbylI5DttbqeFvPUPd555FWNXX2S3KWjj83fGPDomwtyBx7uj6M\njcAMAAAuqa17QK8ca9XyeekXnRt5NgiFrV4+1qpf7Kkf6rDnpyXortXzdceKeeoeCOpQQ6cONnYN\ndY27+oND189PT9Di/NFDKcpyU1wZv22t1ZHmbu082qqXIiG6rduZ2WVhVqI2lGZr46KANizKVt4s\nGZc/XQjMAAAAYxjusJ/U8webhzrskpSRFDfcMY6E4/K8VKUnRu+cz+Gw1aGmzqEhHC8dbR2ae7w0\nkKz1i5whHOtLsxWYgtlSZhMCMwAAwCW0dQ9o2+FmZSX7tSQvVTmp8TE/JjgUttp/umNoCMcrx9qG\nuuWL81IiQzgCWl+apYyk2BmbPh0IzAAAAFAwFNYb9e1D45931bapbzAsY6Rl+WnaEOk+X1ecOecC\nNIEZAAAAFxgIhrX35NmhIRy7j5/RQNAJ0EvyUrWuJEtrS7K1tiRLOamzewgHgRkAAACX1DcY0t4T\nZ/XKsTa9Utum6toz6h0MSZJKc5IjATpL60qyNT8j0eVqp9ZEA7NvJooBAABAdEqI82pdabbWlWZL\nclZQfLO+3QnQx9r069dP60evnJDkrPK4tiRL6yMd6LkyDzQdZgAAAFxUKGx1oKFDrxxr08tHnS70\nuWnsclPjne5zabbWlWSpLCclppbyZkgGAAAAppwzD3SXXjrqdKBfPtaqxg5nIZXMpDitjYyBXleS\npWXz0qZ0EZepxpAMAAAATDljjMpyU1WWm6r71xfJWqsTbb166Vjr0DCOp95qlCSlxvtUUZw5dBPh\nygXpiovBFSQJzAAAAJg0Y4wKs5NUmJ2k91UslCSdOturXbVtejkSoJ87eECSlBjn1TVFGVpbnK11\npVlavTDDldUSLxdDMgAAADCtWrr6tevYcIDe39AhayW/16NVC9P1kY3FunPl/BmviyEZAAAAiAqB\nlHjdvmKebl8xT5LU3jOo6jonPL90rE3dkZUIoxWBGQAAADMqPSlONy/L083L8twuZUJib9Q1AAAA\nMIMIzAAAAMA4CMwAAADAOAjMAAAAwDgIzAAAAMA4CMwAAADAOAjMAADAPeGQdPaE1NMmhcNuVwOM\niXmYAQDA9LNWaj8pNR+QmvZJTfudbfNBKdjnnGO8UnJASs6RkrKdbXKOlBx5nhR5LTngPOLTJGPc\n/VwTYa000C31tUt9Z51t79kR+x3OeV6f5ImTvHGSxxfZjrU/8rzz933jn+uhVzoZBGYAADC1uppH\nh+Km/U5Q7u8YPid1npS7TKr4uBQokwb7pJ4WqbtZ6m5xHvW7ne1A59hfx+sfI1xHwvRQuB4RuP3J\nk/9MoeCIgDtG6B0VgM8PxO1SOEpWsjOeC0O41y+lzZeySi98JGbGxg8l04zADAAAJqf37Hkd48ij\np2X4nMRMKfcqaeX7pdylUu5yKWeplJQ18a8zFKbPPZovDNfdzVLLYWcb7B37feKSIkH6vE51YpbT\n5R4v9A50jV+jJ05KzJAS0qWEDOdzZ5U4zxPSR792/v65TnloUAoPRrbBEfvBEcfP3w9e+rqhYxd5\nz9CA1H5Cqtshvf4TSXb4cyWkR8LzogvDdHJgzoRpAjMAADPBWqfD2tkodTWM2DZIvWecMJeQft4j\nbXTIik+TfP6Zr32g2xk6cX7HuKN++Bx/itMxXnqHlLPMeZ67XErJvfJQFZcgpS9wHhOt91LhuqtB\nanzTeR4acK6LP+/7nVVy8ZB7/n5c4pV/To9XUsKVvceVGuyTztZJbUdHP07ukt76uWRHjDP3pzrf\no3MBOntEqE7Jm1VhmsAMALNZOOx02wZ7nRAx2CMN9DjbwZ7IsV4p1O/8WtaXMOIR72zjzts/t/X6\nZ9U/iJMWDks9rReG4K7G4W1Xo/PaWJ1PX4IzpGCwx+lm2kvc+OZLHCdYj3jEpw0Hu5GPuHECWXBA\naj08IhhHusdnajXUdfTGSzlLpOLNwx3j3GVS+sLo+fPgT3YemUWXPvfc+GJfgjPed66LS3D+++Ys\nufC14IB09viFYbrhDenAr0cPO4lLioTnEYH6XJc6dV7MjaXmTwYAzCRrnUAUDjn/uNjQ8POhMBsJ\nseeejwq44z0/77rBXue1aWPGDtIXC9jnB/Fzz+MSI2E9fsQ23umkjtrGR8ZbnnfM452ejxcciITd\nprFD8FAYbnL+O54vPl1KzXM6bQuuc7YpeVJq/uhtQvpw0LTW+dV/X7tzI1hf++hHf/uFx3panNBy\nbujApcbKev0XBuu4ROc9WmuGrzdeKVAuzV8trbpvuGOcVTJ933M3GCPFp7hdRWzw+Z3x5oGyC18L\nBaX2c2H62HCYbj4oHXpquIsvOf/vZ5aMDtRFG50/Y1GKwAxgbuo9IzUfkloOOn+ht590gkI4NDrE\nngu3NnTe6+HRgXfomos8tyPe70r5EpzujT/ZCTrnnicFnH1/snNs5PPzz41LlOKSJX+Sc8wXLwX7\nI4++Edu+Mfb7nTB+yXP7ndB3wXn9Tqd1Kr4XkhPsxgzb/okHcWOcX9WPDMO9bWN9MWfcZkq+E4bz\nro6E4vzhbUquE4bjEifxWYwUn+o80ifxvbDW+W8zFLBHhu6zFw/iXY1O92/pHw13jLPLnO8NMBFe\n33An+XzhkDN8p+2o1HpkdKg+8ozz98KW/5/ADACusFbqPO0E4pZDo7fdTcPneeOljEInVHk8TgDz\n+JwumvE6W49/+PnQsZHPfZHnY13vGfH6xa6PiwTcJCfIXiz4xiXF3K8yx2St8wPEyAAeGnAewf4R\n236n0ztyGxq48Nioa0ZsRz7v6R77fUODzj/oyQGn45tVKhWuHx2Cz22Tc6L71/bGOH+G/ElS2jy3\nqwEcHq/zd2xGoVR64+jXwmHn7+ko/+Esiv+vB4AJCoecMZbNByMd40jnuOXw6Gms4tOlnMVS+a3O\nNrDE2WYUza5fMccCYyLDK+KcbiqAucnjkdIL3K7ikgjMAGLHYJ8zxnJkKG4+5NykNHJ8XEqeFFgs\nrXzfcCjOWTrr7toGAMwMAjOA6NPXPnp88blhFGfrRox7Nc4d8IElUtmWSDBe4gTlxAxXywcAzC4E\nZmCuG+h2brzobHTC6LgPOwXnXOT1/s7hjnFXw3B9Xr9z89G8VZGO8WInGGeXTe6mKgAALhOBGZgL\n+rukM8dG3J18xLlDufXI6HA644yzTKvxOOE3u0xadNNwKA4skTKLo/smKwDArMe/QsBs0d81YiL5\nSDBujeyfH4qTc50VmcpuHp4GKK0gMpPDiBA75uNSr1/OOYwnBgBEPwIzEEuGQvF5gbjtiDOP6kjn\npscqe5szMfzIJUuZlQAAgAkjMAPRpr9zuFPcGhk6cS4gjxmKF0llt0jZI5ceLSEUAwAwRQjMgFsG\neqSmfVLD69Lp16XmA05AHrmghuQslpBVKpXfMiIQn+sUs5wrAADTjcAMzISuZicYN7wuNbzhPFpr\nhqdIS0iXcq+SFt86HIizF0mZJYRiAABcRmAGplI47MxGca5rfC4cj7zpLr1Qyl8hXfUuZztvpZS+\nkBvgAACIUgRmYLIGe6Wm/aO7xg1vSoPdzusen7O63KKbnGB87pGY6W7dAADgshCYgYnobj0vGL/h\nrD5nQ87r/lQnDK+5f7hrnLNU8sW7WzcAALhiBGZgpHDYWX75/HDcUT98TlqBE4qX3RnpGq+UMook\nj8e9ugEAwLQhMGP2sVYa7HHmLB7ocqZpG+i69H7HaanxTam/w3kf43VWnCvaNGJIxUopOdvdzwcA\nAGYUgRnRIRyWetsmHm7P3x/oHj420DU8+8SlxCVJ/hRnJorkHGnl+4bDce5yZ7lmAAAwpxGY4a6z\nx6XXfiS99h/O80vxxjvh1p/iLMzhT5GSsp0hEfEpzljioddH7ieP8VqK5PFO/2cEAAAxjcCMmTfY\nJx34tbTnP6Sjz0uyUumN0ro/kRIzLhJ2IwHZG+du7QAAYM4hMGPmnN4rvfoD6Y2fSH3tztzDN3xZ\nWv0BKbPI7eoAAADGRGDG9Oppk954XNrzA2e2CW+8tOwdzvRrJTcwswQAAIh6BGZMvXBIOvqcM+Ti\nwG+k0IA0b7V0x1ekFe9h4Q4AABBTCMyYOm3HpNf+03l0nHSCccXHhhfzAAAAiEEEZlyZgR5p/6+c\nIRe12yQZqexm6e3/Q1pyByvdAQCAmEdgxuWzVjr1qnMD35s/cxb6yCyWtvw3adV9UvoCtysEAACY\nMgRmTFx3i/T6j52xyU37JF+itPwuZ8hF0SZu4AMAALMSgRnjCwWlI884Qy4O/k4KD0oFFdKd/1e6\n+l1SQrrbFQIAAEwrAjPG1nrE6STv/ZHUeVpKCkjrPul0k3OXuV0dAADAjCEwY1h/l7Tvl05QPr5D\nMh6p/FZnOrjyWyWf3+0KAQAAZhyBeS6xVuo7K3WcijzqpY7TkW29dOIVaaBLyi6T3va30sp7pbR5\nblcNAADgKgLzbBEOSz2tkfB7asT2lNR5avj5YM95FxopJU9Km++MSV79QWnhOskYVz4GAABAtCEw\nx4JQUOpuOi8IjwjEHaecccahgdHXeXxS6jwnDOevkBbf5jxPmy+lntvmS944dz4XAABADCAwRwNr\npab9zlRto4ZLRJ53NUg2PPoaX8Jw8F24LhKEC4YDcVqBlJzDVG8AAABXiMDslo5T0tHnpSPPOdvu\npuHX/CnD4XfRFmcc8ahAXOAsO82wCQAAgGlHYJ4p/Z1SbdVwSG456BxPCkilNzqPBRVOGE5Ic61M\nAAAAjEZgni6hQal+93BArq+WwkFndbyijc58xotuknKvYtgEAABAFCMwTxVrpZZDwwG5tkoa6JRk\npPlrpE2fj3SR10pxCe7WCgAAgAkjMF+JrqbR45A7TznHM0ukle91AnLxZikpy70aAQAAcEUIzJdj\noFuq2zEckpveco4nZkolNzhDLEpvlDKL3asRAAAAU2pCgdkYc5ukr0rySnrYWvuP572+VNL3JF0j\n6a+stV+Z6LVRLRySTu2Rjj4nHXleOvGyFB6UvPFS4XpnNbzSG6X8VYxDBgAAmKUuGZiNMV5JX5d0\ni6STknYZY56w1u4bcVqbpM9JunsS10YPa6W2o5GA/JxUu03qa3dem7dK2vBpqfQmJyzHJbpbKwAA\nAGbERDrMayXVWGuPSpIx5jFJd0kaCr3W2iZJTcaYP7rca6PG7/9GevPnUvtxZz+9UFp+lxOQS26Q\nkrPdrQ8AAACumEhgLpB0YsT+SUnrJvj+E77WGPOgpAclqbCwcIJvP4UGuqT5q6TKLzjDLLJKWRgE\nAAAA0XPTn7X2/7V3P6F2nGUcx78/amzFtmr/UEMSNIVuikhtD6WL0o34p3Whgous7EIQ0YpduKgU\npC4V6kIES8RCFdHiP8xGpNWCKxtvNUkTa22KFb3Exj9o2o1Y+3Qxb8J4vXdu2tw5M8n9fuDlvPed\nmXNn3ofnnufOzDlnP7AfYLFY1NJ34AP3L/1XSpIkaf7O5p1qq8Ce3s+729jZOJdtJUmSpMmdTcH8\nK+C6JHuTvB7YBxw4y+c/l20lSZKkyW16S0ZVvZTkLuCndB8N92BVHUvyibb8gSRvBVaAy4GXk9wN\nXF9Vp9bbdqyDkSRJkrZaqpZ/u/BmFotFraysTL0bkiRJuoAleaKqFput57dtSJIkSQMsmCVJkqQB\nFsySJEnSAAtmSZIkaYAFsyRJkjTAglmSJEkaYMEsSZIkDbBgliRJkgZYMEuSJEkDLJglSZKkARbM\nkiRJ0gALZkmSJGmABbMkSZI0wIJZkiRJGpCqmnof/k+SvwJ/nHo/xFXA36beCZ1hPObFeMyL8Zgf\nYzIvxmN9b6uqqzdbaZYFs+YhyUpVLabeD3WMx7wYj3kxHvNjTObFeJwbb8mQJEmSBlgwS5IkSQMs\nmDVk/9Q7oP9hPObFeMyL8ZgfYzIvxuMceA+zJEmSNMAzzJIkSdIAC2ZJkiRpgAXzNpPkuSRPJjmU\nZDzwfKoAAAOLSURBVKWNXZHkkSTPtMe39Nb/XJLjSZ5O8r7e+E3teY4n+UqSTHE855skDyY5meRo\nb2zL5j/JxUkebuOPJ3n7Mo/vfLRBTO5Lstry5FCSO3rLjMlIkuxJ8liS3yY5luQzbdwcmcBAPMyP\niSS5JMnBJIdbTL7Qxs2RsVWVbRs14DngqjVjXwLuaf17gC+2/vXAYeBiYC/wLHBRW3YQuAUI8BPg\n9qmP7XxowG3AjcDRMeYf+CTwQOvvAx6e+pjn3jaIyX3AZ9dZ15iMG4udwI2tfxnw+zbn5si84mF+\nTBeTAJe2/g7g8Tav5sjIzTPMAvgg8FDrPwR8qDf+3ar6d1X9ATgO3JxkJ3B5Vf2yuoz6Zm8bDaiq\nXwD/WDO8lfPff67vA+/27P+wDWKyEWMyoqo6UVW/bv0XgKeAXZgjkxiIx0aMx8iq82L7cUdrhTky\nOgvm7aeAR5M8keTjbeyaqjrR+n8Brmn9XcCfetv+uY3tav2143pttnL+z2xTVS8B/wKuHGe3L3if\nTnKk3bJx+vKmMVmSdhn4XXRn0MyRia2JB5gfk0lyUZJDwEngkaoyR5bAgnn7ubWqbgBuBz6V5Lb+\nwvafpp81OBHnfza+BlwL3ACcAO6fdne2lySXAj8A7q6qU/1l5sjyrRMP82NCVfXf9jq+m+5s8TvW\nLDdHRmDBvM1U1Wp7PAn8CLgZeL5dnqE9nmyrrwJ7epvvbmOrrb92XK/NVs7/mW2SvA54E/D30fb8\nAlVVz7cXpZeBr9PlCRiT0SXZQVecfbuqftiGzZGJrBcP82MequqfwGPA+zFHRmfBvI0keWOSy073\ngfcCR4EDwJ1ttTuBH7f+AWBfe8fsXuA64GC77HMqyS3tvqaP9rbRq7eV899/ro8AP29nG/QqnH7h\naT5MlydgTEbV5u4bwFNV9eXeInNkAhvFw/yYTpKrk7y59d8AvAf4HebI+KZ+16FteY3uEtrh1o4B\n97bxK4GfAc8AjwJX9La5l+5dtU/T+yQMYEH3R/JZ4Ku0b420bRqD79BdwvwP3T1jH9vK+QcuAb5H\n98aOg8C1Ux/z3NsGMfkW8CRwhO7FY6cxWUosbqW7lHwEONTaHebI7OJhfkwXk3cCv2lzfxT4fBs3\nR0ZufjW2JEmSNMBbMiRJkqQBFsySJEnSAAtmSZIkaYAFsyRJkjTAglmSJEkaYMEsSZIkDbBgliRJ\nkga8AoIPRsCpMw6/AAAAAElFTkSuQmCC\n",
      "text/plain": [
       "<matplotlib.figure.Figure at 0x106fa4e0>"
=======
      "image/png": "iVBORw0KGgoAAAANSUhEUgAAAswAAAHVCAYAAADl4K3UAAAABHNCSVQICAgIfAhkiAAAAAlwSFlz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\nDMySJElSBQOzJEmSVMHALEmSJFX4fwI/+8JcVWJnAAAAAElFTkSuQmCC\n",
      "text/plain": [
       "<matplotlib.figure.Figure at 0xcb1f5c0>"
>>>>>>> 7e0127a971728d12b358c173eea526f2468484e9
      ]
     },
     "metadata": {},
     "output_type": "display_data"
    }
   ],
   "source": [
    "import matplotlib.pyplot as plt\n",
    "%matplotlib inline\n",
    "\n",
    "plt.figure(figsize=(12,8))\n",
    "plt.plot(t_scores[0], t_scores[1].mean(axis=1))\n",
    "plt.plot(t_scores[0], t_scores[2].mean(axis=1))"
   ]
  },
  {
   "cell_type": "markdown",
   "metadata": {},
   "source": [
    "Вывод: по данным кривым можно сказать, что после примерно 22000 объектов качество сильно не меняется, можно использовать сокращенную выборку, но мы все равно будем использовать полную, поскольку ресурсов на это хватает."
   ]
  },
  {
   "cell_type": "markdown",
   "metadata": {},
   "source": [
    "2\\. Часто несбалансированные по классам выборки приводят к различным проблемам при обучении моделей. Давайте попробуем по-разному обработать выборку, поиграть с распределением объектов по классам и сделать выводы о том, как соотношение классов влияет на качество модели."
   ]
  },
  {
   "cell_type": "markdown",
   "metadata": {},
   "source": [
    "2.1\\. Задайте веса объектам так, чтобы соотношение классов с учетом весов объектов изменилось. Попробуйте не менее трёх различных вариантов весов. Меняются ли результаты классификации? Как это сказывается на качестве модели? Какой вариант выглядит наиболее оптимальным с точки зрения качества?"
   ]
  },
  {
   "cell_type": "code",
<<<<<<< HEAD
   "execution_count": 8,
=======
   "execution_count": 22,
>>>>>>> 7e0127a971728d12b358c173eea526f2468484e9
   "metadata": {
    "collapsed": false
   },
   "outputs": [
    {
     "data": {
      "text/plain": [
       "-1    37024\n",
       " 1     2976\n",
       "Name: label, dtype: int64"
      ]
     },
<<<<<<< HEAD
     "execution_count": 8,
=======
     "execution_count": 22,
>>>>>>> 7e0127a971728d12b358c173eea526f2468484e9
     "metadata": {},
     "output_type": "execute_result"
    }
   ],
   "source": [
    "counts = y.value_counts()\n",
    "counts"
   ]
  },
  {
   "cell_type": "code",
<<<<<<< HEAD
   "execution_count": 10,
=======
   "execution_count": 25,
>>>>>>> 7e0127a971728d12b358c173eea526f2468484e9
   "metadata": {
    "collapsed": false
   },
   "outputs": [
    {
     "name": "stdout",
     "output_type": "stream",
     "text": [
<<<<<<< HEAD
      "ROC AUC for logistic regression with weights #1: 0.125951635518\n",
      "ROC AUC for logistic regression with weights #2: 0.126867491416\n",
      "ROC AUC for logistic regression with weights #3: 0.125913829701\n"
=======
      "ROC AUC for logistic regression with weights #1: 0.627093485276\n",
      "ROC AUC for logistic regression with weights #2: 0.62707987982\n",
      "ROC AUC for logistic regression with weights #3: 0.627106693794\n"
>>>>>>> 7e0127a971728d12b358c173eea526f2468484e9
     ]
    }
   ],
   "source": [
    "# 1 вариант. Добавим увеличивающие веса только для объектов класса 1\n",
    "sample_weights = np.ones(data.shape[0])\n",
    "sample_weights[data.label==1] = float(counts[-1])/counts[1]\n",
<<<<<<< HEAD
    "scores = cross_val_score(lr, X, y, scoring=scorer, cv=StratifiedKFold(y, n_folds=5), fit_params={'sample_weight': sample_weights})\n",
=======
    "scores = cross_val_score(lr, X, y, scoring='roc_auc', cv=StratifiedKFold(y, n_folds=5), fit_params={'sample_weight': sample_weights})\n",
>>>>>>> 7e0127a971728d12b358c173eea526f2468484e9
    "print \"ROC AUC for logistic regression with weights #1: {}\".format(np.mean(scores))\n",
    "\n",
    "# 2 вариант. Добавим уменьшающие веса только для объектов класса -1\n",
    "sample_weights = np.ones(data.shape[0])\n",
    "sample_weights[data.label==-1] = float(counts[1])/counts[-1]\n",
<<<<<<< HEAD
    "scores = cross_val_score(lr, X, y, scoring=scorer, cv=StratifiedKFold(y, n_folds=5), fit_params={'sample_weight': sample_weights})\n",
=======
    "scores = cross_val_score(lr, X, y, scoring='roc_auc', cv=StratifiedKFold(y, n_folds=5), fit_params={'sample_weight': sample_weights})\n",
>>>>>>> 7e0127a971728d12b358c173eea526f2468484e9
    "print \"ROC AUC for logistic regression with weights #2: {}\".format(np.mean(scores))\n",
    "\n",
    "# 3 вариант. Добавим веса для объектов обоих классов обратно пропрционально их долям в выборке\n",
    "sample_weights = np.ones(data.shape[0])\n",
    "sample_weights[data.label==-1] = 1./np.mean(y==-1)\n",
    "sample_weights[data.label==1] = 1./np.mean(y==1)\n",
<<<<<<< HEAD
    "scores = cross_val_score(lr, X, y, scoring=scorer, cv=StratifiedKFold(y, n_folds=5), fit_params={'sample_weight': sample_weights})\n",
    "print \"ROC AUC for logistic regression with weights #3: {}\".format(np.mean(scores))"
   ]
  },
  {
   "cell_type": "markdown",
   "metadata": {},
   "source": [
    "В результате применения весов качество чуть-чуть подросло, будем использовать веса из варианта 2."
   ]
=======
    "scores = cross_val_score(lr, X, y, scoring='roc_auc', cv=StratifiedKFold(y, n_folds=5), fit_params={'sample_weight': sample_weights})\n",
    "print \"ROC AUC for logistic regression with weights #3: {}\".format(np.mean(scores))"
   ]
>>>>>>> 7e0127a971728d12b358c173eea526f2468484e9
  },
  {
   "cell_type": "markdown",
   "metadata": {},
   "source": [
    "2.2\\. Примените к выборке технологию undersampling: для этого нужно убрать из обучения некоторое количество объектов большего класса таким образом, чтобы соотношение классов изменилось. Попробуйте не менее трёх различных вариантов undersampling (варианты могут отличаться как по количество отфильтрованных объектов, так и по принципу выборка объектов для отсеивания из выборки). Меняются ли результаты классификации? Как это сказывается на качестве модели? Какой вариант выглядит наиболее оптимальным с точки зрения качества?"
   ]
  },
  {
   "cell_type": "code",
   "execution_count": 20,
   "metadata": {
    "collapsed": false
   },
   "outputs": [
    {
     "data": {
      "text/plain": [
       "Int64Index([    0,     1,     2,     4,     5,     6,     7,     8,     9,\n",
       "               10,\n",
       "            ...\n",
       "            39990, 39991, 39992, 39993, 39994, 39995, 39996, 39997, 39998,\n",
       "            39999],\n",
       "           dtype='int64', length=37024)"
      ]
     },
     "execution_count": 20,
     "metadata": {},
     "output_type": "execute_result"
    }
   ],
   "source": [
    "data[data.label==-1].index"
   ]
  },
  {
   "cell_type": "code",
   "execution_count": 19,
   "metadata": {
    "collapsed": false
   },
   "outputs": [
    {
     "name": "stdout",
     "output_type": "stream",
     "text": [
      "(40000, 389)\n",
      "21672\n",
      "(25120L,)\n"
     ]
    }
   ],
   "source": [
    "#1 вариант. Попробуем удалить случайным образом объекты большего класса так, чтобы доля меньшего класса стала хотя бы 20%\n",
    "n_del = counts[-1] - counts[1]*4\n",
    "print data.shape\n",
    "inds_del = np.random.choice(data[data.label==-1].index, n_del)\n",
    "data_usampling1 = data.drop(inds_del, axis=0)\n",
    "print len(data_usampling1)\n",
    "print inds_del.shape"
   ]
  },
  {
   "cell_type": "markdown",
   "metadata": {},
   "source": [
    "3\\. Теперь перейдем к работе с признаками. Ранее вы реализовали несколько стратегий для обработки пропущенных значений. Сравните эти стратегии между собой с помощью оценки качества моделей кросс-валидации, построенных на датасетах с использованием различных стратегий. Как обработка пропущенных значений сказывается на качестве модели? Какой вариант выглядит наиболее оптимальным с точки зрения качества?"
   ]
  },
  {
   "cell_type": "code",
   "execution_count": null,
   "metadata": {
    "collapsed": true
   },
   "outputs": [],
   "source": []
  },
  {
   "cell_type": "markdown",
   "metadata": {},
   "source": [
    "4\\. Также вы уже реализовали несколько стратегий для обработки категориальных признаков. Сравните эти стратегии между собой с помощью оценки качества моделей по кросс-валидации, построенных на датасетах с использованием различных стратегий. Как обработка категориальных признаков сказывается на качестве модели? Какой вариант выглядит наиболее оптимальным с точки зрения качества?"
   ]
  },
  {
   "cell_type": "code",
   "execution_count": null,
   "metadata": {
    "collapsed": true
   },
   "outputs": [],
   "source": []
  },
  {
   "cell_type": "markdown",
   "metadata": {},
   "source": [
    "5\\. Все ли признаки оказались полезными для построения моделей? Проведите процедуру отбора признаков, попробуйте разные варианты отбора (обратите внимание на модуль `sklearn.feature_selection`). Например, можно выбрасывать случайные признаки или строить отбор на основе l1-регуляризации - отфильтровать из обучения признаки, которые получат нулевой вес при построении регрессии с l1-регуляризацией (`sklearn.linear_model.Lasso`). И всегда можно придумать что-то своё=) Попробуйте как минимум 2 различные стратегии, сравните результаты. Помог ли отбор признаков улучшить качество модели? Поясните свой ответ."
   ]
  },
  {
   "cell_type": "code",
   "execution_count": null,
   "metadata": {
    "collapsed": true
   },
   "outputs": [],
   "source": []
  },
  {
   "cell_type": "markdown",
   "metadata": {},
   "source": [
    "6\\. Подберите оптимальные параметры модели. Обратите внимание, что в зависимости от того, как вы обработали исходные данные, сделали ли балансировку классов, сколько объектов оставили в обучающей выборке и др. оптимальные значения параметров могут меняться. Возьмите наилучшее из ваших решений на текущий момент и проведите процедуру подбора параметров модели (обратите внимание на `sklearn.model_selection.GridSearchCV`) Как подбор параметров повлиял на качество модели?"
   ]
  },
  {
   "cell_type": "code",
   "execution_count": null,
   "metadata": {
    "collapsed": true
   },
   "outputs": [],
   "source": []
  },
  {
   "cell_type": "markdown",
   "metadata": {},
   "source": [
    "7\\. Предложите методику оценки того, какие признаки внесли наибольший вклад в модель (например, это могут быть веса в случае регрессии, а также большое количество моделей реализуют метод `feature_importances_` - оценка важности признаков). На основе предложенной методики проанализируйте, какие признаки внесли больший вклад в модель, а какие меньший?"
   ]
  },
  {
   "cell_type": "code",
   "execution_count": null,
   "metadata": {
    "collapsed": true
   },
   "outputs": [],
   "source": []
  },
  {
   "cell_type": "markdown",
   "metadata": {},
   "source": [
    "8\\. Напоследок давайте посмотрим на объекты. На каких объектах достигается наибольшая ошибка классификации? Есть ли межу этими объектами что-то общее? Видны ли какие-либо закономерности? Предположите, почему наибольшая ошибка достигается именно на этих объектах. В данном случае \"наибольшую\" ошибку можно понимать как отнесение объекта с чужому классу с большой долей уверенности (с высокой вероятностью)."
   ]
  },
  {
   "cell_type": "code",
   "execution_count": null,
   "metadata": {
    "collapsed": true
   },
   "outputs": [],
   "source": []
  },
  {
   "cell_type": "markdown",
   "metadata": {},
   "source": [
    "9\\. По итогам проведенных экспериментов постройте финальную решение - модель с наилучшим качеством. Укажите, какие преобразования данных, параметры и пр. вы выбрали для построения финальной модели."
   ]
  },
  {
   "cell_type": "code",
   "execution_count": null,
   "metadata": {
    "collapsed": true
   },
   "outputs": [],
   "source": []
  },
  {
   "cell_type": "markdown",
   "metadata": {},
   "source": [
    "10\\. Подумайте, можно ли еще улучшить модель? Что для этого можно сделать? "
   ]
  },
  {
   "cell_type": "code",
   "execution_count": null,
   "metadata": {
    "collapsed": true
   },
   "outputs": [],
   "source": []
  }
 ],
 "metadata": {
  "anaconda-cloud": {},
  "kernelspec": {
   "display_name": "Python [default]",
   "language": "python",
   "name": "python2"
  },
  "language_info": {
   "codemirror_mode": {
    "name": "ipython",
    "version": 2
   },
   "file_extension": ".py",
   "mimetype": "text/x-python",
   "name": "python",
   "nbconvert_exporter": "python",
   "pygments_lexer": "ipython2",
   "version": "2.7.12"
  }
 },
 "nbformat": 4,
 "nbformat_minor": 1
}
