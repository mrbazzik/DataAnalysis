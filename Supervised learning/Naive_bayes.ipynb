{
 "cells": [
  {
   "cell_type": "code",
   "execution_count": 1,
   "metadata": {
    "collapsed": true
   },
   "outputs": [],
   "source": [
    "from sklearn.datasets import load_digits, load_breast_cancer"
   ]
  },
  {
   "cell_type": "code",
   "execution_count": 2,
   "metadata": {
    "collapsed": true
   },
   "outputs": [],
   "source": [
    "datad = load_digits()\n",
    "databs = load_breast_cancer()"
   ]
  },
  {
   "cell_type": "code",
   "execution_count": 3,
   "metadata": {
    "collapsed": true
   },
   "outputs": [],
   "source": [
    "from sklearn.cross_validation import cross_val_score"
   ]
  },
  {
   "cell_type": "code",
   "execution_count": 4,
   "metadata": {
    "collapsed": true
   },
   "outputs": [],
   "source": [
    "from sklearn.naive_bayes import BernoulliNB, MultinomialNB, GaussianNB"
   ]
  },
  {
   "cell_type": "code",
   "execution_count": 6,
   "metadata": {
    "collapsed": false
   },
   "outputs": [
    {
     "name": "stdout",
     "output_type": "stream",
     "text": [
      "0.825823650778 0.627420402859\n",
      "0.870877148974 0.894579040193\n",
      "0.818600380355 0.936749280609\n"
     ]
    }
   ],
   "source": [
    "clsb = BernoulliNB()\n",
    "clsm = MultinomialNB()\n",
    "clsg = GaussianNB()\n",
    "errorbd = cross_val_score(clsb, datad.data, datad.target).mean()\n",
    "errorbs = cross_val_score(clsb, databs.data, databs.target).mean()\n",
    "print errorbd, errorbs\n",
    "\n",
    "errormd = cross_val_score(clsm, datad.data, datad.target).mean()\n",
    "errorms = cross_val_score(clsm, databs.data, databs.target).mean()\n",
    "print errormd, errorms\n",
    "\n",
    "errorgd = cross_val_score(clsg, datad.data, datad.target).mean()\n",
    "errorgs = cross_val_score(clsg, databs.data, databs.target).mean()\n",
    "print errorgd, errorgs"
   ]
  },
  {
   "cell_type": "code",
   "execution_count": 9,
   "metadata": {
    "collapsed": false
   },
   "outputs": [],
   "source": [
    "def write_to_file(num, ans):\n",
    "    with open(\"nb_\"+str(num)+\".txt\", \"w\") as f:\n",
    "        f.write(str(ans))"
   ]
  },
  {
   "cell_type": "code",
   "execution_count": 10,
   "metadata": {
    "collapsed": true
   },
   "outputs": [],
   "source": [
    "write_to_file(1, errorgs)\n",
    "write_to_file(2, errormd)\n",
    "write_to_file(3, \"3 4\")\n"
   ]
  },
  {
   "cell_type": "code",
   "execution_count": null,
   "metadata": {
    "collapsed": true
   },
   "outputs": [],
   "source": []
  }
 ],
 "metadata": {
  "anaconda-cloud": {},
  "kernelspec": {
   "display_name": "Python [default]",
   "language": "python",
   "name": "python2"
  },
  "language_info": {
   "codemirror_mode": {
    "name": "ipython",
    "version": 2
   },
   "file_extension": ".py",
   "mimetype": "text/x-python",
   "name": "python",
   "nbconvert_exporter": "python",
   "pygments_lexer": "ipython2",
   "version": "2.7.12"
  }
 },
 "nbformat": 4,
 "nbformat_minor": 1
}
