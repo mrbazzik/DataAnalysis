{
 "cells": [
  {
   "cell_type": "code",
   "execution_count": 1,
   "metadata": {
    "collapsed": true
   },
   "outputs": [],
   "source": [
    "import pandas as pd"
   ]
  },
  {
   "cell_type": "code",
   "execution_count": 2,
   "metadata": {
    "collapsed": true
   },
   "outputs": [],
   "source": [
    "data = pd.read_csv('AUCs.txt', sep='\\t')"
   ]
  },
  {
   "cell_type": "code",
   "execution_count": 4,
   "metadata": {
    "collapsed": false
   },
   "outputs": [
    {
     "data": {
      "text/html": [
       "<div>\n",
       "<table border=\"1\" class=\"dataframe\">\n",
       "  <thead>\n",
       "    <tr style=\"text-align: right;\">\n",
       "      <th></th>\n",
       "      <th>Unnamed: 0</th>\n",
       "      <th>C4.5</th>\n",
       "      <th>C4.5+m</th>\n",
       "      <th>C4.5+cf</th>\n",
       "      <th>C4.5+m+cf</th>\n",
       "    </tr>\n",
       "  </thead>\n",
       "  <tbody>\n",
       "    <tr>\n",
       "      <th>0</th>\n",
       "      <td>adult (sample)</td>\n",
       "      <td>0.763</td>\n",
       "      <td>0.768</td>\n",
       "      <td>0.771</td>\n",
       "      <td>0.798</td>\n",
       "    </tr>\n",
       "    <tr>\n",
       "      <th>1</th>\n",
       "      <td>breast cancer</td>\n",
       "      <td>0.599</td>\n",
       "      <td>0.591</td>\n",
       "      <td>0.590</td>\n",
       "      <td>0.569</td>\n",
       "    </tr>\n",
       "    <tr>\n",
       "      <th>2</th>\n",
       "      <td>breast cancer wisconsin</td>\n",
       "      <td>0.954</td>\n",
       "      <td>0.971</td>\n",
       "      <td>0.968</td>\n",
       "      <td>0.967</td>\n",
       "    </tr>\n",
       "    <tr>\n",
       "      <th>3</th>\n",
       "      <td>cmc</td>\n",
       "      <td>0.628</td>\n",
       "      <td>0.661</td>\n",
       "      <td>0.654</td>\n",
       "      <td>0.657</td>\n",
       "    </tr>\n",
       "    <tr>\n",
       "      <th>4</th>\n",
       "      <td>ionosphere</td>\n",
       "      <td>0.882</td>\n",
       "      <td>0.888</td>\n",
       "      <td>0.886</td>\n",
       "      <td>0.898</td>\n",
       "    </tr>\n",
       "    <tr>\n",
       "      <th>5</th>\n",
       "      <td>iris</td>\n",
       "      <td>0.936</td>\n",
       "      <td>0.931</td>\n",
       "      <td>0.916</td>\n",
       "      <td>0.931</td>\n",
       "    </tr>\n",
       "    <tr>\n",
       "      <th>6</th>\n",
       "      <td>liver disorders</td>\n",
       "      <td>0.661</td>\n",
       "      <td>0.668</td>\n",
       "      <td>0.609</td>\n",
       "      <td>0.685</td>\n",
       "    </tr>\n",
       "    <tr>\n",
       "      <th>7</th>\n",
       "      <td>lung cancer</td>\n",
       "      <td>0.583</td>\n",
       "      <td>0.583</td>\n",
       "      <td>0.563</td>\n",
       "      <td>0.625</td>\n",
       "    </tr>\n",
       "    <tr>\n",
       "      <th>8</th>\n",
       "      <td>lymphography</td>\n",
       "      <td>0.775</td>\n",
       "      <td>0.838</td>\n",
       "      <td>0.866</td>\n",
       "      <td>0.875</td>\n",
       "    </tr>\n",
       "    <tr>\n",
       "      <th>9</th>\n",
       "      <td>mushroom</td>\n",
       "      <td>1.000</td>\n",
       "      <td>1.000</td>\n",
       "      <td>1.000</td>\n",
       "      <td>1.000</td>\n",
       "    </tr>\n",
       "    <tr>\n",
       "      <th>10</th>\n",
       "      <td>primary tumor</td>\n",
       "      <td>0.940</td>\n",
       "      <td>0.962</td>\n",
       "      <td>0.965</td>\n",
       "      <td>0.962</td>\n",
       "    </tr>\n",
       "    <tr>\n",
       "      <th>11</th>\n",
       "      <td>rheum</td>\n",
       "      <td>0.619</td>\n",
       "      <td>0.666</td>\n",
       "      <td>0.614</td>\n",
       "      <td>0.669</td>\n",
       "    </tr>\n",
       "    <tr>\n",
       "      <th>12</th>\n",
       "      <td>voting</td>\n",
       "      <td>0.972</td>\n",
       "      <td>0.981</td>\n",
       "      <td>0.975</td>\n",
       "      <td>0.975</td>\n",
       "    </tr>\n",
       "    <tr>\n",
       "      <th>13</th>\n",
       "      <td>wine</td>\n",
       "      <td>0.957</td>\n",
       "      <td>0.978</td>\n",
       "      <td>0.946</td>\n",
       "      <td>0.970</td>\n",
       "    </tr>\n",
       "  </tbody>\n",
       "</table>\n",
       "</div>"
      ],
      "text/plain": [
       "                 Unnamed: 0   C4.5  C4.5+m  C4.5+cf  C4.5+m+cf\n",
       "0            adult (sample)  0.763   0.768    0.771      0.798\n",
       "1             breast cancer  0.599   0.591    0.590      0.569\n",
       "2   breast cancer wisconsin  0.954   0.971    0.968      0.967\n",
       "3                       cmc  0.628   0.661    0.654      0.657\n",
       "4                ionosphere  0.882   0.888    0.886      0.898\n",
       "5                      iris  0.936   0.931    0.916      0.931\n",
       "6           liver disorders  0.661   0.668    0.609      0.685\n",
       "7               lung cancer  0.583   0.583    0.563      0.625\n",
       "8              lymphography  0.775   0.838    0.866      0.875\n",
       "9                  mushroom  1.000   1.000    1.000      1.000\n",
       "10            primary tumor  0.940   0.962    0.965      0.962\n",
       "11                    rheum  0.619   0.666    0.614      0.669\n",
       "12                   voting  0.972   0.981    0.975      0.975\n",
       "13                     wine  0.957   0.978    0.946      0.970"
      ]
     },
     "execution_count": 4,
     "metadata": {},
     "output_type": "execute_result"
    }
   ],
   "source": [
    "data"
   ]
  },
  {
   "cell_type": "code",
   "execution_count": 9,
   "metadata": {
    "collapsed": false
   },
   "outputs": [
    {
     "data": {
      "text/plain": [
       "0     0.763\n",
       "1     0.599\n",
       "2     0.954\n",
       "3     0.628\n",
       "4     0.882\n",
       "5     0.936\n",
       "6     0.661\n",
       "7     0.583\n",
       "8     0.775\n",
       "9     1.000\n",
       "10    0.940\n",
       "11    0.619\n",
       "12    0.972\n",
       "13    0.957\n",
       "Name: C4.5, dtype: float64"
      ]
     },
     "execution_count": 9,
     "metadata": {},
     "output_type": "execute_result"
    }
   ],
   "source": [
    "data.ix[:,1]"
   ]
  },
  {
   "cell_type": "code",
   "execution_count": 12,
   "metadata": {
    "collapsed": false
   },
   "outputs": [],
   "source": [
    "from scipy.stats import wilcoxon"
   ]
  },
  {
   "cell_type": "code",
   "execution_count": 18,
   "metadata": {
    "collapsed": false
   },
   "outputs": [
    {
     "name": "stdout",
     "output_type": "stream",
     "text": [
      "C4.5 C4.5+m\n",
      "WilcoxonResult(statistic=6.5, pvalue=0.01075713311978963)\n",
      "C4.5 C4.5+cf\n",
      "WilcoxonResult(statistic=43.0, pvalue=0.86126233009534803)\n",
      "C4.5 C4.5+m+cf\n",
      "WilcoxonResult(statistic=11.0, pvalue=0.015906444101703374)\n",
      "C4.5+m C4.5+cf\n",
      "WilcoxonResult(statistic=17.0, pvalue=0.046332729793395394)\n",
      "C4.5+m C4.5+m+cf\n",
      "WilcoxonResult(statistic=22.0, pvalue=0.32782567584464062)\n",
      "C4.5+cf C4.5+m+cf\n",
      "WilcoxonResult(statistic=10.0, pvalue=0.022909099354356588)\n"
     ]
    }
   ],
   "source": [
    "ps = []\n",
    "for i, col1 in enumerate(data.columns[1:]):\n",
    "    for j, col2 in enumerate(data.columns[1:]):\n",
    "        if j>i:\n",
    "            print col1, col2\n",
    "            z = wilcoxon(data[col1], data[col2])\n",
    "            ps.append(z.pvalue)\n",
    "            print z\n",
    "        "
   ]
  },
  {
   "cell_type": "code",
   "execution_count": 14,
   "metadata": {
    "collapsed": true
   },
   "outputs": [],
   "source": [
    "from statsmodels.sandbox.stats.multicomp import multipletests"
   ]
  },
  {
   "cell_type": "code",
   "execution_count": 20,
   "metadata": {
    "collapsed": false
   },
   "outputs": [
    {
     "data": {
      "text/plain": [
       "(array([False, False, False, False, False, False], dtype=bool),\n",
       " array([ 0.06283176,  0.86126233,  0.077042  ,  0.13265749,  0.54818168,\n",
       "         0.08853525]),\n",
       " 0.008512444610847103,\n",
       " 0.008333333333333333)"
      ]
     },
     "execution_count": 20,
     "metadata": {},
     "output_type": "execute_result"
    }
   ],
   "source": [
    "multipletests(ps)"
   ]
  },
  {
   "cell_type": "code",
   "execution_count": 21,
   "metadata": {
    "collapsed": false
   },
   "outputs": [
    {
     "data": {
      "text/plain": [
       "(array([ True, False,  True, False, False,  True], dtype=bool),\n",
       " array([ 0.0458182 ,  0.86126233,  0.0458182 ,  0.06949909,  0.39339081,\n",
       "         0.0458182 ]),\n",
       " 0.008512444610847103,\n",
       " 0.008333333333333333)"
      ]
     },
     "execution_count": 21,
     "metadata": {},
     "output_type": "execute_result"
    }
   ],
   "source": [
    "multipletests(ps, method='fdr_bh')"
   ]
  },
  {
   "cell_type": "code",
   "execution_count": null,
   "metadata": {
    "collapsed": true
   },
   "outputs": [],
   "source": []
  }
 ],
 "metadata": {
  "anaconda-cloud": {},
  "kernelspec": {
   "display_name": "Python [default]",
   "language": "python",
   "name": "python2"
  },
  "language_info": {
   "codemirror_mode": {
    "name": "ipython",
    "version": 2
   },
   "file_extension": ".py",
   "mimetype": "text/x-python",
   "name": "python",
   "nbconvert_exporter": "python",
   "pygments_lexer": "ipython2",
   "version": "2.7.12"
  }
 },
 "nbformat": 4,
 "nbformat_minor": 1
}
