{
 "cells": [
  {
   "cell_type": "code",
   "execution_count": 3,
   "metadata": {
    "collapsed": true
   },
   "outputs": [],
   "source": [
    "import pandas as pd"
   ]
  },
  {
   "cell_type": "code",
   "execution_count": 4,
   "metadata": {
    "collapsed": true
   },
   "outputs": [],
   "source": [
    "data = pd.read_csv('ab_browser_test.csv')"
   ]
  },
  {
   "cell_type": "code",
   "execution_count": 5,
   "metadata": {
    "collapsed": false
   },
   "outputs": [
    {
     "data": {
      "text/html": [
       "<div>\n",
       "<table border=\"1\" class=\"dataframe\">\n",
       "  <thead>\n",
       "    <tr style=\"text-align: right;\">\n",
       "      <th></th>\n",
       "      <th>userID</th>\n",
       "      <th>browser</th>\n",
       "      <th>slot</th>\n",
       "      <th>n_clicks</th>\n",
       "      <th>n_queries</th>\n",
       "      <th>n_nonclk_queries</th>\n",
       "    </tr>\n",
       "  </thead>\n",
       "  <tbody>\n",
       "    <tr>\n",
       "      <th>0</th>\n",
       "      <td>1</td>\n",
       "      <td>Browser #2</td>\n",
       "      <td>exp</td>\n",
       "      <td>23</td>\n",
       "      <td>32</td>\n",
       "      <td>19</td>\n",
       "    </tr>\n",
       "    <tr>\n",
       "      <th>1</th>\n",
       "      <td>3</td>\n",
       "      <td>Browser #4</td>\n",
       "      <td>exp</td>\n",
       "      <td>3</td>\n",
       "      <td>4</td>\n",
       "      <td>2</td>\n",
       "    </tr>\n",
       "    <tr>\n",
       "      <th>2</th>\n",
       "      <td>5</td>\n",
       "      <td>Browser #4</td>\n",
       "      <td>exp</td>\n",
       "      <td>29</td>\n",
       "      <td>35</td>\n",
       "      <td>16</td>\n",
       "    </tr>\n",
       "    <tr>\n",
       "      <th>3</th>\n",
       "      <td>6</td>\n",
       "      <td>Browser #4</td>\n",
       "      <td>control</td>\n",
       "      <td>12</td>\n",
       "      <td>6</td>\n",
       "      <td>0</td>\n",
       "    </tr>\n",
       "    <tr>\n",
       "      <th>4</th>\n",
       "      <td>7</td>\n",
       "      <td>Browser #4</td>\n",
       "      <td>exp</td>\n",
       "      <td>54</td>\n",
       "      <td>68</td>\n",
       "      <td>30</td>\n",
       "    </tr>\n",
       "  </tbody>\n",
       "</table>\n",
       "</div>"
      ],
      "text/plain": [
       "   userID     browser     slot  n_clicks  n_queries  n_nonclk_queries\n",
       "0       1  Browser #2      exp        23         32                19\n",
       "1       3  Browser #4      exp         3          4                 2\n",
       "2       5  Browser #4      exp        29         35                16\n",
       "3       6  Browser #4  control        12          6                 0\n",
       "4       7  Browser #4      exp        54         68                30"
      ]
     },
     "execution_count": 5,
     "metadata": {},
     "output_type": "execute_result"
    }
   ],
   "source": [
    "data.head()"
   ]
  },
  {
   "cell_type": "markdown",
   "metadata": {},
   "source": [
    "### 1"
   ]
  },
  {
   "cell_type": "code",
   "execution_count": 6,
   "metadata": {
    "collapsed": false
   },
   "outputs": [
    {
     "name": "stdout",
     "output_type": "stream",
     "text": [
      "0.0161356898244\n"
     ]
    }
   ],
   "source": [
    "n_exp_clicks = data.loc[data.slot=='exp', 'n_clicks'].sum()\n",
    "n_control_clicks = data.loc[data.slot=='control', 'n_clicks'].sum()\n",
    "answer = (n_exp_clicks-n_control_clicks)/float(n_control_clicks)\n",
    "print answer"
   ]
  },
  {
   "cell_type": "markdown",
   "metadata": {},
   "source": [
    "### 2"
   ]
  },
  {
   "cell_type": "code",
   "execution_count": 7,
   "metadata": {
    "collapsed": true
   },
   "outputs": [],
   "source": [
    "def get_bootstrap_samples(data, n_samples):\n",
    "    indices = np.random.randint(0, len(data), (n_samples, len(data)))\n",
    "    samples = data[indices]\n",
    "    return samples"
   ]
  },
  {
   "cell_type": "code",
   "execution_count": 8,
   "metadata": {
    "collapsed": true
   },
   "outputs": [],
   "source": [
    "def stat_intervals(stat, alpha):\n",
    "    boundaries = np.percentile(stat, [100 * alpha / 2., 100 * (1 - alpha / 2.)])\n",
    "    return boundaries"
   ]
  },
  {
   "cell_type": "code",
   "execution_count": 14,
   "metadata": {
    "collapsed": false
   },
   "outputs": [
    {
     "name": "stdout",
     "output_type": "stream",
     "text": [
      "95% confidence interval for the exp median: [ 5.  5.]\n",
      "95% confidence interval for the control median: [ 4.  4.]\n",
      "95% confidence interval for the exp mean: [ 11.51482917  11.71907433]\n",
      "95% confidence interval for the control mean: [ 11.25218233  11.45717917]\n",
      "95% confidence interval for the mean diff: [-0.4039695  -0.11648933]\n",
      "95% confidence interval for the median diff: [-1. -1.]\n"
     ]
    }
   ],
   "source": [
    "import numpy as np\n",
    "np.random.seed(0)\n",
    "data_exp = data.loc[data.slot=='exp']\n",
    "\n",
    "#exp_rand_ind = np.random.randint(0, data_exp.shape[0], 10000)\n",
    "exp_rand_ind = np.random.choice(data_exp.index, 150000, replace=False)\n",
    "\n",
    "data_control = data.loc[data.slot=='control']\n",
    "#con_rand_ind = np.random.randint(0, data_control.shape[0], 10000)\n",
    "con_rand_ind = np.random.choice(data_control.index, 150000, replace=False)\n",
    "\n",
    "exp_samples = get_bootstrap_samples(data_exp.loc[exp_rand_ind, 'n_clicks'].values, 1000)\n",
    "control_samples = get_bootstrap_samples(data_control.loc[con_rand_ind, 'n_clicks'].values, 1000)\n",
    "\n",
    "#exp_samples = get_bootstrap_samples(data_exp.n_clicks.values, 1000)\n",
    "#control_samples = get_bootstrap_samples(data_control.n_clicks.values, 1000)\n",
    "\n",
    "exp_median_scores = map(np.median, exp_samples)\n",
    "c_median_scores = map(np.median, control_samples)\n",
    "\n",
    "exp_mean_scores = map(np.mean, exp_samples)\n",
    "c_mean_scores = map(np.mean, control_samples)\n",
    "\n",
    "print \"95% confidence interval for the exp median:\",  stat_intervals(exp_median_scores, 0.05)\n",
    "print \"95% confidence interval for the control median:\",  stat_intervals(c_median_scores, 0.05)\n",
    "\n",
    "print \"95% confidence interval for the exp mean:\",  stat_intervals(exp_mean_scores, 0.05)\n",
    "print \"95% confidence interval for the control mean:\",  stat_intervals(c_mean_scores, 0.05)\n",
    "\n",
    "print \"95% confidence interval for the mean diff:\",  stat_intervals(np.array(c_mean_scores)-np.array(exp_mean_scores), 0.05)\n",
    "print \"95% confidence interval for the median diff:\",  stat_intervals(np.array(c_median_scores)-np.array(exp_median_scores), 0.05)\n"
   ]
  },
  {
   "cell_type": "code",
   "execution_count": null,
   "metadata": {
    "collapsed": false
   },
   "outputs": [],
   "source": [
    "len(data_exp.loc[rand_ind])"
   ]
  },
  {
   "cell_type": "code",
   "execution_count": null,
   "metadata": {
    "collapsed": false
   },
   "outputs": [],
   "source": [
    "exp_median_scores[:5]"
   ]
  },
  {
   "cell_type": "code",
   "execution_count": null,
   "metadata": {
    "collapsed": true
   },
   "outputs": [],
   "source": [
    "np.random.choice()"
   ]
  },
  {
   "cell_type": "markdown",
   "metadata": {},
   "source": [
    "### 4"
   ]
  },
  {
   "cell_type": "code",
   "execution_count": 25,
   "metadata": {
    "collapsed": false
   },
   "outputs": [],
   "source": [
    "np.random.seed(0)\n",
    "n_boot_samples = 500\n",
    "data_test = data.loc[np.random.choice(data.index, 10000, replace=False), 'n_clicks'].values\n",
    "samples = get_bootstrap_samples(data_test, n_boot_samples)\n",
    "means = np.array(map(np.mean, samples))\n",
    "devs = np.power(samples-means.reshape(500,1), 2).sum(axis=1) "
   ]
  },
  {
   "cell_type": "code",
   "execution_count": 26,
   "metadata": {
    "collapsed": false
   },
   "outputs": [],
   "source": [
    "from scipy.stats import probplot"
   ]
  },
  {
   "cell_type": "code",
   "execution_count": 38,
   "metadata": {
    "collapsed": true
   },
   "outputs": [],
   "source": [
    "import matplotlib.pyplot as plt"
   ]
  },
  {
   "cell_type": "code",
   "execution_count": 39,
   "metadata": {
    "collapsed": false
   },
   "outputs": [],
   "source": [
    "%matplotlib inline"
   ]
  },
  {
   "cell_type": "code",
   "execution_count": 40,
   "metadata": {
    "collapsed": false
   },
   "outputs": [
    {
     "data": {
      "text/plain": [
       "((array([ -2.99209858e+00,  -2.71015927e+00,  -2.55162541e+00,\n",
       "          -2.43921385e+00,  -2.35113311e+00,  -2.27822091e+00,\n",
       "          -2.21572267e+00,  -2.16084152e+00,  -2.11178767e+00,\n",
       "          -2.06734403e+00,  -2.02664403e+00,  -1.98904794e+00,\n",
       "          -1.95406954e+00,  -1.92133033e+00,  -1.89052965e+00,\n",
       "          -1.86142459e+00,  -1.83381593e+00,  -1.80753820e+00,\n",
       "          -1.78245240e+00,  -1.75844061e+00,  -1.73540186e+00,\n",
       "          -1.71324904e+00,  -1.69190643e+00,  -1.67130780e+00,\n",
       "          -1.65139483e+00,  -1.63211595e+00,  -1.61342528e+00,\n",
       "          -1.59528183e+00,  -1.57764883e+00,  -1.56049314e+00,\n",
       "          -1.54378481e+00,  -1.52749667e+00,  -1.51160399e+00,\n",
       "          -1.49608418e+00,  -1.48091659e+00,  -1.46608224e+00,\n",
       "          -1.45156367e+00,  -1.43734479e+00,  -1.42341071e+00,\n",
       "          -1.40974764e+00,  -1.39634279e+00,  -1.38318426e+00,\n",
       "          -1.37026095e+00,  -1.35756253e+00,  -1.34507932e+00,\n",
       "          -1.33280226e+00,  -1.32072287e+00,  -1.30883317e+00,\n",
       "          -1.29712567e+00,  -1.28559331e+00,  -1.27422944e+00,\n",
       "          -1.26302778e+00,  -1.25198239e+00,  -1.24108768e+00,\n",
       "          -1.23033831e+00,  -1.21972926e+00,  -1.20925574e+00,\n",
       "          -1.19891322e+00,  -1.18869738e+00,  -1.17860411e+00,\n",
       "          -1.16862950e+00,  -1.15876983e+00,  -1.14902154e+00,\n",
       "          -1.13938123e+00,  -1.12984566e+00,  -1.12041173e+00,\n",
       "          -1.11107648e+00,  -1.10183707e+00,  -1.09269077e+00,\n",
       "          -1.08363498e+00,  -1.07466719e+00,  -1.06578501e+00,\n",
       "          -1.05698612e+00,  -1.04826831e+00,  -1.03962946e+00,\n",
       "          -1.03106750e+00,  -1.02258046e+00,  -1.01416645e+00,\n",
       "          -1.00582364e+00,  -9.97550247e-01,  -9.89344581e-01,\n",
       "          -9.81204996e-01,  -9.73129904e-01,  -9.65117774e-01,\n",
       "          -9.57167125e-01,  -9.49276525e-01,  -9.41444591e-01,\n",
       "          -9.33669982e-01,  -9.25951403e-01,  -9.18287599e-01,\n",
       "          -9.10677353e-01,  -9.03119487e-01,  -8.95612861e-01,\n",
       "          -8.88156365e-01,  -8.80748927e-01,  -8.73389502e-01,\n",
       "          -8.66077081e-01,  -8.58810678e-01,  -8.51589342e-01,\n",
       "          -8.44412143e-01,  -8.37278180e-01,  -8.30186576e-01,\n",
       "          -8.23136480e-01,  -8.16127061e-01,  -8.09157513e-01,\n",
       "          -8.02227049e-01,  -7.95334905e-01,  -7.88480336e-01,\n",
       "          -7.81662614e-01,  -7.74881033e-01,  -7.68134903e-01,\n",
       "          -7.61423551e-01,  -7.54746322e-01,  -7.48102575e-01,\n",
       "          -7.41491685e-01,  -7.34913044e-01,  -7.28366057e-01,\n",
       "          -7.21850142e-01,  -7.15364731e-01,  -7.08909270e-01,\n",
       "          -7.02483218e-01,  -6.96086043e-01,  -6.89717230e-01,\n",
       "          -6.83376271e-01,  -6.77062670e-01,  -6.70775943e-01,\n",
       "          -6.64515617e-01,  -6.58281226e-01,  -6.52072317e-01,\n",
       "          -6.45888445e-01,  -6.39729174e-01,  -6.33594076e-01,\n",
       "          -6.27482735e-01,  -6.21394740e-01,  -6.15329690e-01,\n",
       "          -6.09287191e-01,  -6.03266856e-01,  -5.97268307e-01,\n",
       "          -5.91291174e-01,  -5.85335090e-01,  -5.79399700e-01,\n",
       "          -5.73484651e-01,  -5.67589599e-01,  -5.61714207e-01,\n",
       "          -5.55858142e-01,  -5.50021077e-01,  -5.44202692e-01,\n",
       "          -5.38402673e-01,  -5.32620709e-01,  -5.26856497e-01,\n",
       "          -5.21109737e-01,  -5.15380136e-01,  -5.09667405e-01,\n",
       "          -5.03971258e-01,  -4.98291417e-01,  -4.92627606e-01,\n",
       "          -4.86979553e-01,  -4.81346993e-01,  -4.75729663e-01,\n",
       "          -4.70127305e-01,  -4.64539663e-01,  -4.58966488e-01,\n",
       "          -4.53407532e-01,  -4.47862553e-01,  -4.42331309e-01,\n",
       "          -4.36813566e-01,  -4.31309089e-01,  -4.25817651e-01,\n",
       "          -4.20339023e-01,  -4.14872983e-01,  -4.09419311e-01,\n",
       "          -4.03977788e-01,  -3.98548202e-01,  -3.93130339e-01,\n",
       "          -3.87723992e-01,  -3.82328953e-01,  -3.76945020e-01,\n",
       "          -3.71571992e-01,  -3.66209669e-01,  -3.60857856e-01,\n",
       "          -3.55516359e-01,  -3.50184986e-01,  -3.44863547e-01,\n",
       "          -3.39551857e-01,  -3.34249730e-01,  -3.28956983e-01,\n",
       "          -3.23673435e-01,  -3.18398908e-01,  -3.13133223e-01,\n",
       "          -3.07876207e-01,  -3.02627686e-01,  -2.97387487e-01,\n",
       "          -2.92155443e-01,  -2.86931384e-01,  -2.81715143e-01,\n",
       "          -2.76506557e-01,  -2.71305462e-01,  -2.66111695e-01,\n",
       "          -2.60925097e-01,  -2.55745509e-01,  -2.50572773e-01,\n",
       "          -2.45406732e-01,  -2.40247233e-01,  -2.35094122e-01,\n",
       "          -2.29947246e-01,  -2.24806454e-01,  -2.19671596e-01,\n",
       "          -2.14542524e-01,  -2.09419090e-01,  -2.04301147e-01,\n",
       "          -1.99188550e-01,  -1.94081154e-01,  -1.88978816e-01,\n",
       "          -1.83881393e-01,  -1.78788743e-01,  -1.73700727e-01,\n",
       "          -1.68617203e-01,  -1.63538032e-01,  -1.58463078e-01,\n",
       "          -1.53392201e-01,  -1.48325265e-01,  -1.43262135e-01,\n",
       "          -1.38202675e-01,  -1.33146749e-01,  -1.28094226e-01,\n",
       "          -1.23044970e-01,  -1.17998849e-01,  -1.12955731e-01,\n",
       "          -1.07915484e-01,  -1.02877978e-01,  -9.78430801e-02,\n",
       "          -9.28106619e-02,  -8.77805930e-02,  -8.27527442e-02,\n",
       "          -7.77269864e-02,  -7.27031911e-02,  -6.76812301e-02,\n",
       "          -6.26609755e-02,  -5.76422995e-02,  -5.26250751e-02,\n",
       "          -4.76091750e-02,  -4.25944724e-02,  -3.75808407e-02,\n",
       "          -3.25681535e-02,  -2.75562846e-02,  -2.25451077e-02,\n",
       "          -1.75344969e-02,  -1.25243263e-02,  -7.51447003e-03,\n",
       "          -2.50480239e-03,   2.50480239e-03,   7.51447003e-03,\n",
       "           1.25243263e-02,   1.75344969e-02,   2.25451077e-02,\n",
       "           2.75562846e-02,   3.25681535e-02,   3.75808407e-02,\n",
       "           4.25944724e-02,   4.76091750e-02,   5.26250751e-02,\n",
       "           5.76422995e-02,   6.26609755e-02,   6.76812301e-02,\n",
       "           7.27031911e-02,   7.77269864e-02,   8.27527442e-02,\n",
       "           8.77805930e-02,   9.28106619e-02,   9.78430801e-02,\n",
       "           1.02877978e-01,   1.07915484e-01,   1.12955731e-01,\n",
       "           1.17998849e-01,   1.23044970e-01,   1.28094226e-01,\n",
       "           1.33146749e-01,   1.38202675e-01,   1.43262135e-01,\n",
       "           1.48325265e-01,   1.53392201e-01,   1.58463078e-01,\n",
       "           1.63538032e-01,   1.68617203e-01,   1.73700727e-01,\n",
       "           1.78788743e-01,   1.83881393e-01,   1.88978816e-01,\n",
       "           1.94081154e-01,   1.99188550e-01,   2.04301147e-01,\n",
       "           2.09419090e-01,   2.14542524e-01,   2.19671596e-01,\n",
       "           2.24806454e-01,   2.29947246e-01,   2.35094122e-01,\n",
       "           2.40247233e-01,   2.45406732e-01,   2.50572773e-01,\n",
       "           2.55745509e-01,   2.60925097e-01,   2.66111695e-01,\n",
       "           2.71305462e-01,   2.76506557e-01,   2.81715143e-01,\n",
       "           2.86931384e-01,   2.92155443e-01,   2.97387487e-01,\n",
       "           3.02627686e-01,   3.07876207e-01,   3.13133223e-01,\n",
       "           3.18398908e-01,   3.23673435e-01,   3.28956983e-01,\n",
       "           3.34249730e-01,   3.39551857e-01,   3.44863547e-01,\n",
       "           3.50184986e-01,   3.55516359e-01,   3.60857856e-01,\n",
       "           3.66209669e-01,   3.71571992e-01,   3.76945020e-01,\n",
       "           3.82328953e-01,   3.87723992e-01,   3.93130339e-01,\n",
       "           3.98548202e-01,   4.03977788e-01,   4.09419311e-01,\n",
       "           4.14872983e-01,   4.20339023e-01,   4.25817651e-01,\n",
       "           4.31309089e-01,   4.36813566e-01,   4.42331309e-01,\n",
       "           4.47862553e-01,   4.53407532e-01,   4.58966488e-01,\n",
       "           4.64539663e-01,   4.70127305e-01,   4.75729663e-01,\n",
       "           4.81346993e-01,   4.86979553e-01,   4.92627606e-01,\n",
       "           4.98291417e-01,   5.03971258e-01,   5.09667405e-01,\n",
       "           5.15380136e-01,   5.21109737e-01,   5.26856497e-01,\n",
       "           5.32620709e-01,   5.38402673e-01,   5.44202692e-01,\n",
       "           5.50021077e-01,   5.55858142e-01,   5.61714207e-01,\n",
       "           5.67589599e-01,   5.73484651e-01,   5.79399700e-01,\n",
       "           5.85335090e-01,   5.91291174e-01,   5.97268307e-01,\n",
       "           6.03266856e-01,   6.09287191e-01,   6.15329690e-01,\n",
       "           6.21394740e-01,   6.27482735e-01,   6.33594076e-01,\n",
       "           6.39729174e-01,   6.45888445e-01,   6.52072317e-01,\n",
       "           6.58281226e-01,   6.64515617e-01,   6.70775943e-01,\n",
       "           6.77062670e-01,   6.83376271e-01,   6.89717230e-01,\n",
       "           6.96086043e-01,   7.02483218e-01,   7.08909270e-01,\n",
       "           7.15364731e-01,   7.21850142e-01,   7.28366057e-01,\n",
       "           7.34913044e-01,   7.41491685e-01,   7.48102575e-01,\n",
       "           7.54746322e-01,   7.61423551e-01,   7.68134903e-01,\n",
       "           7.74881033e-01,   7.81662614e-01,   7.88480336e-01,\n",
       "           7.95334905e-01,   8.02227049e-01,   8.09157513e-01,\n",
       "           8.16127061e-01,   8.23136480e-01,   8.30186576e-01,\n",
       "           8.37278180e-01,   8.44412143e-01,   8.51589342e-01,\n",
       "           8.58810678e-01,   8.66077081e-01,   8.73389502e-01,\n",
       "           8.80748927e-01,   8.88156365e-01,   8.95612861e-01,\n",
       "           9.03119487e-01,   9.10677353e-01,   9.18287599e-01,\n",
       "           9.25951403e-01,   9.33669982e-01,   9.41444591e-01,\n",
       "           9.49276525e-01,   9.57167125e-01,   9.65117774e-01,\n",
       "           9.73129904e-01,   9.81204996e-01,   9.89344581e-01,\n",
       "           9.97550247e-01,   1.00582364e+00,   1.01416645e+00,\n",
       "           1.02258046e+00,   1.03106750e+00,   1.03962946e+00,\n",
       "           1.04826831e+00,   1.05698612e+00,   1.06578501e+00,\n",
       "           1.07466719e+00,   1.08363498e+00,   1.09269077e+00,\n",
       "           1.10183707e+00,   1.11107648e+00,   1.12041173e+00,\n",
       "           1.12984566e+00,   1.13938123e+00,   1.14902154e+00,\n",
       "           1.15876983e+00,   1.16862950e+00,   1.17860411e+00,\n",
       "           1.18869738e+00,   1.19891322e+00,   1.20925574e+00,\n",
       "           1.21972926e+00,   1.23033831e+00,   1.24108768e+00,\n",
       "           1.25198239e+00,   1.26302778e+00,   1.27422944e+00,\n",
       "           1.28559331e+00,   1.29712567e+00,   1.30883317e+00,\n",
       "           1.32072287e+00,   1.33280226e+00,   1.34507932e+00,\n",
       "           1.35756253e+00,   1.37026095e+00,   1.38318426e+00,\n",
       "           1.39634279e+00,   1.40974764e+00,   1.42341071e+00,\n",
       "           1.43734479e+00,   1.45156367e+00,   1.46608224e+00,\n",
       "           1.48091659e+00,   1.49608418e+00,   1.51160399e+00,\n",
       "           1.52749667e+00,   1.54378481e+00,   1.56049314e+00,\n",
       "           1.57764883e+00,   1.59528183e+00,   1.61342528e+00,\n",
       "           1.63211595e+00,   1.65139483e+00,   1.67130780e+00,\n",
       "           1.69190643e+00,   1.71324904e+00,   1.73540186e+00,\n",
       "           1.75844061e+00,   1.78245240e+00,   1.80753820e+00,\n",
       "           1.83381593e+00,   1.86142459e+00,   1.89052965e+00,\n",
       "           1.92133033e+00,   1.95406954e+00,   1.98904794e+00,\n",
       "           2.02664403e+00,   2.06734403e+00,   2.11178767e+00,\n",
       "           2.16084152e+00,   2.21572267e+00,   2.27822091e+00,\n",
       "           2.35113311e+00,   2.43921385e+00,   2.55162541e+00,\n",
       "           2.71015927e+00,   2.99209858e+00]),\n",
       "  array([ 10.3402,  10.432 ,  10.4708,  10.5237,  10.5657,  10.5691,\n",
       "          10.596 ,  10.6147,  10.6314,  10.6361,  10.6366,  10.6441,\n",
       "          10.6466,  10.6613,  10.674 ,  10.6758,  10.6866,  10.6871,\n",
       "          10.6893,  10.6918,  10.6946,  10.6963,  10.706 ,  10.7117,\n",
       "          10.713 ,  10.7233,  10.7298,  10.7299,  10.7414,  10.7433,\n",
       "          10.7543,  10.7543,  10.7561,  10.7594,  10.7605,  10.7609,\n",
       "          10.7609,  10.7633,  10.7677,  10.7751,  10.7763,  10.7781,\n",
       "          10.7792,  10.7838,  10.7859,  10.786 ,  10.7912,  10.7916,\n",
       "          10.7929,  10.793 ,  10.795 ,  10.7952,  10.7985,  10.7986,\n",
       "          10.8084,  10.8088,  10.8096,  10.812 ,  10.8133,  10.8141,\n",
       "          10.8171,  10.819 ,  10.8225,  10.8237,  10.8247,  10.8248,\n",
       "          10.825 ,  10.8313,  10.8328,  10.8334,  10.8336,  10.8356,\n",
       "          10.8356,  10.8367,  10.8376,  10.8399,  10.8421,  10.8423,\n",
       "          10.8459,  10.8469,  10.8486,  10.8488,  10.8539,  10.8557,\n",
       "          10.8569,  10.857 ,  10.8577,  10.8583,  10.8584,  10.8593,\n",
       "          10.8603,  10.8644,  10.8661,  10.8675,  10.8685,  10.8686,\n",
       "          10.8707,  10.871 ,  10.8726,  10.8733,  10.8735,  10.8752,\n",
       "          10.876 ,  10.8762,  10.8764,  10.8773,  10.8787,  10.8829,\n",
       "          10.8833,  10.8841,  10.8847,  10.8862,  10.8893,  10.8897,\n",
       "          10.894 ,  10.8957,  10.8988,  10.9021,  10.9035,  10.904 ,\n",
       "          10.9055,  10.9064,  10.9083,  10.9098,  10.9101,  10.9108,\n",
       "          10.9112,  10.9126,  10.9144,  10.9147,  10.9147,  10.9157,\n",
       "          10.916 ,  10.9162,  10.9179,  10.9182,  10.9205,  10.9212,\n",
       "          10.9213,  10.9214,  10.9238,  10.9243,  10.9256,  10.928 ,\n",
       "          10.9283,  10.929 ,  10.9297,  10.9297,  10.9327,  10.9332,\n",
       "          10.9332,  10.9335,  10.934 ,  10.9367,  10.9377,  10.9414,\n",
       "          10.943 ,  10.9437,  10.9441,  10.9465,  10.9466,  10.9485,\n",
       "          10.9495,  10.9499,  10.9524,  10.9562,  10.958 ,  10.9591,\n",
       "          10.9592,  10.9611,  10.9611,  10.9656,  10.9657,  10.9671,\n",
       "          10.9671,  10.9677,  10.9683,  10.9691,  10.9703,  10.9707,\n",
       "          10.9732,  10.9753,  10.9757,  10.9766,  10.9774,  10.9777,\n",
       "          10.9782,  10.9788,  10.9797,  10.9806,  10.9816,  10.982 ,\n",
       "          10.9822,  10.9832,  10.9832,  10.9836,  10.9838,  10.9849,\n",
       "          10.9853,  10.9857,  10.9865,  10.9866,  10.9869,  10.9871,\n",
       "          10.9882,  10.9915,  10.9922,  10.9924,  10.9931,  10.9937,\n",
       "          10.9968,  10.9978,  10.9986,  10.9989,  10.9993,  10.9999,\n",
       "          10.9999,  11.    ,  11.0003,  11.0026,  11.0031,  11.0041,\n",
       "          11.0049,  11.005 ,  11.0075,  11.0081,  11.0084,  11.0108,\n",
       "          11.0129,  11.0132,  11.0143,  11.0145,  11.0145,  11.0164,\n",
       "          11.0166,  11.017 ,  11.0183,  11.0184,  11.0195,  11.0209,\n",
       "          11.0232,  11.0248,  11.0255,  11.0258,  11.0267,  11.0276,\n",
       "          11.0279,  11.0299,  11.0326,  11.0327,  11.0338,  11.0357,\n",
       "          11.036 ,  11.0368,  11.0383,  11.0383,  11.0384,  11.0392,\n",
       "          11.04  ,  11.0404,  11.0405,  11.0409,  11.0413,  11.0439,\n",
       "          11.0494,  11.0494,  11.0509,  11.052 ,  11.0522,  11.0529,\n",
       "          11.053 ,  11.0548,  11.0557,  11.0605,  11.061 ,  11.0611,\n",
       "          11.0611,  11.0614,  11.0624,  11.0658,  11.0658,  11.0663,\n",
       "          11.0683,  11.0695,  11.0706,  11.0742,  11.0746,  11.076 ,\n",
       "          11.0761,  11.0763,  11.0769,  11.0778,  11.078 ,  11.0782,\n",
       "          11.0791,  11.0792,  11.0806,  11.0812,  11.0819,  11.0843,\n",
       "          11.0852,  11.0854,  11.087 ,  11.0873,  11.0897,  11.0901,\n",
       "          11.0904,  11.0906,  11.0912,  11.0922,  11.0955,  11.0956,\n",
       "          11.0961,  11.0971,  11.0971,  11.0971,  11.0978,  11.0989,\n",
       "          11.0998,  11.1004,  11.1004,  11.1012,  11.1028,  11.1033,\n",
       "          11.1054,  11.106 ,  11.1062,  11.1076,  11.1101,  11.1121,\n",
       "          11.1122,  11.1122,  11.1129,  11.1157,  11.1178,  11.1182,\n",
       "          11.1182,  11.1201,  11.1214,  11.1216,  11.1255,  11.1271,\n",
       "          11.1304,  11.131 ,  11.1318,  11.132 ,  11.1324,  11.133 ,\n",
       "          11.135 ,  11.135 ,  11.1365,  11.1366,  11.1409,  11.1415,\n",
       "          11.1426,  11.1438,  11.1441,  11.1442,  11.1444,  11.1447,\n",
       "          11.1453,  11.1465,  11.1469,  11.1484,  11.1484,  11.1496,\n",
       "          11.1499,  11.1506,  11.1514,  11.1527,  11.1538,  11.1541,\n",
       "          11.1566,  11.1568,  11.157 ,  11.1591,  11.1596,  11.1598,\n",
       "          11.1612,  11.1623,  11.1633,  11.1638,  11.1643,  11.165 ,\n",
       "          11.1653,  11.1699,  11.1704,  11.1713,  11.1729,  11.1737,\n",
       "          11.1751,  11.1752,  11.1764,  11.1777,  11.1777,  11.1786,\n",
       "          11.1788,  11.1793,  11.1801,  11.1809,  11.1813,  11.1827,\n",
       "          11.1849,  11.1874,  11.1874,  11.1886,  11.1897,  11.1918,\n",
       "          11.1925,  11.1928,  11.1932,  11.1973,  11.1973,  11.1975,\n",
       "          11.1999,  11.2031,  11.2051,  11.2054,  11.2066,  11.2122,\n",
       "          11.2125,  11.2133,  11.2148,  11.2179,  11.219 ,  11.223 ,\n",
       "          11.2267,  11.2276,  11.2299,  11.2306,  11.2376,  11.241 ,\n",
       "          11.2426,  11.2432,  11.2458,  11.246 ,  11.2469,  11.2475,\n",
       "          11.2481,  11.2487,  11.2532,  11.2533,  11.2577,  11.259 ,\n",
       "          11.2668,  11.2718,  11.2737,  11.2751,  11.2753,  11.2785,\n",
       "          11.2855,  11.2862,  11.29  ,  11.2903,  11.2988,  11.2997,\n",
       "          11.3   ,  11.3032,  11.3071,  11.3083,  11.3154,  11.3173,\n",
       "          11.3238,  11.3239,  11.324 ,  11.3272,  11.3276,  11.329 ,\n",
       "          11.3294,  11.3298,  11.3446,  11.3447,  11.3496,  11.3593,\n",
       "          11.3666,  11.3669,  11.3677,  11.3696,  11.3725,  11.3791,\n",
       "          11.3838,  11.3877,  11.3951,  11.4002,  11.4069,  11.4075,\n",
       "          11.413 ,  11.4142,  11.4175,  11.418 ,  11.4276,  11.4414,\n",
       "          11.4435,  11.4648,  11.4744,  11.4754,  11.4929,  11.5225,\n",
       "          11.538 ,  11.5524])),\n",
       " (0.19199691662439902, 11.033723999999999, 0.99856154309220013))"
      ]
     },
     "execution_count": 40,
     "metadata": {},
     "output_type": "execute_result"
    },
    {
     "data": {
      "image/png": "[encoded data removed]",
      "text/plain": [
       "<matplotlib.figure.Figure at 0x9bcfb00>"
      ]
     },
     "metadata": {},
     "output_type": "display_data"
    }
   ],
   "source": [
    "probplot(means, plot=plt)"
   ]
  },
  {
   "cell_type": "code",
   "execution_count": 43,
   "metadata": {
    "collapsed": false
   },
   "outputs": [
    {
     "data": {
      "text/plain": [
       "((array([  9581.17155468,   9619.97390784,   9641.8384813 ,   9657.36210774,\n",
       "           9669.53740626,   9679.62373538,   9688.27504193,   9695.87621501,\n",
       "           9702.6736663 ,   9708.83502299,   9714.47968177,   9719.6958101 ,\n",
       "           9724.5504365 ,   9729.09575518,   9733.37323423,   9737.41638823,\n",
       "           9741.25270565,   9744.9050233 ,   9748.39252839,   9751.73150335,\n",
       "           9754.93588897,   9758.01771684,   9760.98744579,   9763.85422707,\n",
       "           9766.62611558,   9769.31023996,   9771.91294064,   9774.43988312,\n",
       "           9776.89615134,   9779.28632551,   9781.61454713,   9783.88457391,\n",
       "           9786.09982624,   9788.26342682,   9790.37823459,   9792.44687396,\n",
       "           9794.47176004,   9796.45512059,   9798.39901509,   9800.30535152,\n",
       "           9802.17590097,   9804.01231064,   9805.81611523,   9807.58874709,\n",
       "           9809.33154525,   9811.04576343,   9812.73257725,   9814.39309062,\n",
       "           9816.0283416 ,   9817.63930755,   9819.22690987,   9820.7920182 ,\n",
       "           9822.33545434,   9823.8579957 ,   9825.3603785 ,   9826.84330067,\n",
       "           9828.30742451,   9829.75337909,   9831.18176247,   9832.59314376,\n",
       "           9833.98806497,   9835.36704273,   9836.73056987,   9838.07911692,\n",
       "           9839.41313341,   9840.73304915,   9842.03927538,   9843.33220583,\n",
       "           9844.61221776,   9845.87967284,   9847.13491803,   9848.37828637,\n",
       "           9849.61009776,   9850.83065962,   9852.04026758,   9853.23920604,\n",
       "           9854.42774879,   9855.60615954,   9856.77469237,   9857.93359227,\n",
       "           9859.08309554,   9860.2234302 ,   9861.35481641,   9862.47746683,\n",
       "           9863.59158694,   9864.69737539,   9865.79502432,   9866.88471962,\n",
       "           9867.96664123,   9869.04096337,   9870.10785482,   9871.16747914,\n",
       "           9872.21999488,   9873.2655558 ,   9874.30431106,   9875.33640542,\n",
       "           9876.36197941,   9877.38116949,   9878.39410823,   9879.40092444,\n",
       "           9880.40174335,   9881.39668672,   9882.38587297,   9883.36941732,\n",
       "           9884.34743192,   9885.32002592,   9886.28730565,   9887.24937464,\n",
       "           9888.20633379,   9889.15828143,   9890.10531342,   9891.04752323,\n",
       "           9891.98500202,   9892.91783876,   9893.84612024,   9894.76993119,\n",
       "           9895.68935434,   9896.60447048,   9897.51535852,   9898.42209557,\n",
       "           9899.32475699,   9900.22341643,   9901.11814592,   9902.00901589,\n",
       "           9902.89609523,   9903.77945135,   9904.65915022,   9905.53525639,\n",
       "           9906.40783308,   9907.27694218,   9908.14264432,   9909.00499889,\n",
       "           9909.86406407,   9910.7198969 ,   9911.57255327,   9912.42208798,\n",
       "           9913.26855479,   9914.11200639,   9914.9524945 ,   9915.79006986,\n",
       "           9916.62478224,   9917.45668052,   9918.28581267,   9919.11222581,\n",
       "           9919.9359662 ,   9920.75707929,   9921.57560972,   9922.39160136,\n",
       "           9923.20509734,   9924.01614004,   9924.82477112,   9925.63103157,\n",
       "           9926.43496168,   9927.23660109,   9928.03598881,   9928.83316321,\n",
       "           9929.62816206,   9930.42102254,   9931.21178126,   9932.00047426,\n",
       "           9932.78713704,   9933.57180455,   9934.35451126,   9935.13529111,\n",
       "           9935.91417753,   9936.69120352,   9937.46640158,   9938.23980375,\n",
       "           9939.01144164,   9939.78134644,   9940.54954889,   9941.31607935,\n",
       "           9942.08096775,   9942.84424366,   9943.60593625,   9944.36607433,\n",
       "           9945.12468633,   9945.88180036,   9946.63744416,   9947.39164516,\n",
       "           9948.14443043,   9948.89582676,   9949.6458606 ,   9950.39455813,\n",
       "           9951.1419452 ,   9951.8880474 ,   9952.63289003,   9953.37649811,\n",
       "           9954.11889643,   9954.86010948,   9955.60016151,   9956.33907654,\n",
       "           9957.07687835,   9957.81359046,   9958.54923619,   9959.28383864,\n",
       "           9960.01742068,   9960.75000499,   9961.48161402,   9962.21227005,\n",
       "           9962.94199515,   9963.67081121,   9964.39873995,   9965.12580288,\n",
       "           9965.85202137,   9966.57741662,   9967.30200965,   9968.02582134,\n",
       "           9968.7488724 ,   9969.47118341,   9970.1927748 ,   9970.91366686,\n",
       "           9971.63387974,   9972.35343347,   9973.07234795,   9973.79064296,\n",
       "           9974.50833815,   9975.22545306,   9975.94200714,   9976.65801971,\n",
       "           9977.37350999,   9978.08849713,   9978.80300014,   9979.51703797,\n",
       "           9980.23062948,   9980.94379344,   9981.65654853,   9982.36891339,\n",
       "           9983.08090654,   9983.79254646,   9984.50385157,   9985.21484019,\n",
       "           9985.92553063,   9986.6359411 ,   9987.3460898 ,   9988.05599483,\n",
       "           9988.7656743 ,   9989.47514623,   9990.18442862,   9990.89353946,\n",
       "           9991.60249665,   9992.31131811,   9993.02002171,   9993.72862531,\n",
       "           9994.43714673,   9995.1456038 ,   9995.85401431,   9996.56239605,\n",
       "           9997.2707668 ,   9997.97914436,   9998.68754648,   9999.39599096,\n",
       "          10000.10449557,  10000.81307811,  10001.52175638,  10002.2305482 ,\n",
       "          10002.9394714 ,  10003.64854384,  10004.3577834 ,  10005.06720798,\n",
       "          10005.77683553,  10006.486684  ,  10007.19677142,  10007.90711581,\n",
       "          10008.61773527,  10009.32864795,  10010.03987201,  10010.7514257 ,\n",
       "          10011.46332731,  10012.1755952 ,  10012.88824777,  10013.60130352,\n",
       "          10014.31478099,  10015.02869881,  10015.74307568,  10016.45793039,\n",
       "          10017.17328179,  10017.88914884,  10018.60555059,  10019.32250617,\n",
       "          10020.04003482,  10020.75815589,  10021.47688881,  10022.19625314,\n",
       "          10022.91626856,  10023.63695485,  10024.35833192,  10025.0804198 ,\n",
       "          10025.80323867,  10026.52680883,  10027.25115071,  10027.97628491,\n",
       "          10028.70223214,  10029.42901329,  10030.15664942,  10030.8851617 ,\n",
       "          10031.61457153,  10032.34490043,  10033.07617012,  10033.8084025 ,\n",
       "          10034.54161965,  10035.27584384,  10036.01109756,  10036.74740347,\n",
       "          10037.48478445,  10038.22326361,  10038.96286425,  10039.70360992,\n",
       "          10040.44552438,  10041.18863166,  10041.93295599,  10042.67852189,\n",
       "          10043.42535411,  10044.17347768,  10044.92291789,  10045.67370031,\n",
       "          10046.42585079,  10047.17939549,  10047.93436085,  10048.69077363,\n",
       "          10049.44866089,  10050.20805002,  10050.96896876,  10051.73144516,\n",
       "          10052.49550764,  10053.26118497,  10054.02850629,  10054.7975011 ,\n",
       "          10055.56819932,  10056.34063123,  10057.11482754,  10057.89081937,\n",
       "          10058.66863827,  10059.44831621,  10060.22988564,  10061.01337945,\n",
       "          10061.79883101,  10062.58627418,  10063.37574331,  10064.16727327,\n",
       "          10064.96089945,  10065.75665778,  10066.55458474,  10067.35471739,\n",
       "          10068.15709335,  10068.96175088,  10069.7687288 ,  10070.57806661,\n",
       "          10071.38980443,  10072.20398306,  10073.02064398,  10073.83982935,\n",
       "          10074.6615821 ,  10075.48594587,  10076.31296507,  10077.14268488,\n",
       "          10077.97515132,  10078.8104112 ,  10079.64851222,  10080.48950293,\n",
       "          10081.33343279,  10082.18035219,  10083.03031248,  10083.88336597,\n",
       "          10084.73956602,  10085.598967  ,  10086.46162436,  10087.32759466,\n",
       "          10088.1969356 ,  10089.06970604,  10089.94596607,  10090.82577699,\n",
       "          10091.70920143,  10092.5963033 ,  10093.4871479 ,  10094.38180193,\n",
       "          10095.28033354,  10096.1828124 ,  10097.0893097 ,  10097.99989825,\n",
       "          10098.91465248,  10099.83364857,  10100.75696442,  10101.68467978,\n",
       "          10102.61687626,  10103.55363742,  10104.49504886,  10105.44119823,\n",
       "          10106.39217534,  10107.34807225,  10108.30898331,  10109.27500527,\n",
       "          10110.24623737,  10111.22278141,  10112.20474186,  10113.19222593,\n",
       "          10114.18534374,  10115.18420835,  10116.18893592,  10117.19964582,\n",
       "          10118.21646075,  10119.23950688,  10120.26891398,  10121.30481555,\n",
       "          10122.34734901,  10123.39665583,  10124.45288168,  10125.51617667,\n",
       "          10126.58669547,  10127.66459754,  10128.75004732,  10129.84321447,\n",
       "          10130.94427408,  10132.05340691,  10133.17079967,  10134.29664525,\n",
       "          10135.43114305,  10136.57449927,  10137.72692719,  10138.88864759,\n",
       "          10140.05988904,  10141.24088832,  10142.43189082,  10143.63315095,\n",
       "          10144.84493265,  10146.06750984,  10147.30116695,  10148.5461995 ,\n",
       "          10149.80291466,  10151.07163193,  10152.35268378,  10153.64641639,\n",
       "          10154.95319045,  10156.27338198,  10157.60738324,  10158.95560369,\n",
       "          10160.31847102,  10161.69643229,  10163.08995514,  10164.49952908,\n",
       "          10165.92566692,  10167.36890626,  10168.82981121,  10170.30897412,\n",
       "          10171.80701758,  10173.32459653,  10174.86240059,  10176.42115657,\n",
       "          10178.00163126,  10179.60463445,  10181.23102227,  10182.88170085,\n",
       "          10184.55763033,  10186.25982934,  10187.98937988,  10189.74743283,\n",
       "          10191.53521393,  10193.35403058,  10195.20527934,  10197.09045434,\n",
       "          10199.01115673,  10200.96910527,  10202.96614835,  10205.00427751,\n",
       "          10207.08564281,  10209.2125704 ,  10211.38758251,  10213.61342044,\n",
       "          10215.89307106,  10218.22979741,  10220.62717433,  10223.08912999,\n",
       "          10225.61999474,  10228.22455861,  10230.90813971,  10233.67666584,\n",
       "          10236.53677263,  10239.49592243,  10242.56254949,  10245.74623861,\n",
       "          10249.05794723,  10252.51028427,  10256.11786405,  10259.89776119,\n",
       "          10263.87010338,  10268.05885551,  10272.49287501,  10277.20736003,\n",
       "          10282.2458809 ,  10287.66330369,  10293.53012427,  10299.9391226 ,\n",
       "          10307.01601867,  10314.93743777,  10323.9632187 ,  10334.4995833 ,\n",
       "          10347.23744761,  10363.50908685,  10386.4858483 ,  10427.43170024]),\n",
       "  array([ 2968984.2519,  3040408.1276,  3052927.8775,  3099958.6396,\n",
       "          3108411.4736,  3112265.4599,  3124482.5756,  3129811.6924,\n",
       "          3135618.1831,  3153491.2304,  3159049.24  ,  3162765.3404,\n",
       "          3162908.6631,  3166002.7644,  3182003.3711,  3188628.24  ,\n",
       "          3189057.8044,  3191470.0256,  3201822.4391,  3217307.8311,\n",
       "          3221220.4975,  3223662.0959,  3233339.76  ,  3239171.84  ,\n",
       "          3248066.1279,  3252875.64  ,  3254730.6464,  3256912.7804,\n",
       "          3262654.8924,  3270450.2999,  3271139.4375,  3273081.8231,\n",
       "          3275039.9351,  3276191.7264,  3279145.5959,  3281384.2111,\n",
       "          3286177.9359,  3288622.2624,  3291014.4444,  3304552.7679,\n",
       "          3306975.3119,  3311342.56  ,  3312014.8351,  3312525.3856,\n",
       "          3325309.0844,  3333307.9375,  3338502.3831,  3342705.8151,\n",
       "          3352726.9311,  3353643.8391,  3356288.4031,  3357798.4311,\n",
       "          3359943.3359,  3359997.0351,  3362355.0919,  3365369.8999,\n",
       "          3366355.59  ,  3369601.4224,  3382363.3391,  3383779.6975,\n",
       "          3383855.3975,  3384789.64  ,  3386651.1984,  3386802.6396,\n",
       "          3387009.8759,  3390389.6604,  3390437.1164,  3391193.51  ,\n",
       "          3391887.1975,  3392366.0591,  3395300.2151,  3395601.4975,\n",
       "          3397649.75  ,  3399114.4736,  3405246.0271,  3408193.5319,\n",
       "          3408356.31  ,  3408837.9056,  3409225.84  ,  3410837.8679,\n",
       "          3411719.9196,  3414826.5756,  3419796.1376,  3421852.6119,\n",
       "          3424522.0775,  3426910.3775,  3428826.3519,  3429004.2391,\n",
       "          3429594.1264,  3429949.3436,  3432980.8156,  3433527.1964,\n",
       "          3436414.4956,  3438903.3119,  3439156.9039,  3441566.6031,\n",
       "          3442451.51  ,  3444668.8111,  3445673.9751,  3450929.6944,\n",
       "          3453031.1999,  3454775.2351,  3455547.3084,  3459194.9999,\n",
       "          3461316.1984,  3467363.75  ,  3467467.6759,  3475614.2576,\n",
       "          3477081.3776,  3478000.9775,  3480204.9991,  3480558.1276,\n",
       "          3481349.3151,  3483791.3151,  3489820.2551,  3490225.6511,\n",
       "          3493031.8496,  3493283.5631,  3495548.8319,  3497504.6976,\n",
       "          3497617.3756,  3497772.9879,  3500135.3776,  3500176.2364,\n",
       "          3500681.16  ,  3502394.2719,  3503900.7871,  3505990.4151,\n",
       "          3509405.0879,  3509908.39  ,  3509947.4784,  3515752.1799,\n",
       "          3516380.4551,  3517039.5964,  3517423.44  ,  3518134.8391,\n",
       "          3518310.7356,  3518743.4044,  3519925.7519,  3521068.6479,\n",
       "          3523117.3104,  3525442.6039,  3528995.04  ,  3529668.04  ,\n",
       "          3532020.8991,  3533536.4759,  3533589.4716,  3534018.    ,\n",
       "          3534182.2775,  3536286.9916,  3539046.5696,  3539048.3904,\n",
       "          3539372.4256,  3548406.8256,  3549493.19  ,  3549559.6991,\n",
       "          3557989.2736,  3558606.8316,  3559235.1559,  3564417.51  ,\n",
       "          3565020.2719,  3568139.6551,  3572003.9516,  3573489.4944,\n",
       "          3573521.0551,  3573591.6679,  3573828.1759,  3574871.2271,\n",
       "          3575793.1351,  3577017.2784,  3578157.8639,  3580722.5975,\n",
       "          3581408.76  ,  3582060.8476,  3584351.0496,  3585260.7751,\n",
       "          3586070.3824,  3586290.8176,  3586829.3404,  3587874.9436,\n",
       "          3590430.6799,  3593577.6124,  3594031.7079,  3594661.9324,\n",
       "          3595332.6319,  3596553.3724,  3596756.3004,  3597222.6039,\n",
       "          3600468.2496,  3604690.9511,  3606029.5856,  3607758.3071,\n",
       "          3608754.3311,  3612975.7744,  3615435.2604,  3618712.2876,\n",
       "          3619140.4336,  3622315.8719,  3622688.1664,  3623468.9775,\n",
       "          3626440.2204,  3628101.2944,  3628409.3031,  3628839.7756,\n",
       "          3632466.7036,  3633350.9084,  3634698.4711,  3634839.76  ,\n",
       "          3639937.4556,  3639965.8711,  3641292.6076,  3641435.9356,\n",
       "          3643007.6951,  3643876.4375,  3645135.3671,  3645267.3916,\n",
       "          3647763.4519,  3649041.3104,  3649252.44  ,  3649842.5244,\n",
       "          3652849.0364,  3652944.16  ,  3653710.5239,  3655161.4844,\n",
       "          3655967.8976,  3657498.5831,  3659826.96  ,  3660378.7516,\n",
       "          3663650.3804,  3665996.2224,  3668353.5791,  3668928.6396,\n",
       "          3671377.4975,  3671674.7311,  3677937.8879,  3679949.2284,\n",
       "          3680597.8679,  3681040.8791,  3681426.8124,  3683993.5964,\n",
       "          3685460.2044,  3685784.7376,  3686131.0431,  3687656.3996,\n",
       "          3689914.9551,  3690355.7975,  3693750.3004,  3694440.3311,\n",
       "          3695212.8191,  3696705.5359,  3696894.2876,  3699619.75  ,\n",
       "          3699812.4775,  3700395.9804,  3704631.3359,  3704801.0496,\n",
       "          3706469.11  ,  3707647.4044,  3709020.9071,  3711313.8831,\n",
       "          3712026.7199,  3713243.0876,  3715257.4039,  3718226.1456,\n",
       "          3719619.1104,  3719657.3911,  3725093.3536,  3725852.2911,\n",
       "          3726637.7264,  3727476.5671,  3727704.3999,  3728090.2784,\n",
       "          3729401.75  ,  3730495.4119,  3730861.5151,  3733380.6144,\n",
       "          3734893.6784,  3735599.6956,  3737470.7159,  3742865.2839,\n",
       "          3743732.6336,  3743801.1984,  3745533.1775,  3746323.9431,\n",
       "          3747990.6719,  3749790.4471,  3751352.8976,  3753748.6176,\n",
       "          3755610.1084,  3755922.3216,  3757234.9436,  3757479.1456,\n",
       "          3761473.7975,  3761600.39  ,  3762302.8304,  3762676.6524,\n",
       "          3763944.6204,  3764461.2476,  3766845.1391,  3771172.31  ,\n",
       "          3776682.2391,  3779431.7071,  3781405.8975,  3782063.8631,\n",
       "          3785115.1776,  3786635.9824,  3787096.4375,  3787287.    ,\n",
       "          3790792.3516,  3791426.3975,  3792102.3439,  3792451.1879,\n",
       "          3793117.9584,  3793432.1344,  3794426.6399,  3795027.4559,\n",
       "          3795156.4576,  3796161.3424,  3796540.3071,  3798972.3484,\n",
       "          3799179.3775,  3802863.3359,  3803733.2039,  3813079.1644,\n",
       "          3813134.4416,  3813518.7804,  3814549.0684,  3815399.5479,\n",
       "          3815595.4639,  3816350.1791,  3816619.2544,  3817330.4375,\n",
       "          3818915.2831,  3819265.3999,  3824798.3399,  3825154.9111,\n",
       "          3825237.91  ,  3825955.1776,  3829246.8975,  3829940.7159,\n",
       "          3831817.19  ,  3835063.3239,  3835437.0951,  3842350.0511,\n",
       "          3842550.0599,  3843092.    ,  3846254.7831,  3847956.2591,\n",
       "          3851070.7264,  3852731.64  ,  3853800.3511,  3858423.6679,\n",
       "          3864337.7799,  3864399.5871,  3869938.9375,  3871205.7744,\n",
       "          3873758.6775,  3874859.5856,  3877547.8199,  3877565.8271,\n",
       "          3880068.1116,  3880545.0159,  3881384.0351,  3882484.3775,\n",
       "          3884502.4719,  3885047.5911,  3886950.1776,  3888476.4319,\n",
       "          3889522.1759,  3894737.75  ,  3896948.79  ,  3897419.59  ,\n",
       "          3898106.9551,  3898230.1959,  3898744.2239,  3900184.1564,\n",
       "          3902895.9696,  3903050.7024,  3904771.3519,  3908459.4464,\n",
       "          3910215.8871,  3912067.5319,  3912161.5791,  3915228.5039,\n",
       "          3915262.9999,  3915289.5056,  3921527.1199,  3928884.5071,\n",
       "          3933129.5824,  3933772.2364,  3934584.3311,  3937100.8124,\n",
       "          3943594.8439,  3944636.0656,  3946484.7599,  3947053.2071,\n",
       "          3947179.4524,  3949333.4375,  3949718.1871,  3954398.6144,\n",
       "          3954795.4096,  3955559.6191,  3957404.39  ,  3959867.5356,\n",
       "          3960222.3056,  3962484.5391,  3970152.84  ,  3973013.0631,\n",
       "          3977396.2816,  3978059.2476,  3984126.8944,  3986637.7279,\n",
       "          3990209.75  ,  3991784.5376,  3993187.6384,  3994765.4016,\n",
       "          4008450.7991,  4011265.2444,  4011936.24  ,  4012033.59  ,\n",
       "          4015176.36  ,  4017408.7159,  4018587.2159,  4019622.3031,\n",
       "          4021972.6975,  4022417.51  ,  4023568.4831,  4027267.1856,\n",
       "          4029590.0559,  4031379.9375,  4043622.8336,  4045994.3836,\n",
       "          4047198.24  ,  4047518.31  ,  4048575.7591,  4052700.4375,\n",
       "          4052944.2876,  4053336.0444,  4053575.2156,  4056304.1116,\n",
       "          4060261.9599,  4060684.0636,  4060818.7599,  4065326.1999,\n",
       "          4075380.2071,  4076594.3996,  4078485.9351,  4079608.9951,\n",
       "          4091082.9564,  4091828.8975,  4093211.7116,  4094233.2156,\n",
       "          4096009.4959,  4101524.7036,  4101775.2271,  4107985.4864,\n",
       "          4109373.8791,  4111464.7775,  4112322.3311,  4116003.8236,\n",
       "          4120322.7775,  4123449.4375,  4124469.6096,  4126660.8956,\n",
       "          4129335.7984,  4133013.0204,  4133655.6604,  4134292.9756,\n",
       "          4140277.8319,  4143286.9375,  4143610.0311,  4161003.7271,\n",
       "          4164788.4599,  4170953.4624,  4173669.9239,  4176911.56  ,\n",
       "          4177657.0624,  4182755.11  ,  4191461.9584,  4192455.2316,\n",
       "          4203857.7519,  4204259.8959,  4204312.5424,  4207195.0711,\n",
       "          4215106.5084,  4220843.9164,  4246954.6096,  4251928.76  ,\n",
       "          4253632.3399,  4256138.0775,  4284452.7824,  4308786.6064,\n",
       "          4329118.3196,  4358684.9671,  4365693.7271,  4401039.0991,\n",
       "          4423682.5111,  4439305.9484,  4481962.71  ,  4484444.    ])),\n",
       " (2011.8148495965343, -16410883.831448121, 0.99862641484213033))"
      ]
     },
     "execution_count": 43,
     "metadata": {},
     "output_type": "execute_result"
    },
    {
     "data": {
      "image/png": "[encoded data removed]",
      "text/plain": [
       "<matplotlib.figure.Figure at 0x178094b00>"
      ]
     },
     "metadata": {},
     "output_type": "display_data"
    }
   ],
   "source": [
    "probplot(devs, dist=\"chi2\", sparams=(10000-1), plot=plt)"
   ]
  },
  {
   "cell_type": "markdown",
   "metadata": {},
   "source": [
    "### 5"
   ]
  },
  {
   "cell_type": "code",
   "execution_count": 46,
   "metadata": {
    "collapsed": false
   },
   "outputs": [],
   "source": [
    "exp_sum_clicks = data_exp.groupby('userID').n_clicks.sum()\n",
    "con_sum_clicks = data_control.groupby('userID').n_clicks.sum()"
   ]
  },
  {
   "cell_type": "code",
   "execution_count": 47,
   "metadata": {
    "collapsed": true
   },
   "outputs": [],
   "source": [
    "from scipy.stats import mannwhitneyu"
   ]
  },
  {
   "cell_type": "code",
   "execution_count": 48,
   "metadata": {
    "collapsed": false
   },
   "outputs": [
    {
     "data": {
      "text/plain": [
       "MannwhitneyuResult(statistic=38901259929.0, pvalue=4.3471471887604393e-75)"
      ]
     },
     "execution_count": 48,
     "metadata": {},
     "output_type": "execute_result"
    }
   ],
   "source": [
    "mannwhitneyu(exp_sum_clicks, con_sum_clicks)"
   ]
  },
  {
   "cell_type": "markdown",
   "metadata": {},
   "source": [
    "### 6"
   ]
  },
  {
   "cell_type": "code",
   "execution_count": 49,
   "metadata": {
    "collapsed": false
   },
   "outputs": [
    {
     "data": {
      "text/plain": [
       "array(['Browser #2', 'Browser #4', 'Browser #14', 'Browser #17',\n",
       "       'Browser #20', 'Browser #22'], dtype=object)"
      ]
     },
     "execution_count": 49,
     "metadata": {},
     "output_type": "execute_result"
    }
   ],
   "source": [
    "data.browser.unique()"
   ]
  },
  {
   "cell_type": "code",
   "execution_count": 53,
   "metadata": {
    "collapsed": true
   },
   "outputs": [],
   "source": [
    "ps = []\n",
    "nc_exp = []\n",
    "nc_con = []\n",
    "for browser in data.browser.unique():\n",
    "    exp = data_exp.loc[data.browser==browser, \"n_clicks\"]\n",
    "    con = data_control.loc[data.browser==browser, \"n_clicks\"]\n",
    "    nc_exp.append(data_exp.loc[data.browser==browser, \"n_nonclk_queries\"].sum()/float(data_exp.loc[data.browser==browser, \"n_queries\"].sum()))\n",
    "    nc_con.append(data_control.loc[data.browser==browser, \"n_nonclk_queries\"].sum()/float(data_control.loc[data.browser==browser, \"n_queries\"].sum()))\n",
    "    ps.append(mannwhitneyu(exp, con).pvalue)"
   ]
  },
  {
   "cell_type": "code",
   "execution_count": 51,
   "metadata": {
    "collapsed": true
   },
   "outputs": [],
   "source": [
    "from statsmodels.sandbox.stats.multicomp import multipletests"
   ]
  },
  {
   "cell_type": "code",
   "execution_count": 52,
   "metadata": {
    "collapsed": false
   },
   "outputs": [
    {
     "data": {
      "text/plain": [
       "(array([False, False,  True, False, False, False], dtype=bool),\n",
       " array([ 0.12899649,  0.64906956,  0.        ,  0.14141688,  0.64906956,\n",
       "         0.59049882]),\n",
       " 0.008512444610847103,\n",
       " 0.008333333333333333)"
      ]
     },
     "execution_count": 52,
     "metadata": {},
     "output_type": "execute_result"
    }
   ],
   "source": [
    "multipletests(ps)"
   ]
  },
  {
   "cell_type": "code",
   "execution_count": 54,
   "metadata": {
    "collapsed": false
   },
   "outputs": [
    {
     "data": {
      "text/plain": [
       "[0.449827469485547,\n",
       " 0.4514294190358467,\n",
       " 0.4375561736127329,\n",
       " 0.3693741284866483,\n",
       " 0.3897737648371716,\n",
       " 0.3985394721969546]"
      ]
     },
     "execution_count": 54,
     "metadata": {},
     "output_type": "execute_result"
    }
   ],
   "source": [
    "nc_exp"
   ]
  },
  {
   "cell_type": "code",
   "execution_count": 55,
   "metadata": {
    "collapsed": false
   },
   "outputs": [
    {
     "data": {
      "text/plain": [
       "[0.4596274717919465,\n",
       " 0.4697092963514274,\n",
       " 0.5759041136008114,\n",
       " 0.36299366746282086,\n",
       " 0.4054048474338329,\n",
       " 0.40593976593513353]"
      ]
     },
     "execution_count": 55,
     "metadata": {},
     "output_type": "execute_result"
    }
   ],
   "source": [
    "nc_con"
   ]
  },
  {
   "cell_type": "code",
   "execution_count": null,
   "metadata": {
    "collapsed": true
   },
   "outputs": [],
   "source": []
  }
 ],
 "metadata": {
  "anaconda-cloud": {},
  "kernelspec": {
   "display_name": "Python [default]",
   "language": "python",
   "name": "python2"
  },
  "language_info": {
   "codemirror_mode": {
    "name": "ipython",
    "version": 2
   },
   "file_extension": ".py",
   "mimetype": "text/x-python",
   "name": "python",
   "nbconvert_exporter": "python",
   "pygments_lexer": "ipython2",
   "version": "2.7.12"
  }
 },
 "nbformat": 4,
 "nbformat_minor": 1
}
