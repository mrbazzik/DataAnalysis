{
 "cells": [
  {
   "cell_type": "code",
   "execution_count": 1,
   "metadata": {
    "collapsed": true
   },
   "outputs": [],
   "source": [
    "import pandas as pd"
   ]
  },
  {
   "cell_type": "code",
   "execution_count": 11,
   "metadata": {
    "collapsed": true
   },
   "outputs": [],
   "source": [
    "data = pd.read_csv('gene_high_throughput_sequencing.csv')"
   ]
  },
  {
   "cell_type": "code",
   "execution_count": 12,
   "metadata": {
    "collapsed": false
   },
   "outputs": [
    {
     "name": "stdout",
     "output_type": "stream",
     "text": [
      "<class 'pandas.core.frame.DataFrame'>\n",
      "RangeIndex: 72 entries, 0 to 71\n",
      "Columns: 15750 entries, Patient_id to EIF1AY\n",
      "dtypes: float64(15748), object(2)\n",
      "memory usage: 8.7+ MB\n"
     ]
    }
   ],
   "source": [
    "data.info()"
   ]
  },
  {
   "cell_type": "code",
   "execution_count": 14,
   "metadata": {
    "collapsed": false
   },
   "outputs": [
    {
     "data": {
      "text/html": [
       "<div>\n",
       "<table border=\"1\" class=\"dataframe\">\n",
       "  <thead>\n",
       "    <tr style=\"text-align: right;\">\n",
       "      <th></th>\n",
       "      <th>Patient_id</th>\n",
       "      <th>Diagnosis</th>\n",
       "      <th>LOC643837</th>\n",
       "      <th>LOC100130417</th>\n",
       "      <th>SAMD11</th>\n",
       "    </tr>\n",
       "  </thead>\n",
       "  <tbody>\n",
       "    <tr>\n",
       "      <th>0</th>\n",
       "      <td>STT5425_Breast_001_normal</td>\n",
       "      <td>normal</td>\n",
       "      <td>1.257614</td>\n",
       "      <td>2.408148</td>\n",
       "      <td>13.368622</td>\n",
       "    </tr>\n",
       "    <tr>\n",
       "      <th>1</th>\n",
       "      <td>STT5427_Breast_023_normal</td>\n",
       "      <td>normal</td>\n",
       "      <td>4.567931</td>\n",
       "      <td>16.602734</td>\n",
       "      <td>42.477752</td>\n",
       "    </tr>\n",
       "    <tr>\n",
       "      <th>2</th>\n",
       "      <td>STT5430_Breast_002_normal</td>\n",
       "      <td>normal</td>\n",
       "      <td>2.077597</td>\n",
       "      <td>3.978294</td>\n",
       "      <td>12.863214</td>\n",
       "    </tr>\n",
       "    <tr>\n",
       "      <th>3</th>\n",
       "      <td>STT5439_Breast_003_normal</td>\n",
       "      <td>normal</td>\n",
       "      <td>2.066576</td>\n",
       "      <td>8.520713</td>\n",
       "      <td>14.466035</td>\n",
       "    </tr>\n",
       "    <tr>\n",
       "      <th>4</th>\n",
       "      <td>STT5441_Breast_004_normal</td>\n",
       "      <td>normal</td>\n",
       "      <td>2.613616</td>\n",
       "      <td>3.434965</td>\n",
       "      <td>12.682222</td>\n",
       "    </tr>\n",
       "  </tbody>\n",
       "</table>\n",
       "</div>"
      ],
      "text/plain": [
       "                  Patient_id Diagnosis  LOC643837  LOC100130417     SAMD11\n",
       "0  STT5425_Breast_001_normal    normal   1.257614      2.408148  13.368622\n",
       "1  STT5427_Breast_023_normal    normal   4.567931     16.602734  42.477752\n",
       "2  STT5430_Breast_002_normal    normal   2.077597      3.978294  12.863214\n",
       "3  STT5439_Breast_003_normal    normal   2.066576      8.520713  14.466035\n",
       "4  STT5441_Breast_004_normal    normal   2.613616      3.434965  12.682222"
      ]
     },
     "execution_count": 14,
     "metadata": {},
     "output_type": "execute_result"
    }
   ],
   "source": [
    "data.iloc[:5, :5]"
   ]
  },
  {
   "cell_type": "code",
   "execution_count": 15,
   "metadata": {
    "collapsed": false
   },
   "outputs": [
    {
     "data": {
      "text/plain": [
       "early neoplasia    25\n",
       "normal             24\n",
       "cancer             23\n",
       "Name: Diagnosis, dtype: int64"
      ]
     },
     "execution_count": 15,
     "metadata": {},
     "output_type": "execute_result"
    }
   ],
   "source": [
    "data.Diagnosis.value_counts()"
   ]
  },
  {
   "cell_type": "code",
   "execution_count": 17,
   "metadata": {
    "collapsed": false
   },
   "outputs": [],
   "source": [
    "data_normal = data[data.Diagnosis=='normal']\n",
    "data_cancer = data[data.Diagnosis=='cancer']\n",
    "data_en = data[data.Diagnosis=='early neoplasia']"
   ]
  },
  {
   "cell_type": "code",
   "execution_count": 18,
   "metadata": {
    "collapsed": true
   },
   "outputs": [],
   "source": [
    "from scipy.stats import ttest_ind"
   ]
  },
  {
   "cell_type": "code",
   "execution_count": 25,
   "metadata": {
    "collapsed": false
   },
   "outputs": [
    {
     "data": {
      "text/plain": [
       "0.69059747056723886"
      ]
     },
     "execution_count": 25,
     "metadata": {},
     "output_type": "execute_result"
    }
   ],
   "source": [
    "ttest_ind(data_normal.loc[:,'LOC643837'], data_en.loc[:,'LOC643837']).pvalue"
   ]
  },
  {
   "cell_type": "code",
   "execution_count": 50,
   "metadata": {
    "collapsed": true
   },
   "outputs": [],
   "source": [
    "genes = data.columns[2:]\n",
    "ps_norm_en = []\n",
    "ps_en_cancer = []\n",
    "for gene in genes:\n",
    "    res = ttest_ind(data_normal.loc[:,gene], data_en.loc[:,gene], equal_var=False)\n",
    "    ps_norm_en.append(res.pvalue)\n",
    "    res = ttest_ind(data_en.loc[:,gene], data_cancer.loc[:,gene], equal_var=False)\n",
    "    ps_en_cancer.append(res.pvalue)"
   ]
  },
  {
   "cell_type": "code",
   "execution_count": 51,
   "metadata": {
    "collapsed": true
   },
   "outputs": [],
   "source": [
    "import numpy as np\n",
    "ps_norm_en = np.array(ps_norm_en)\n",
    "ps_en_cancer = np.array(ps_en_cancer)"
   ]
  },
  {
   "cell_type": "code",
   "execution_count": 52,
   "metadata": {
    "collapsed": false
   },
   "outputs": [
    {
     "data": {
      "text/plain": [
       "(15748L,)"
      ]
     },
     "execution_count": 52,
     "metadata": {},
     "output_type": "execute_result"
    }
   ],
   "source": [
    "ps_norm_en.shape\n",
    "genes.shape"
   ]
  },
  {
   "cell_type": "code",
   "execution_count": 53,
   "metadata": {
    "collapsed": false
   },
   "outputs": [
    {
     "name": "stdout",
     "output_type": "stream",
     "text": [
      "1575\n",
      "3490\n"
     ]
    }
   ],
   "source": [
    "alpha = 0.05\n",
    "\n",
    "#count = np.array(map(int, ps_norm_en<alpha) + map(int, ps_en_cancer<alpha))\n",
    "\n",
    "print sum(ps_norm_en<alpha)\n",
    "print sum(ps_en_cancer<alpha)"
   ]
  },
  {
   "cell_type": "code",
   "execution_count": 54,
   "metadata": {
    "collapsed": false
   },
   "outputs": [],
   "source": [
    "with open('task1.1.txt', 'w') as f:\n",
    "    f.write(str(sum(ps_norm_en<alpha)))\n",
    "    \n",
    "with open('task1.2.txt', 'w') as f:\n",
    "    f.write(str(sum(ps_en_cancer<alpha)))"
   ]
  },
  {
   "cell_type": "code",
   "execution_count": 55,
   "metadata": {
    "collapsed": true
   },
   "outputs": [],
   "source": [
    "import statsmodels.stats.multitest as smm"
   ]
  },
  {
   "cell_type": "code",
   "execution_count": 56,
   "metadata": {
    "collapsed": true
   },
   "outputs": [],
   "source": [
    "alpha2 = 0.05/2"
   ]
  },
  {
   "cell_type": "code",
   "execution_count": 64,
   "metadata": {
    "collapsed": false
   },
   "outputs": [],
   "source": [
    "ps_norm_en_hs = smm.multipletests(ps_norm_en, alpha2)[1]\n",
    "ps_en_cancer_hs = smm.multipletests(ps_en_cancer, alpha2)[1]"
   ]
  },
  {
   "cell_type": "code",
   "execution_count": 65,
   "metadata": {
    "collapsed": false
   },
   "outputs": [],
   "source": [
    "fc_norm_en = np.zeros(ps_norm_en_hs.shape)\n",
    "fc_en_cancer = np.zeros(ps_en_cancer_hs.shape)\n",
    "for i in range(ps_norm_en_hs.shape[0]):\n",
    "    mean_n = data_normal.iloc[:,2+i].mean()\n",
    "    mean_en = data_en.iloc[:,2+i].mean()\n",
    "    mean_c = data_cancer.iloc[:,2+i].mean()\n",
    "    if mean_n>mean_en:\n",
    "        fc_norm_en[i] = -float(mean_n)/mean_en\n",
    "    else:\n",
    "        fc_norm_en[i] = float(mean_en)/mean_n\n",
    "    \n",
    "    if mean_en>mean_c:\n",
    "        fc_en_cancer[i] = -float(mean_en)/mean_c\n",
    "    else:\n",
    "        fc_en_cancer[i] = float(mean_c)/mean_en"
   ]
  },
  {
   "cell_type": "code",
   "execution_count": 69,
   "metadata": {
    "collapsed": false
   },
   "outputs": [
    {
     "name": "stdout",
     "output_type": "stream",
     "text": [
      "2\n"
     ]
    }
   ],
   "source": [
    "c1 = ps_norm_en[np.logical_and(ps_norm_en_hs<alpha2, np.abs(fc_norm_en)>1.5)].shape[0]\n",
    "print c1"
   ]
  },
  {
   "cell_type": "code",
   "execution_count": 70,
   "metadata": {
    "collapsed": false
   },
   "outputs": [
    {
     "name": "stdout",
     "output_type": "stream",
     "text": [
      "77\n"
     ]
    }
   ],
   "source": [
    "c2 = ps_en_cancer_hs[np.logical_and(ps_en_cancer_hs<alpha2, np.abs(fc_en_cancer)>1.5)].shape[0]\n",
    "print c2"
   ]
  },
  {
   "cell_type": "code",
   "execution_count": 71,
   "metadata": {
    "collapsed": true
   },
   "outputs": [],
   "source": [
    "with open('task2.1.txt', 'w') as f:\n",
    "    f.write(str(c1))\n",
    "    \n",
    "with open('task2.2.txt', 'w') as f:\n",
    "    f.write(str(c2))"
   ]
  },
  {
   "cell_type": "code",
   "execution_count": 72,
   "metadata": {
    "collapsed": true
   },
   "outputs": [],
   "source": [
    "ps_norm_en_bh = smm.multipletests(ps_norm_en, alpha2, method='fdr_bh')[1]\n",
    "ps_en_cancer_bh = smm.multipletests(ps_en_cancer, alpha2,  method='fdr_bh')[1]"
   ]
  },
  {
   "cell_type": "code",
   "execution_count": 73,
   "metadata": {
    "collapsed": false
   },
   "outputs": [
    {
     "name": "stdout",
     "output_type": "stream",
     "text": [
      "4\n"
     ]
    }
   ],
   "source": [
    "c3 = ps_norm_en_bh[np.logical_and(ps_norm_en_bh<alpha2, np.abs(fc_norm_en)>1.5)].shape[0]\n",
    "print c3"
   ]
  },
  {
   "cell_type": "code",
   "execution_count": 74,
   "metadata": {
    "collapsed": false
   },
   "outputs": [
    {
     "name": "stdout",
     "output_type": "stream",
     "text": [
      "524\n"
     ]
    }
   ],
   "source": [
    "c4 = ps_en_cancer_bh[np.logical_and(ps_en_cancer_bh<alpha2, np.abs(fc_en_cancer)>1.5)].shape[0]\n",
    "print c4"
   ]
  },
  {
   "cell_type": "code",
   "execution_count": 75,
   "metadata": {
    "collapsed": true
   },
   "outputs": [],
   "source": [
    "with open('task3.1.txt', 'w') as f:\n",
    "    f.write(str(c3))\n",
    "    \n",
    "with open('task3.2.txt', 'w') as f:\n",
    "    f.write(str(c4))"
   ]
  },
  {
   "cell_type": "code",
   "execution_count": null,
   "metadata": {
    "collapsed": true
   },
   "outputs": [],
   "source": []
  }
 ],
 "metadata": {
  "anaconda-cloud": {},
  "kernelspec": {
   "display_name": "Python [default]",
   "language": "python",
   "name": "python2"
  },
  "language_info": {
   "codemirror_mode": {
    "name": "ipython",
    "version": 2
   },
   "file_extension": ".py",
   "mimetype": "text/x-python",
   "name": "python",
   "nbconvert_exporter": "python",
   "pygments_lexer": "ipython2",
   "version": "2.7.12"
  }
 },
 "nbformat": 4,
 "nbformat_minor": 1
}
