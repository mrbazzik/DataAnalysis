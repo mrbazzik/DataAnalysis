{
 "cells": [
  {
   "cell_type": "code",
   "execution_count": 1,
   "metadata": {
    "collapsed": true
   },
   "outputs": [],
   "source": [
    "import pandas as pd"
   ]
  },
  {
   "cell_type": "code",
   "execution_count": 30,
   "metadata": {
    "collapsed": true
   },
   "outputs": [],
   "source": [
    "with open('../Data/coursera_sessions_train.txt', 'r') as f:\n",
    "    train_data = f.readlines()"
   ]
  },
  {
   "cell_type": "code",
   "execution_count": 31,
   "metadata": {
    "collapsed": true
   },
   "outputs": [],
   "source": [
    "with open('../Data/coursera_sessions_test.txt', 'r') as f:\n",
    "    test_data = f.readlines()"
   ]
  },
  {
   "cell_type": "code",
   "execution_count": 64,
   "metadata": {
    "collapsed": true
   },
   "outputs": [],
   "source": [
    "import numpy as np\n",
    "def preprocess_data(data):\n",
    "    tdata = map(lambda x: x.replace('\\n',''), data)\n",
    "    tdata = map(lambda x: x.split(';'), tdata)\n",
    "    \n",
    "    ttdata = []\n",
    "    for el in tdata:\n",
    "        if el[1]!='':\n",
    "            ttdata.append(el)\n",
    "            \n",
    "    obs = np.array([x[0].split(',') for x in ttdata])\n",
    "    buy = np.array([x[1].split(',') for x in ttdata])\n",
    "    \n",
    "    obs_all = []\n",
    "    for el in obs:\n",
    "        obs_all += el\n",
    "        \n",
    "    buy_all = []\n",
    "    for el in buy:\n",
    "        buy_all += el\n",
    "        \n",
    "    obs_un, obs_counts = np.unique(obs_all, return_counts=True)\n",
    "    buy_un, buy_counts = np.unique(buy_all, return_counts=True)\n",
    "    \n",
    "    n_obs = [len(x) for x in obs]\n",
    "    n_buy = [len(x) for x in buy]\n",
    "    return {'obs': obs, 'obs_all': obs_all, 'obs_un': obs_un, 'obs_counts': obs_counts, 'n_obs': n_obs,\n",
    "           'buy': buy, 'buy_all': buy_all, 'buy_un': buy_un, 'buy_counts': buy_counts, 'n_buy': n_buy}"
   ]
  },
  {
   "cell_type": "code",
   "execution_count": 65,
   "metadata": {
    "collapsed": true
   },
   "outputs": [],
   "source": [
    "train_sum = preprocess_data(train_data)"
   ]
  },
  {
   "cell_type": "code",
   "execution_count": 69,
   "metadata": {
    "collapsed": false
   },
   "outputs": [],
   "source": [
    "pop_obs = sorted(zip(train_sum['obs_un'], train_sum['obs_counts']), key=lambda x: x[1], reverse=True)\n",
    "ppop_obs = [x[0] for x in pop_obs]\n",
    "pop_buy = sorted(zip(train_sum['buy_un'], train_sum['buy_counts']), key=lambda x: x[1], reverse=True)\n",
    "ppop_buy = [x[0] for x in pop_buy]"
   ]
  },
  {
   "cell_type": "code",
   "execution_count": 94,
   "metadata": {
    "collapsed": true
   },
   "outputs": [],
   "source": [
    "def prec_recall(obs, buy, ppop_obs, k):\n",
    "    #print obs\n",
    "    obs_un = np.unique(obs)\n",
    "    #print obs_un\n",
    "    inds = map(lambda x: ppop_obs.index(x), obs_un)\n",
    "    #print inds\n",
    "    inds_obs = sorted(zip(inds, obs_un), key=lambda x: x[0])\n",
    "    l = min(k, len(obs_un))\n",
    "    recoms = [str(x[1]) for x in inds_obs][:l]\n",
    "    #print recoms\n",
    "    pr_sum = 0\n",
    "    rec_sum = 0\n",
    "    n_sum = 0\n",
    "    for i in range(l):\n",
    "        if recoms[i] in buy:\n",
    "            n_sum += 1\n",
    "            pr_sum += float(n_sum)/(i+1)\n",
    "            rec_sum += float(n_sum)/len(buy)\n",
    "    if n_sum ==0: n_sum = 1\n",
    "    pr = float(pr_sum)/n_sum\n",
    "    recall = float(rec_sum)/n_sum\n",
    "    return (pr, recall)"
   ]
  },
  {
   "cell_type": "code",
   "execution_count": 95,
   "metadata": {
    "collapsed": false
   },
   "outputs": [],
   "source": [
    "prs = []\n",
    "recalls = []\n",
    "for i in range(len(train_sum['obs'])):\n",
    "    pr, recall = prec_recall(train_sum['obs'][i], train_sum['buy'][i], ppop_obs, 1)\n",
    "    prs.append(pr)\n",
    "    recalls.append(recall)"
   ]
  },
  {
   "cell_type": "code",
   "execution_count": 96,
   "metadata": {
    "collapsed": false
   },
   "outputs": [
    {
     "name": "stdout",
     "output_type": "stream",
     "text": [
      "0.558203991131\n",
      "0.481560050414\n"
     ]
    }
   ],
   "source": [
    "print np.mean(prs)\n",
    "print np.mean(recalls)"
   ]
  },
  {
   "cell_type": "code",
   "execution_count": 97,
   "metadata": {
    "collapsed": false
   },
   "outputs": [
    {
     "name": "stdout",
     "output_type": "stream",
     "text": [
      "0.700676736881\n",
      "0.818842183469\n"
     ]
    }
   ],
   "source": [
    "prs = []\n",
    "recalls = []\n",
    "for i in range(len(train_sum['obs'])):\n",
    "    pr, recall = prec_recall(train_sum['obs'][i], train_sum['buy'][i], ppop_obs, 5)\n",
    "    prs.append(pr)\n",
    "    recalls.append(recall)\n",
    "print np.mean(prs)\n",
    "print np.mean(recalls)"
   ]
  }
 ],
 "metadata": {
  "anaconda-cloud": {},
  "kernelspec": {
   "display_name": "Python [default]",
   "language": "python",
   "name": "python2"
  },
  "language_info": {
   "codemirror_mode": {
    "name": "ipython",
    "version": 2
   },
   "file_extension": ".py",
   "mimetype": "text/x-python",
   "name": "python",
   "nbconvert_exporter": "python",
   "pygments_lexer": "ipython2",
   "version": "2.7.12"
  }
 },
 "nbformat": 4,
 "nbformat_minor": 1
}
