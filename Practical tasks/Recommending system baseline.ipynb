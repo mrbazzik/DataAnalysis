{
 "cells": [
  {
   "cell_type": "code",
   "execution_count": 38,
   "metadata": {
    "collapsed": true
   },
   "outputs": [],
   "source": [
    "import pandas as pd"
   ]
  },
  {
   "cell_type": "code",
   "execution_count": 39,
   "metadata": {
    "collapsed": false
   },
   "outputs": [],
   "source": [
    "with open('../Data/coursera_sessions_train.txt', 'r') as f:\n",
    "    train_data = f.readlines()"
   ]
  },
  {
   "cell_type": "code",
   "execution_count": 40,
   "metadata": {
    "collapsed": true
   },
   "outputs": [],
   "source": [
    "with open('../Data/coursera_sessions_test.txt', 'r') as f:\n",
    "    test_data = f.readlines()"
   ]
  },
  {
   "cell_type": "code",
   "execution_count": 44,
   "metadata": {
    "collapsed": true
   },
   "outputs": [],
   "source": [
    "import numpy as np\n",
    "def preprocess_data(data):\n",
    "    print \"tdata\"\n",
    "    tdata = map(lambda x: x.replace('\\n',''), data)\n",
    "    tdata = map(lambda x: x.split(';'), tdata)\n",
    "    \n",
    "    print \"ttdata\"\n",
    "    ttdata = []\n",
    "    for el in tdata:\n",
    "        if el[1]!='':\n",
    "            ttdata.append(el)\n",
    "            \n",
    "    obs = [x[0].split(',') for x in ttdata]\n",
    "    buy = [x[1].split(',') for x in ttdata]\n",
    "    \n",
    "    print \"full\"\n",
    "    obs_full = [x[0].split(',') for x in tdata]\n",
    "    buy_full = [x[1].split(',') for x in tdata]\n",
    "    \n",
    "    print \"obs_all\"\n",
    "    obs_all = []\n",
    "    for el in obs_full:\n",
    "        obs_all += el\n",
    "        \n",
    "    print \"buy_all\"\n",
    "    buy_all = []\n",
    "    for el in buy_full:\n",
    "        buy_all += el\n",
    "    \n",
    "    print \"unique, counts, inds\"\n",
    "    obs_un, obs_inds, obs_counts = np.unique(obs_all, return_index=True, return_counts=True)\n",
    "    buy_un, buy_inds, buy_counts = np.unique(buy_all, return_index=True, return_counts=True)\n",
    "    \n",
    "    #print \"counts\"\n",
    "    #obs_counts = [obs_all.count(x) for x in obs_un]\n",
    "    #buy_counts = [buy_all.count(x) for x in buy_un]\n",
    "    \n",
    "    #print \"inds\"\n",
    "    #obs_inds = [obs_all.index(x) for x in obs_un]\n",
    "    #buy_inds = [buy_all.index(x) for x in buy_un]\n",
    "    \n",
    "    #print \"ns\"\n",
    "    #n_obs = [len(x) for x in obs]\n",
    "    #n_buy = [len(x) for x in buy]\n",
    "    return {'obs': obs,\n",
    "            'obs_full': obs_full, 'obs_all': obs_all, 'obs_un': obs_un, 'obs_counts': obs_counts, #'n_obs': n_obs, \n",
    "            'obs_inds': obs_inds,\n",
    "            'buy': buy,\n",
    "            'buy_full': buy_full, 'buy_all': buy_all, 'buy_un': buy_un, 'buy_counts': buy_counts, #'n_buy': n_buy, \n",
    "            'buy_inds': buy_inds}"
   ]
  },
  {
   "cell_type": "code",
   "execution_count": 45,
   "metadata": {
    "collapsed": false
   },
   "outputs": [
    {
     "name": "stdout",
     "output_type": "stream",
     "text": [
      "tdata\n",
      "ttdata\n",
      "full\n",
      "obs_all\n",
      "buy_all\n",
      "unique, counts, inds\n"
     ]
    }
   ],
   "source": [
    "train_sum = preprocess_data(train_data)"
   ]
  },
  {
   "cell_type": "code",
   "execution_count": 46,
   "metadata": {
    "collapsed": false
   },
   "outputs": [],
   "source": [
    "pop_obs = sorted(zip(train_sum['obs_un'], train_sum['obs_counts'], train_sum['obs_inds']), key=lambda x: (-x[1], x[2]))\n",
    "ppop_obs = [x[0] for x in pop_obs]\n",
    "pop_buy = sorted(zip(train_sum['buy_un'], train_sum['buy_counts'], train_sum['buy_inds']), key=lambda x: (-x[1],x[2]))\n",
    "ppop_buy = [x[0] for x in pop_buy]"
   ]
  },
  {
   "cell_type": "code",
   "execution_count": 69,
   "metadata": {
    "collapsed": true
   },
   "outputs": [],
   "source": [
    "def prec_recall(obs, buy, ppop_obs, k):\n",
    "    #print obs\n",
    "    obs_un = np.unique(obs)\n",
    "    #print obs_un\n",
    "    inds = map(lambda x: ppop_obs.index(x) if x in ppop_obs else 9999999, obs_un)\n",
    "    indsr = map(lambda x: obs.index(x), obs_un)\n",
    "    #print inds\n",
    "    inds_obs = sorted(zip(inds, obs_un, indsr), key=lambda x: (x[0], x[2]))\n",
    "    l = k#min(k, len(obs_un))\n",
    "    recoms = [str(x[1]) for x in inds_obs][:l]\n",
    "    \n",
    "    #pr_sum = 0\n",
    "    #rec_sum = 0\n",
    "    n_sum = 0\n",
    "    #for i in range(l):\n",
    "    #    if recoms[i] in buy:\n",
    "    #        n_sum += 1\n",
    "    #        pr_sum += float(n_sum)/(i+1)\n",
    "    #        rec_sum += float(n_sum)/len(buy)\n",
    "    #if n_sum ==0: n_sum = 1\n",
    "    #pr = float(pr_sum)/n_sum\n",
    "    #recall = float(rec_sum)/n_sum\n",
    "    \n",
    "    for rec in recoms:\n",
    "        if rec in buy:\n",
    "            n_sum += 1\n",
    "    pr = float(n_sum)/l\n",
    "    recall = float(n_sum)/len(buy)        \n",
    "    return (pr, recall)"
   ]
  },
  {
   "cell_type": "code",
   "execution_count": 52,
   "metadata": {
    "collapsed": false
   },
   "outputs": [
    {
     "name": "stdout",
     "output_type": "stream",
     "text": [
      "0.506097560976\n",
      "0.438051907135\n"
     ]
    }
   ],
   "source": [
    "prs = []\n",
    "recalls = []\n",
    "for i in range(len(train_sum['obs'])):\n",
    "    pr, recall = prec_recall(train_sum['obs'][i], train_sum['buy'][i], ppop_obs, 1)\n",
    "    prs.append(pr)\n",
    "    recalls.append(recall)\n",
    "print np.mean(prs)\n",
    "print np.mean(recalls)"
   ]
  },
  {
   "cell_type": "code",
   "execution_count": 53,
   "metadata": {
    "collapsed": false
   },
   "outputs": [
    {
     "name": "stdout",
     "output_type": "stream",
     "text": [
      "0.211973392461\n",
      "0.822482228753\n"
     ]
    }
   ],
   "source": [
    "prs = []\n",
    "recalls = []\n",
    "for i in range(len(train_sum['obs'])):\n",
    "    pr, recall = prec_recall(train_sum['obs'][i], train_sum['buy'][i], ppop_obs, 5)\n",
    "    prs.append(pr)\n",
    "    recalls.append(recall)\n",
    "print np.mean(prs)\n",
    "print np.mean(recalls)"
   ]
  },
  {
   "cell_type": "code",
   "execution_count": 19,
   "metadata": {
    "collapsed": true
   },
   "outputs": [],
   "source": [
    "def write_file(filename, res):\n",
    "    with open(filename, 'w') as f:\n",
    "        f.write(str(res))"
   ]
  },
  {
   "cell_type": "code",
   "execution_count": 61,
   "metadata": {
    "collapsed": false
   },
   "outputs": [],
   "source": [
    "write_file('recom_1.txt', ' '.join(map(str, [0.44, 0.51, 0.82, 0.21])))"
   ]
  },
  {
   "cell_type": "code",
   "execution_count": 70,
   "metadata": {
    "collapsed": true
   },
   "outputs": [],
   "source": [
    "def prec_recall_buy(obs, buy, ppop_buy, k):\n",
    "    #print obs\n",
    "    obs_un = np.unique(obs)\n",
    "    #print obs_un\n",
    "    inds = map(lambda x: ppop_buy.index(x) if x in ppop_buy else 999999, obs_un)\n",
    "    indsr = map(lambda x: obs.index(x), obs_un)\n",
    "    #print inds\n",
    "    inds_obs = sorted(zip(inds, obs_un, indsr), key=lambda x: (x[0], x[2]))\n",
    "    l = k#min(k, len(obs_un))\n",
    "    recoms = [str(x[1]) for x in inds_obs][:l]\n",
    "    n_sum = 0\n",
    "    for rec in recoms:\n",
    "        if rec in buy:\n",
    "            n_sum += 1\n",
    "    pr = float(n_sum)/l\n",
    "    recall = float(n_sum)/len(buy)        \n",
    "    return (pr, recall)"
   ]
  },
  {
   "cell_type": "code",
   "execution_count": 66,
   "metadata": {
    "collapsed": false
   },
   "outputs": [
    {
     "name": "stdout",
     "output_type": "stream",
     "text": [
      "0.790188470067\n",
      "0.67678493747\n"
     ]
    }
   ],
   "source": [
    "prs = []\n",
    "recalls = []\n",
    "for i in range(len(train_sum['obs'])):\n",
    "    pr, recall = prec_recall_buy(train_sum['obs'][i], train_sum['buy'][i], ppop_buy, 1)\n",
    "    prs.append(pr)\n",
    "    recalls.append(recall)\n",
    "print np.mean(prs)\n",
    "print np.mean(recalls)"
   ]
  },
  {
   "cell_type": "code",
   "execution_count": 67,
   "metadata": {
    "collapsed": false
   },
   "outputs": [
    {
     "name": "stdout",
     "output_type": "stream",
     "text": [
      "0.252050997783\n",
      "0.925502873112\n"
     ]
    }
   ],
   "source": [
    "prs = []\n",
    "recalls = []\n",
    "for i in range(len(train_sum['obs'])):\n",
    "    pr, recall = prec_recall_buy(train_sum['obs'][i], train_sum['buy'][i], ppop_buy, 5)\n",
    "    prs.append(pr)\n",
    "    recalls.append(recall)\n",
    "print np.mean(prs)\n",
    "print np.mean(recalls)"
   ]
  },
  {
   "cell_type": "code",
   "execution_count": 68,
   "metadata": {
    "collapsed": true
   },
   "outputs": [],
   "source": [
    "write_file('recom_3.txt', ' '.join(map(str, [0.68, 0.79, 0.93, 0.25])))"
   ]
  },
  {
   "cell_type": "markdown",
   "metadata": {},
   "source": [
    "### test"
   ]
  },
  {
   "cell_type": "code",
   "execution_count": null,
   "metadata": {
    "collapsed": true
   },
   "outputs": [],
   "source": [
    "test_sum = preprocess_data(test_data)"
   ]
  },
  {
   "cell_type": "code",
   "execution_count": 72,
   "metadata": {
    "collapsed": false
   },
   "outputs": [
    {
     "name": "stdout",
     "output_type": "stream",
     "text": [
      "0.477762619372\n",
      "0.414556075272\n"
     ]
    }
   ],
   "source": [
    "prs = []\n",
    "recalls = []\n",
    "for i in range(len(test_sum['obs'])):\n",
    "    pr, recall = prec_recall(test_sum['obs'][i], test_sum['buy'][i], ppop_obs, 1)\n",
    "    prs.append(pr)\n",
    "    recalls.append(recall)\n",
    "print np.mean(prs)\n",
    "print np.mean(recalls)"
   ]
  },
  {
   "cell_type": "code",
   "execution_count": 73,
   "metadata": {
    "collapsed": false
   },
   "outputs": [
    {
     "name": "stdout",
     "output_type": "stream",
     "text": [
      "0.203929058663\n",
      "0.799589058883\n"
     ]
    }
   ],
   "source": [
    "prs = []\n",
    "recalls = []\n",
    "for i in range(len(test_sum['obs'])):\n",
    "    pr, recall = prec_recall(test_sum['obs'][i], test_sum['buy'][i], ppop_obs, 5)\n",
    "    prs.append(pr)\n",
    "    recalls.append(recall)\n",
    "print np.mean(prs)\n",
    "print np.mean(recalls)"
   ]
  },
  {
   "cell_type": "code",
   "execution_count": 74,
   "metadata": {
    "collapsed": true
   },
   "outputs": [],
   "source": [
    "write_file('recom_2.txt', ' '.join(map(str, [0.41, 0.48, 0.8, 0.2])))"
   ]
  },
  {
   "cell_type": "code",
   "execution_count": 75,
   "metadata": {
    "collapsed": false
   },
   "outputs": [
    {
     "name": "stdout",
     "output_type": "stream",
     "text": [
      "0.52551159618\n",
      "0.458761637898\n"
     ]
    }
   ],
   "source": [
    "prs = []\n",
    "recalls = []\n",
    "for i in range(len(test_sum['obs'])):\n",
    "    pr, recall = prec_recall_buy(test_sum['obs'][i], test_sum['buy'][i], ppop_buy, 1)\n",
    "    prs.append(pr)\n",
    "    recalls.append(recall)\n",
    "print np.mean(prs)\n",
    "print np.mean(recalls)"
   ]
  },
  {
   "cell_type": "code",
   "execution_count": 76,
   "metadata": {
    "collapsed": false
   },
   "outputs": [
    {
     "name": "stdout",
     "output_type": "stream",
     "text": [
      "0.209986357435\n",
      "0.820141958533\n"
     ]
    }
   ],
   "source": [
    "prs = []\n",
    "recalls = []\n",
    "for i in range(len(test_sum['obs'])):\n",
    "    pr, recall = prec_recall_buy(test_sum['obs'][i], test_sum['buy'][i], ppop_buy, 5)\n",
    "    prs.append(pr)\n",
    "    recalls.append(recall)\n",
    "print np.mean(prs)\n",
    "print np.mean(recalls)"
   ]
  },
  {
   "cell_type": "code",
   "execution_count": 77,
   "metadata": {
    "collapsed": true
   },
   "outputs": [],
   "source": [
    "write_file('recom_4.txt', ' '.join(map(str, [0.46, 0.53, 0.82, 0.21])))"
   ]
  },
  {
   "cell_type": "code",
   "execution_count": null,
   "metadata": {
    "collapsed": true
   },
   "outputs": [],
   "source": []
  }
 ],
 "metadata": {
  "anaconda-cloud": {},
  "kernelspec": {
   "display_name": "Python [default]",
   "language": "python",
   "name": "python2"
  },
  "language_info": {
   "codemirror_mode": {
    "name": "ipython",
    "version": 2
   },
   "file_extension": ".py",
   "mimetype": "text/x-python",
   "name": "python",
   "nbconvert_exporter": "python",
   "pygments_lexer": "ipython2",
   "version": "2.7.12"
  }
 },
 "nbformat": 4,
 "nbformat_minor": 1
}
